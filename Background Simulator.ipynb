{
 "cells": [
  {
   "cell_type": "markdown",
   "id": "5676d084",
   "metadata": {},
   "source": [
    "# Background Simulator\n",
    "\n",
    "Simulate the path from background objects to the camera."
   ]
  },
  {
   "cell_type": "code",
   "execution_count": 1,
   "id": "ee8ecc11",
   "metadata": {},
   "outputs": [
    {
     "name": "stdout",
     "output_type": "stream",
     "text": [
      "mempool.used_bytes 0\n"
     ]
    },
    {
     "name": "stderr",
     "output_type": "stream",
     "text": [
      "/home/joel/.local/lib/python3.8/site-packages/cupyx/jit/_interface.py:161: FutureWarning: cupyx.jit.rawkernel is experimental. The interface can change in the future.\n",
      "  cupy._util.experimental('cupyx.jit.rawkernel')\n"
     ]
    },
    {
     "ename": "NameError",
     "evalue": "name 'reflector_distance_m' is not defined",
     "output_type": "error",
     "traceback": [
      "\u001b[0;31m---------------------------------------------------------------------------\u001b[0m",
      "\u001b[0;31mNameError\u001b[0m                                 Traceback (most recent call last)",
      "\u001b[0;32m<ipython-input-1-0dd7c22320e1>\u001b[0m in \u001b[0;36m<module>\u001b[0;34m\u001b[0m\n\u001b[1;32m     15\u001b[0m \u001b[0mprint\u001b[0m\u001b[0;34m(\u001b[0m\u001b[0;34mf\"mempool.used_bytes {mempool.used_bytes()}\"\u001b[0m\u001b[0;34m)\u001b[0m\u001b[0;34m\u001b[0m\u001b[0;34m\u001b[0m\u001b[0m\n\u001b[1;32m     16\u001b[0m \u001b[0;34m\u001b[0m\u001b[0m\n\u001b[0;32m---> 17\u001b[0;31m \u001b[0mresults\u001b[0m \u001b[0;34m=\u001b[0m \u001b[0mresults\u001b[0m\u001b[0;34m.\u001b[0m\u001b[0mBackgroundSimulationResult\u001b[0m\u001b[0;34m(\u001b[0m\u001b[0;34m)\u001b[0m\u001b[0;34m\u001b[0m\u001b[0;34m\u001b[0m\u001b[0m\n\u001b[0m\u001b[1;32m     18\u001b[0m \u001b[0;31m#simulator = simulation.Simulator(results, waves = 40, bundles = 10000000, bundle_size = 1)\u001b[0m\u001b[0;34m\u001b[0m\u001b[0;34m\u001b[0m\u001b[0;34m\u001b[0m\u001b[0m\n\u001b[1;32m     19\u001b[0m \u001b[0;31m#simulator = simulation.Simulator(results, waves = 80, bundles =  5000000, bundle_size = 1)\u001b[0m\u001b[0;34m\u001b[0m\u001b[0;34m\u001b[0m\u001b[0;34m\u001b[0m\u001b[0m\n",
      "\u001b[0;32m~/OPTICS/SIM/optic-sim/results.py\u001b[0m in \u001b[0;36m__init__\u001b[0;34m(self)\u001b[0m\n\u001b[1;32m     63\u001b[0m \u001b[0;34m\u001b[0m\u001b[0m\n\u001b[1;32m     64\u001b[0m         self._source_stage = ResultStage(\"Background Source\", reflector_size_m,\n\u001b[0;32m---> 65\u001b[0;31m                                          reflector_distance_m)\n\u001b[0m\u001b[1;32m     66\u001b[0m         \u001b[0mself\u001b[0m\u001b[0;34m.\u001b[0m\u001b[0m_source_stage\u001b[0m\u001b[0;34m.\u001b[0m\u001b[0m_ray_length\u001b[0m \u001b[0;34m=\u001b[0m \u001b[0;36m0.1\u001b[0m\u001b[0;34m\u001b[0m\u001b[0;34m\u001b[0m\u001b[0m\n\u001b[1;32m     67\u001b[0m \u001b[0;34m\u001b[0m\u001b[0m\n",
      "\u001b[0;31mNameError\u001b[0m: name 'reflector_distance_m' is not defined"
     ]
    }
   ],
   "source": [
    "import cupy as cp\n",
    "import viz_cuda\n",
    "import results\n",
    "import simulation\n",
    "from pyinstrument import Profiler\n",
    "from pyinstrument.renderers import ConsoleRenderer\n",
    "\n",
    "import numpy as np\n",
    "np.set_printoptions(precision=6, linewidth=200)\n",
    "\n",
    "profiler = Profiler()\n",
    "\n",
    "mempool = cp.get_default_memory_pool()\n",
    "mempool.free_all_blocks()\n",
    "print(f\"mempool.used_bytes {mempool.used_bytes()}\")\n",
    "\n",
    "results = results.BackgroundSimulationResult()\n",
    "#simulator = simulation.Simulator(results, waves = 40, bundles = 10000000, bundle_size = 1)\n",
    "#simulator = simulation.Simulator(results, waves = 80, bundles =  5000000, bundle_size = 1)\n",
    "simulator = simulation.BackgroundSimulator(results, waves =  80, bundles =  5000000, bundle_size = 1)"
   ]
  },
  {
   "cell_type": "code",
   "execution_count": null,
   "id": "3f8c33be",
   "metadata": {
    "scrolled": false
   },
   "outputs": [],
   "source": [
    "profiler.reset()\n",
    "profiler.start()\n",
    "\n",
    "#simulator.run()\n",
    "simulator.run_all_waves()\n",
    "\n",
    "session = profiler.stop()\n",
    "profile_renderer = ConsoleRenderer(unicode=True, color=True, show_all=True)\n",
    "print(profile_renderer.render(session))"
   ]
  },
  {
   "cell_type": "code",
   "execution_count": null,
   "id": "5676f332",
   "metadata": {},
   "outputs": [],
   "source": [
    "print(cp.sum(results._source_stage._histogram_4d_count._hist))"
   ]
  },
  {
   "cell_type": "markdown",
   "id": "1846b8b5",
   "metadata": {},
   "source": [
    "# <center> Source"
   ]
  },
  {
   "cell_type": "code",
   "execution_count": null,
   "id": "69d78603",
   "metadata": {
    "scrolled": true
   },
   "outputs": [],
   "source": [
    "viz_cuda.summary(results._source_stage)\n",
    "viz_cuda.plot_all_histograms(results._source_stage)\n",
    "viz_cuda.plot_stages_3d([results._source_stage])"
   ]
  },
  {
   "cell_type": "markdown",
   "id": "5b329778",
   "metadata": {},
   "source": [
    "# <center> Camera Plane"
   ]
  },
  {
   "cell_type": "code",
   "execution_count": null,
   "id": "6f6b0c48",
   "metadata": {
    "scrolled": false
   },
   "outputs": [],
   "source": [
    "viz_cuda.summary(results._camera_plane_stage)\n",
    "viz_cuda.plot_all_histograms(results._camera_plane_stage)\n",
    "viz_cuda.plot_stages_3d([results._camera_plane_stage])"
   ]
  },
  {
   "cell_type": "code",
   "execution_count": null,
   "id": "14b4cc5a",
   "metadata": {
    "scrolled": false
   },
   "outputs": [],
   "source": [
    "viz_cuda.plot_stages_3d([results._diffuser_stage, results._camera_plane_stage])"
   ]
  },
  {
   "cell_type": "code",
   "execution_count": null,
   "id": "c1b3793e",
   "metadata": {},
   "outputs": [],
   "source": [
    "print(f\"camera total {simulator._camera._total}\")"
   ]
  }
 ],
 "metadata": {
  "kernelspec": {
   "display_name": "Python 3",
   "language": "python",
   "name": "python3"
  },
  "language_info": {
   "codemirror_mode": {
    "name": "ipython",
    "version": 3
   },
   "file_extension": ".py",
   "mimetype": "text/x-python",
   "name": "python",
   "nbconvert_exporter": "python",
   "pygments_lexer": "ipython3",
   "version": "3.8.10"
  }
 },
 "nbformat": 4,
 "nbformat_minor": 5
}
