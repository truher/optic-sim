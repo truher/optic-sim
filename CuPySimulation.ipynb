{
 "cells": [
  {
   "cell_type": "markdown",
   "id": "8e380f97",
   "metadata": {},
   "source": [
    "Cribbed from PyTissueOptics CuPy version."
   ]
  },
  {
   "cell_type": "code",
   "execution_count": 2,
   "id": "f7512c2d",
   "metadata": {},
   "outputs": [
    {
     "name": "stdout",
     "output_type": "stream",
     "text": [
      "CuPy version 11.0.0\n"
     ]
    }
   ],
   "source": [
    "import warnings\n",
    "warnings.filterwarnings(\"ignore\", category=FutureWarning)\n",
    "\n",
    "import cupy as cp\n",
    "import matplotlib.pyplot as plt\n",
    "import numpy as np\n",
    "from cupyx import jit\n",
    "from typing import Tuple\n",
    "\n",
    "print(f\"CuPy version {cp.__version__}\")"
   ]
  },
  {
   "cell_type": "code",
   "execution_count": 3,
   "id": "b02c8b04",
   "metadata": {
    "scrolled": true
   },
   "outputs": [
    {
     "name": "stdout",
     "output_type": "stream",
     "text": [
      "mempool.used_bytes 0\n"
     ]
    }
   ],
   "source": [
    "mempool = cp.get_default_memory_pool()\n",
    "mempool.free_all_blocks()\n",
    "print(f\"mempool.used_bytes {mempool.used_bytes()}\")"
   ]
  },
  {
   "cell_type": "code",
   "execution_count": 4,
   "id": "55db0186",
   "metadata": {},
   "outputs": [],
   "source": [
    "@jit.rawkernel(device=True)\n",
    "def _hanley(g: np.float32, r: np.float32) -> np.float32:\n",
    "    \"\"\"r: random[0,2g)\"\"\"\n",
    "    temp = (1 - g * g) / (1 - g + r)\n",
    "    cost = (1 + g * g - temp * temp) / (2 * g)\n",
    "    return cp.arccos(cost)\n",
    "\n",
    "@jit.rawkernel()\n",
    "def _hanley_loop(random_inout: cp.ndarray, g: np.float32, size: np.int32) -> None:\n",
    "    tid = jit.blockIdx.x * jit.blockDim.x + jit.threadIdx.x\n",
    "    ntid = jit.gridDim.x * jit.blockDim.x\n",
    "    for i in range(tid, size, ntid):\n",
    "        random_inout[i] = _hanley(g, random_inout[i])\n",
    "\n",
    "def get_scattering_theta(g: np.float32, size: np.int32) -> cp.ndarray:\n",
    "    random_input = cp.random.uniform(0, 2 * g, size, dtype=np.float32)\n",
    "    _hanley_loop((128,),(1024,),(random_input, g, size))\n",
    "    return random_input"
   ]
  },
  {
   "cell_type": "code",
   "execution_count": 5,
   "id": "59b2aeab",
   "metadata": {},
   "outputs": [],
   "source": [
    "def get_scattering_phi(size: np.int32) -> cp.ndarray:\n",
    "    return cp.random.uniform(0, 2 * np.pi, size, dtype=np.float32)"
   ]
  },
  {
   "cell_type": "code",
   "execution_count": 6,
   "id": "60669650",
   "metadata": {},
   "outputs": [],
   "source": [
    "@jit.rawkernel(device=True)\n",
    "def any_perpendicular(vx: np.float32, vy: np.float32, vz: np.float32) -> Tuple[np.float32, np.float32, np.float32]:\n",
    "    if vz < vx:\n",
    "        return (vy, -vx, 0.0)\n",
    "    return (0.0, -vz, vy)\n",
    "\n",
    "@jit.rawkernel(device=True)\n",
    "def normalize(x: np.float32, y: np.float32, z: np.float32) -> Tuple[np.float32, np.float32, np.float32]:\n",
    "    n = cp.sqrt(x * x + y * y + z * z)\n",
    "    return (x/n, y/n, z/n)\n",
    "\n",
    "@jit.rawkernel(device=True)\n",
    "def unitary_perpendicular(vx: np.float32, vy: np.float32, vz: np.float32) -> Tuple[np.float32, np.float32, np.float32]:\n",
    "    (ux, uy, uz) = any_perpendicular(vx, vy, vz)\n",
    "    return normalize(ux, uy, uz)    \n",
    "\n",
    "@jit.rawkernel(device=True)\n",
    "def do_rotation(X: np.float32, Y: np.float32, Z: np.float32, \n",
    "                ux: np.float32, uy: np.float32, uz: np.float32,\n",
    "                theta: np.float32) -> Tuple[np.float32, np.float32, np.float32]:\n",
    "    \"\"\" Rotate v around u. \"\"\"\n",
    "    cost = cp.cos(theta)\n",
    "    sint = cp.sin(theta)\n",
    "    one_cost = 1 - cost\n",
    "           \n",
    "    x = (cost + ux * ux * one_cost) * X + (ux * uy * one_cost - uz * sint) * Y + (\n",
    "            ux * uz * one_cost + uy * sint) * Z\n",
    "    y = (uy * ux * one_cost + uz * sint) * X + (cost + uy * uy * one_cost) * Y + (\n",
    "            uy * uz * one_cost - ux * sint) * Z\n",
    "    z = (uz * ux * one_cost - uy * sint) * X + (uz * uy * one_cost + ux * sint) * Y + (\n",
    "            cost + uz * uz * one_cost) * Z\n",
    "    \n",
    "    return (x, y, z)\n",
    "\n",
    "@jit.rawkernel()\n",
    "def scatter(vx: cp.ndarray, vy: cp.ndarray, vz: cp.ndarray,\n",
    "            theta: cp.ndarray, phi: cp.ndarray, size: np.int32) -> None:\n",
    "    tid = jit.blockIdx.x * jit.blockDim.x + jit.threadIdx.x\n",
    "    ntid = jit.gridDim.x * jit.blockDim.x\n",
    "    for i in range(tid, size, ntid):\n",
    "        (ux, uy, uz) = unitary_perpendicular(vx[i], vy[i], vz[i])\n",
    "\n",
    "        # first rotate the perpendicular around the photon axis\n",
    "        (ux, uy, uz) = do_rotation(ux, uy, uz, vx[i], vy[i], vz[i], phi[i])\n",
    "            \n",
    "        # then rotate the photon around that perpendicular\n",
    "        (vx[i], vy[i], vz[i]) = do_rotation(vx[i], vy[i], vz[i], ux, uy, uz, theta[i])\n",
    "\n",
    "def get_phi(y: cp.ndarray, x: cp.ndarray) -> cp.ndarray:\n",
    "    return cp.arctan2(y, x)\n",
    "\n",
    "def get_theta(z: cp.ndarray) -> cp.ndarray:\n",
    "    return cp.arccos(z)"
   ]
  },
  {
   "cell_type": "code",
   "execution_count": 7,
   "id": "5b6b7670",
   "metadata": {},
   "outputs": [],
   "source": [
    "g = np.float32(0.95)\n",
    "size = np.int32(20000000)"
   ]
  },
  {
   "cell_type": "code",
   "execution_count": 8,
   "id": "2b46d83a",
   "metadata": {},
   "outputs": [],
   "source": [
    "r_x = cp.random.random(size, dtype=np.float32)\n",
    "r_y = cp.random.random(size, dtype=np.float32)\n",
    "r_z = cp.random.random(size, dtype=np.float32)\n",
    "# isotropic\n",
    "# ez_x = cp.random.random(size, dtype=np.float32)\n",
    "# ez_y = cp.random.random(size, dtype=np.float32)\n",
    "# ez_z = cp.random.random(size, dtype=np.float32)\n",
    "# like the pencil case\n",
    "ez_x = cp.zeros(size, dtype=np.float32)\n",
    "ez_y = cp.zeros(size, dtype=np.float32)\n",
    "ez_z = cp.full(size, 1.0, dtype=np.float32)"
   ]
  },
  {
   "cell_type": "code",
   "execution_count": 9,
   "id": "ddfdfffd",
   "metadata": {
    "scrolled": true
   },
   "outputs": [
    {
     "name": "stdout",
     "output_type": "stream",
     "text": [
      "CPU times: user 117 ms, sys: 3.49 ms, total: 121 ms\n",
      "Wall time: 117 ms\n"
     ]
    }
   ],
   "source": [
    "%%time\n",
    "phi = get_scattering_phi(size)\n",
    "theta = get_scattering_theta(g, size)\n",
    "scatter((128,),(1024,),(ez_x, ez_y, ez_z, theta, phi, size))"
   ]
  },
  {
   "cell_type": "code",
   "execution_count": 10,
   "id": "9bca1361",
   "metadata": {
    "scrolled": true
   },
   "outputs": [
    {
     "data": {
      "text/plain": [
       "<BarContainer object of 50 artists>"
      ]
     },
     "execution_count": 10,
     "metadata": {},
     "output_type": "execute_result"
    },
    {
     "data": {
      "image/png": "[encoded data removed]",
      "text/plain": [
       "<Figure size 432x288 with 1 Axes>"
      ]
     },
     "metadata": {
      "needs_background": "light"
     },
     "output_type": "display_data"
    }
   ],
   "source": [
    "(hist, bin_edges) = cp.histogram(r_x, bins=50, range=(0,1))\n",
    "plt.bar(x=0.5 * (bin_edges.get()[:-1] + bin_edges.get()[1:]),\n",
    "        height=hist.get(), width = 0.01)"
   ]
  },
  {
   "cell_type": "code",
   "execution_count": 11,
   "id": "85dfbc87",
   "metadata": {},
   "outputs": [
    {
     "data": {
      "text/plain": [
       "<BarContainer object of 50 artists>"
      ]
     },
     "execution_count": 11,
     "metadata": {},
     "output_type": "execute_result"
    },
    {
     "data": {
      "image/png": "[encoded data removed]",
      "text/plain": [
       "<Figure size 432x288 with 1 Axes>"
      ]
     },
     "metadata": {
      "needs_background": "light"
     },
     "output_type": "display_data"
    }
   ],
   "source": [
    "(theta_hist, theta_bins) = cp.histogram(get_theta(ez_z), bins=50, range=(0, np.pi))\n",
    "plt.bar(x=0.5 * (theta_bins.get()[:-1] + theta_bins.get()[1:]),\n",
    "        height=theta_hist.get(), width=np.pi/100)"
   ]
  }
 ],
 "metadata": {
  "kernelspec": {
   "display_name": "Python 3",
   "language": "python",
   "name": "python3"
  },
  "language_info": {
   "codemirror_mode": {
    "name": "ipython",
    "version": 3
   },
   "file_extension": ".py",
   "mimetype": "text/x-python",
   "name": "python",
   "nbconvert_exporter": "python",
   "pygments_lexer": "ipython3",
   "version": "3.8.10"
  }
 },
 "nbformat": 4,
 "nbformat_minor": 5
}
