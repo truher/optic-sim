{
 "cells": [
  {
   "cell_type": "markdown",
   "id": "d825ac29",
   "metadata": {},
   "source": [
    "Cribbed from PyTissueOptics CuPy version."
   ]
  },
  {
   "cell_type": "code",
   "execution_count": 1,
   "id": "423b91fd",
   "metadata": {},
   "outputs": [
    {
     "name": "stdout",
     "output_type": "stream",
     "text": [
      "CuPy version 11.0.0\n"
     ]
    }
   ],
   "source": [
    "import numpy as np\n",
    "import cupy as cp\n",
    "from cupyx import jit\n",
    "from typing import Tuple\n",
    "print(f\"CuPy version {cp.__version__}\")"
   ]
  },
  {
   "cell_type": "code",
   "execution_count": 2,
   "id": "03b818b4",
   "metadata": {
    "scrolled": true
   },
   "outputs": [
    {
     "name": "stdout",
     "output_type": "stream",
     "text": [
      "mempool.used_bytes 0\n"
     ]
    }
   ],
   "source": [
    "mempool = cp.get_default_memory_pool()\n",
    "mempool.free_all_blocks()\n",
    "print(f\"mempool.used_bytes {mempool.used_bytes()}\")"
   ]
  },
  {
   "cell_type": "code",
   "execution_count": 3,
   "id": "e247866d",
   "metadata": {},
   "outputs": [
    {
     "name": "stderr",
     "output_type": "stream",
     "text": [
      "/home/joel/.local/lib/python3.8/site-packages/cupyx/jit/_interface.py:161: FutureWarning: cupyx.jit.rawkernel is experimental. The interface can change in the future.\n",
      "  cupy._util.experimental('cupyx.jit.rawkernel')\n"
     ]
    }
   ],
   "source": [
    "@jit.rawkernel()\n",
    "def _hanley(random_inout: cp.ndarray, g: float, size: int) -> cp.ndarray:\n",
    "    tid = jit.blockIdx.x * jit.blockDim.x + jit.threadIdx.x\n",
    "    ntid = jit.gridDim.x * jit.blockDim.x\n",
    "    for i in range(tid, size, ntid):\n",
    "        temp = (1 - g * g) / (1 - g + random_inout[i])\n",
    "        cost = (1 + g * g - temp * temp) / (2 * g)\n",
    "        random_inout[i] = cp.arccos(cost)\n",
    "\n",
    "def get_scattering_theta(g: float, size: int) -> cp.ndarray:\n",
    "    random_input = cp.random.uniform(0, 2 * g, size, dtype=np.float32)\n",
    "    _hanley((128,),(1024,),(random_input, g, size))\n",
    "    return random_input"
   ]
  },
  {
   "cell_type": "code",
   "execution_count": 4,
   "id": "d2f4eda0",
   "metadata": {},
   "outputs": [],
   "source": [
    "def get_scattering_phi(size: float) -> cp.ndarray:\n",
    "    return cp.random.uniform(0, 2 * np.pi, size)"
   ]
  },
  {
   "cell_type": "code",
   "execution_count": 5,
   "id": "c48aa6b9",
   "metadata": {},
   "outputs": [],
   "source": [
    "@jit.rawkernel(device=True)\n",
    "def any_perpendicular(vx: float, vy: float, vz: float) -> Tuple[float, float, float]:\n",
    "    if vz < vx:\n",
    "        return (vy, -vx, 0.0)\n",
    "    return (0.0, -vz, vy)\n",
    "\n",
    "@jit.rawkernel(device=True)\n",
    "def normalize(x: float, y: float, z: float) -> Tuple[float, float, float]:\n",
    "    n = cp.sqrt(x * x + y * y + z * z)\n",
    "    return (x/n, y/n, z/n)\n",
    "\n",
    "@jit.rawkernel(device=True)\n",
    "def unitary_perpendicular(vx: float, vy: float, vz: float) -> Tuple[float, float, float]:\n",
    "    (ux, uy, uz) = any_perpendicular(vx, vy, vz)\n",
    "    return normalize(ux, uy, uz)    \n",
    "\n",
    "@jit.rawkernel(device=True)\n",
    "def do_rotation(X: float, Y: float, Z: float, \n",
    "                ux: float, uy: float, uz: float,\n",
    "                theta: float) -> Tuple[float, float, float]:\n",
    "    \"\"\" Rotate v around u. \"\"\"\n",
    "    cost = cp.cos(theta)\n",
    "    sint = cp.sin(theta)\n",
    "    one_cost = 1 - cost\n",
    "           \n",
    "    x = (cost + ux * ux * one_cost) * X + (ux * uy * one_cost - uz * sint) * Y + (\n",
    "            ux * uz * one_cost + uy * sint) * Z\n",
    "    y = (uy * ux * one_cost + uz * sint) * X + (cost + uy * uy * one_cost) * Y + (\n",
    "            uy * uz * one_cost - ux * sint) * Z\n",
    "    z = (uz * ux * one_cost - uy * sint) * X + (uz * uy * one_cost + ux * sint) * Y + (\n",
    "            cost + uz * uz * one_cost) * Z\n",
    "    \n",
    "    return (x, y, z)\n",
    "\n",
    "@jit.rawkernel()\n",
    "def scatter(vx: cp.ndarray, vy: cp.ndarray, vz: cp.ndarray,\n",
    "            theta: cp.ndarray, phi: cp.ndarray, size: int) -> None:\n",
    "    tid = jit.blockIdx.x * jit.blockDim.x + jit.threadIdx.x\n",
    "    ntid = jit.gridDim.x * jit.blockDim.x\n",
    "    for i in range(tid, size, ntid):\n",
    "        (ux, uy, uz) = unitary_perpendicular(vx[i], vy[i], vz[i])\n",
    "\n",
    "        # first rotate the perpendicular around the photon axis\n",
    "        (ux, uy, uz) = do_rotation(ux, uy, uz, vx[i], vy[i], vz[i], phi[i])\n",
    "            \n",
    "        # then rotate the photon around that perpendicular\n",
    "        (vx[i], vy[i], vz[i]) = do_rotation(vx[i], vy[i], vz[i], ux, uy, uz, theta[i])"
   ]
  },
  {
   "cell_type": "code",
   "execution_count": 6,
   "id": "bbeebf74",
   "metadata": {},
   "outputs": [],
   "source": [
    "g = 0.9\n",
    "size = 50000000"
   ]
  },
  {
   "cell_type": "code",
   "execution_count": 7,
   "id": "7444ff76",
   "metadata": {},
   "outputs": [],
   "source": [
    "vx = cp.random.random(size, dtype=np.float32)\n",
    "vy = cp.random.random(size, dtype=np.float32)\n",
    "vz = cp.random.random(size, dtype=np.float32)"
   ]
  },
  {
   "cell_type": "code",
   "execution_count": 8,
   "id": "a2a389a1",
   "metadata": {},
   "outputs": [
    {
     "name": "stdout",
     "output_type": "stream",
     "text": [
      "CPU times: user 133 ms, sys: 2.63 ms, total: 136 ms\n",
      "Wall time: 135 ms\n"
     ]
    }
   ],
   "source": [
    "%%time\n",
    "phi = get_scattering_phi(size)\n",
    "theta = get_scattering_theta(g, size)\n",
    "scatter((128,),(1024,),(vx, vy, vz, theta, phi, size))"
   ]
  },
  {
   "cell_type": "code",
   "execution_count": 9,
   "id": "80542979",
   "metadata": {},
   "outputs": [
    {
     "name": "stdout",
     "output_type": "stream",
     "text": [
      "CPU times: user 0 ns, sys: 1.81 ms, total: 1.81 ms\n",
      "Wall time: 1.34 ms\n"
     ]
    }
   ],
   "source": [
    "%%time\n",
    "phi = get_scattering_phi(size)\n",
    "theta = get_scattering_theta(g, size)\n",
    "scatter((128,),(1024,),(vx, vy, vz, theta, phi, size))"
   ]
  }
 ],
 "metadata": {
  "kernelspec": {
   "display_name": "Python 3",
   "language": "python",
   "name": "python3"
  },
  "language_info": {
   "codemirror_mode": {
    "name": "ipython",
    "version": 3
   },
   "file_extension": ".py",
   "mimetype": "text/x-python",
   "name": "python",
   "nbconvert_exporter": "python",
   "pygments_lexer": "ipython3",
   "version": "3.8.10"
  }
 },
 "nbformat": 4,
 "nbformat_minor": 5
}
