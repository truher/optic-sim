{
 "cells": [
  {
   "cell_type": "markdown",
   "id": "50ab2a74",
   "metadata": {},
   "source": [
    "This demonstrates a more memory- and time-efficient approach to rotation, using jit.rawkernel in place."
   ]
  },
  {
   "cell_type": "code",
   "execution_count": 1,
   "id": "0b661d4f",
   "metadata": {
    "scrolled": true
   },
   "outputs": [
    {
     "name": "stdout",
     "output_type": "stream",
     "text": [
      "CuPy version 11.0.0\n",
      "mempool.used_bytes 0\n",
      "mempool.total_bytes 0\n"
     ]
    }
   ],
   "source": [
    "import numpy as np\n",
    "import cupy as cp\n",
    "from cupyx import jit\n",
    "from typing import Tuple\n",
    "print(f\"CuPy version {cp.__version__}\")\n",
    "mempool = cp.get_default_memory_pool()\n",
    "mempool.free_all_blocks()\n",
    "print(f\"mempool.used_bytes {mempool.used_bytes()}\")\n",
    "print(f\"mempool.total_bytes {mempool.total_bytes()}\")"
   ]
  },
  {
   "cell_type": "code",
   "execution_count": 2,
   "id": "da57f41a",
   "metadata": {},
   "outputs": [
    {
     "name": "stderr",
     "output_type": "stream",
     "text": [
      "/home/joel/.local/lib/python3.8/site-packages/cupyx/jit/_interface.py:161: FutureWarning: cupyx.jit.rawkernel is experimental. The interface can change in the future.\n",
      "  cupy._util.experimental('cupyx.jit.rawkernel')\n"
     ]
    }
   ],
   "source": [
    "@jit.rawkernel(device=True)\n",
    "def any_perpendicular(vx: float, vy: float, vz: float) -> Tuple[float, float, float]:\n",
    "    if vz < vx:\n",
    "        return (vy, -vx, 0.0)\n",
    "    return (0.0, -vz, vy)\n",
    "\n",
    "@jit.rawkernel(device=True)\n",
    "def normalize(x: float, y: float, z: float) -> Tuple[float, float, float]:\n",
    "    n = cp.sqrt(x * x + y * y + z * z)\n",
    "    return (x/n, y/n, z/n)\n",
    "\n",
    "@jit.rawkernel(device=True)\n",
    "def unitary_perpendicular(vx: float, vy: float, vz: float) -> Tuple[float, float, float]:\n",
    "    (ux, uy, uz) = any_perpendicular(vx, vy, vz)\n",
    "    return normalize(ux, uy, uz)    \n",
    "\n",
    "@jit.rawkernel(device=True)\n",
    "def do_rotation(X: float, Y: float, Z: float, \n",
    "                ux: float, uy: float, uz: float,\n",
    "                theta: float) -> Tuple[float, float, float]:\n",
    "    \"\"\" Rotate v around u. \"\"\"\n",
    "    cost = cp.cos(theta)\n",
    "    sint = cp.sin(theta)\n",
    "    one_cost = 1 - cost\n",
    "           \n",
    "    x = (cost + ux * ux * one_cost) * X + (ux * uy * one_cost - uz * sint) * Y + (\n",
    "            ux * uz * one_cost + uy * sint) * Z\n",
    "    y = (uy * ux * one_cost + uz * sint) * X + (cost + uy * uy * one_cost) * Y + (\n",
    "            uy * uz * one_cost - ux * sint) * Z\n",
    "    z = (uz * ux * one_cost - uy * sint) * X + (uz * uy * one_cost + ux * sint) * Y + (\n",
    "            cost + uz * uz * one_cost) * Z\n",
    "    \n",
    "    return (x, y, z)\n",
    "\n",
    "@jit.rawkernel()\n",
    "def scatter(vx: cp.ndarray, vy: cp.ndarray, vz: cp.ndarray,\n",
    "            theta: cp.ndarray, phi: cp.ndarray, size: float) -> None:\n",
    "    tid = jit.blockIdx.x * jit.blockDim.x + jit.threadIdx.x\n",
    "    ntid = jit.gridDim.x * jit.blockDim.x\n",
    "    for i in range(tid, size, ntid):\n",
    "        (ux, uy, uz) = unitary_perpendicular(vx[i], vy[i], vz[i])\n",
    "\n",
    "        # first rotate the perpendicular around the photon axis\n",
    "        (ux, uy, uz) = do_rotation(ux, uy, uz, vx[i], vy[i], vz[i], phi[i])\n",
    "            \n",
    "        # then rotate the photon around that perpendicular\n",
    "        (vx[i], vy[i], vz[i]) = do_rotation(vx[i], vy[i], vz[i], ux, uy, uz, theta[i])"
   ]
  },
  {
   "cell_type": "code",
   "execution_count": 3,
   "id": "18c2969f",
   "metadata": {
    "scrolled": true
   },
   "outputs": [
    {
     "name": "stdout",
     "output_type": "stream",
     "text": [
      "mempool.used_bytes 200000000\n",
      "mempool.used_bytes 400000000\n",
      "mempool.used_bytes 600000000\n",
      "mempool.used_bytes 1000000000\n"
     ]
    }
   ],
   "source": [
    "size = 50000000\n",
    "vx = cp.random.random(size, dtype=np.float32)\n",
    "print(f\"mempool.used_bytes {mempool.used_bytes()}\")\n",
    "vy = cp.random.random(size, dtype=np.float32)\n",
    "print(f\"mempool.used_bytes {mempool.used_bytes()}\")\n",
    "vz = cp.random.random(size, dtype=np.float32)\n",
    "print(f\"mempool.used_bytes {mempool.used_bytes()}\")\n",
    "phi = cp.random.random(size, dtype=np.float32)\n",
    "theta = cp.full(size, np.pi/2, dtype=np.float32)\n",
    "print(f\"mempool.used_bytes {mempool.used_bytes()}\")\n",
    "## for perpendicularity check. remove to see memory limits\n",
    "#rx = cp.copy(vx)\n",
    "#print(rx)\n",
    "#print(vx)\n",
    "#ry = cp.copy(vy)\n",
    "#rz = cp.copy(vz)"
   ]
  },
  {
   "cell_type": "code",
   "execution_count": 4,
   "id": "8ad9458f",
   "metadata": {},
   "outputs": [
    {
     "name": "stdout",
     "output_type": "stream",
     "text": [
      "CPU times: user 312 ms, sys: 11.8 ms, total: 324 ms\n",
      "Wall time: 322 ms\n"
     ]
    }
   ],
   "source": [
    "%%time\n",
    "scatter((128,),(1024,),(vx, vy, vz, theta, phi, size))"
   ]
  },
  {
   "cell_type": "code",
   "execution_count": 5,
   "id": "54108ca4",
   "metadata": {},
   "outputs": [
    {
     "name": "stdout",
     "output_type": "stream",
     "text": [
      "CPU times: user 90 µs, sys: 0 ns, total: 90 µs\n",
      "Wall time: 92.5 µs\n"
     ]
    }
   ],
   "source": [
    "%%time\n",
    "scatter((128,),(1024,),(vx, vy, vz, theta, phi, size))"
   ]
  },
  {
   "cell_type": "code",
   "execution_count": 6,
   "id": "f31f9f65",
   "metadata": {},
   "outputs": [
    {
     "name": "stdout",
     "output_type": "stream",
     "text": [
      "mempool.used_bytes 1000000000\n"
     ]
    }
   ],
   "source": [
    "print(f\"mempool.used_bytes {mempool.used_bytes()}\")\n",
    "# check perpendicularity\n",
    "#print(rx)\n",
    "#print(vx)\n",
    "#dot = (vx * rx + vy * ry + vz * rz)\n",
    "#print(cp.amax(dot))"
   ]
  },
  {
   "cell_type": "code",
   "execution_count": 7,
   "id": "4c026489",
   "metadata": {},
   "outputs": [],
   "source": [
    "del vx, vy, vz, theta, phi\n",
    "#del rx, ry, rz"
   ]
  }
 ],
 "metadata": {
  "kernelspec": {
   "display_name": "Python 3",
   "language": "python",
   "name": "python3"
  },
  "language_info": {
   "codemirror_mode": {
    "name": "ipython",
    "version": 3
   },
   "file_extension": ".py",
   "mimetype": "text/x-python",
   "name": "python",
   "nbconvert_exporter": "python",
   "pygments_lexer": "ipython3",
   "version": "3.8.10"
  }
 },
 "nbformat": 4,
 "nbformat_minor": 5
}
