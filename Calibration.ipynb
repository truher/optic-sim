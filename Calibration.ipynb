{
 "cells": [
  {
   "cell_type": "code",
   "execution_count": 7,
   "id": "b65e412f",
   "metadata": {},
   "outputs": [
    {
     "name": "stdout",
     "output_type": "stream",
     "text": [
      "wavelength nm 660\n",
      "wavelength m 6.6e-07\n",
      "frequency hz 454230996969696.94\n",
      "energy j 3.009766450225649e-19\n",
      "energy ev 1.8785484611090948\n",
      "pulse_length_s 0.001\n",
      "output_w 2\n",
      "pulse_j 0.002\n",
      "pulse_photons 6645033869156377.0\n",
      "bundles 10000000\n",
      "bundle_photons 664503386.9156377\n"
     ]
    }
   ],
   "source": [
    "from scipy import constants\n",
    "# sample \"photo red\" LED\n",
    "wavelength_nm = 660\n",
    "print(f\"wavelength nm {wavelength_nm}\")\n",
    "wavelength_m = wavelength_nm * 1e-9\n",
    "print(f\"wavelength m {wavelength_m}\")\n",
    "frequency_hz = constants.c/wavelength_m\n",
    "print(f\"frequency hz {frequency_hz}\")\n",
    "energy_j = constants.h * frequency_hz\n",
    "print(f\"energy j {energy_j}\")\n",
    "# just to check... should be about 2.3 eV\n",
    "energy_ev = energy_j / constants.eV\n",
    "print(f\"energy ev {energy_ev}\")\n",
    "pulse_length_s = 0.001\n",
    "print(f\"pulse_length_s {pulse_length_s}\")\n",
    "# example LED output at max 10% duty cycle power\n",
    "output_w = 2\n",
    "print(f\"output_w {output_w}\")\n",
    "pulse_j = output_w * pulse_length_s\n",
    "print(f\"pulse_j {pulse_j}\")\n",
    "pulse_photons = pulse_j / energy_j\n",
    "print(f\"pulse_photons {pulse_photons}\")\n",
    "# elsewhere we're simulating with this many bundles\n",
    "bundles = 10000000\n",
    "print(f\"bundles {bundles}\")\n",
    "bundle_photons = pulse_photons/bundles\n",
    "print(f\"bundle_photons {bundle_photons}\")"
   ]
  }
 ],
 "metadata": {
  "kernelspec": {
   "display_name": "Python 3",
   "language": "python",
   "name": "python3"
  },
  "language_info": {
   "codemirror_mode": {
    "name": "ipython",
    "version": 3
   },
   "file_extension": ".py",
   "mimetype": "text/x-python",
   "name": "python",
   "nbconvert_exporter": "python",
   "pygments_lexer": "ipython3",
   "version": "3.8.10"
  }
 },
 "nbformat": 4,
 "nbformat_minor": 5
}
