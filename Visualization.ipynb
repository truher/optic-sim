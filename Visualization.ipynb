{
 "cells": [
  {
   "cell_type": "code",
   "execution_count": 42,
   "id": "81f4031c",
   "metadata": {
    "scrolled": true
   },
   "outputs": [
    {
     "data": {
      "application/vnd.jupyter.widget-view+json": {
       "model_id": "5c832a4f2cd14db4978a40648043982b",
       "version_major": 2,
       "version_minor": 0
      },
      "text/plain": [
       "Output()"
      ]
     },
     "metadata": {},
     "output_type": "display_data"
    }
   ],
   "source": [
    "# sample of k3d vector field visualization\n",
    "import k3d\n",
    "import numpy as np\n",
    "\n",
    "def f(p):\n",
    "    x = p[0]\n",
    "    y = p[1]\n",
    "    z = p[2]\n",
    "    u = y * z\n",
    "    v = x * z\n",
    "    w = x * y\n",
    "    n = np.sqrt(u*u + v*v + w*w)\n",
    "    return [u/n, v/n, w/n]\n",
    "\n",
    "size = 5000\n",
    "x = np.random.uniform(-10, 10, size).astype(np.float32)\n",
    "y = np.random.uniform(-10, 10, size).astype(np.float32)\n",
    "z = np.random.uniform(-10, 10, size).astype(np.float32)\n",
    "origins = np.column_stack((x,y,z))\n",
    "vectors = np.apply_along_axis(f, 1, origins).astype(np.float32)\n",
    "plot = k3d.plot()\n",
    "plot += k3d.vectors(origins, vectors)\n",
    "plot.display()"
   ]
  },
  {
   "cell_type": "code",
   "execution_count": 105,
   "id": "c6755457",
   "metadata": {},
   "outputs": [
    {
     "data": {
      "application/vnd.jupyter.widget-view+json": {
       "model_id": "478ce324a89f4e49b1d6d302650ccfe7",
       "version_major": 2,
       "version_minor": 0
      },
      "text/plain": [
       "Output()"
      ]
     },
     "metadata": {},
     "output_type": "display_data"
    }
   ],
   "source": [
    "# with polygons\n",
    "import k3d\n",
    "import numpy as np\n",
    "\n",
    "def f(p):\n",
    "    x = p[0]\n",
    "    y = p[1]\n",
    "    z = p[2]\n",
    "    u = x/10\n",
    "    v = y/10\n",
    "    w = 1\n",
    "    n = np.sqrt(u*u + v*v + w*w)\n",
    "    return [u/n, v/n, w/n]\n",
    "\n",
    "size = 1000\n",
    "x = np.random.uniform(-10, 10, size).astype(np.float32)\n",
    "y = np.random.uniform(-10, 10, size).astype(np.float32)\n",
    "z = np.full(size, 20, dtype=np.float32)\n",
    "origins = np.column_stack((x,y,z))\n",
    "vectors = np.apply_along_axis(f, 1, origins).astype(np.float32)\n",
    "\n",
    "plot = k3d.plot()\n",
    "plot += k3d.vectors(origins, vectors, color=0xff0000)\n",
    "\n",
    "plot += k3d.label('LED', position=(1,1,0),  label_box=False)\n",
    "\n",
    "plot += k3d.label('diffuser', position=(10,10,20), label_box=False)\n",
    "\n",
    "plot += k3d.mesh([[-10,-10,20], [-10,10,20], [10,10,20], [10,-10,20]],\n",
    "                 [[0,1,2], [2,3,0]],\n",
    "                opacity = 0.5, color=0x00ffff, side='both')\n",
    "\n",
    "plot += k3d.mesh([[-1,-1,0], [-1,1,0], [1,1,0], [1,-1,0]],\n",
    "                 [[0,1,2], [2,3,0]],\n",
    "                opacity = 0.5, color=0xffff00, side='both')\n",
    "\n",
    "plot.display()"
   ]
  }
 ],
 "metadata": {
  "kernelspec": {
   "display_name": "Python 3",
   "language": "python",
   "name": "python3"
  },
  "language_info": {
   "codemirror_mode": {
    "name": "ipython",
    "version": 3
   },
   "file_extension": ".py",
   "mimetype": "text/x-python",
   "name": "python",
   "nbconvert_exporter": "python",
   "pygments_lexer": "ipython3",
   "version": "3.8.10"
  }
 },
 "nbformat": 4,
 "nbformat_minor": 5
}
