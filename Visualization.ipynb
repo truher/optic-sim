{
 "cells": [
  {
   "cell_type": "code",
   "execution_count": 41,
   "id": "81f4031c",
   "metadata": {},
   "outputs": [
    {
     "data": {
      "application/vnd.jupyter.widget-view+json": {
       "model_id": "c73157c9faef4005a5557d4421bfa185",
       "version_major": 2,
       "version_minor": 0
      },
      "text/plain": [
       "Output()"
      ]
     },
     "metadata": {},
     "output_type": "display_data"
    }
   ],
   "source": [
    "# sample of k3d vector field visualization\n",
    "import k3d\n",
    "import numpy as np\n",
    "from k3d.colormaps import matplotlib_color_maps\n",
    "from k3d.helpers import map_colors\n",
    "from k3d.transform import get_bounds_fit_matrix\n",
    "from numpy.linalg import norm\n",
    "\n",
    "def f(pp):\n",
    "    x = pp[0]\n",
    "    y = pp[1]\n",
    "    z = pp[2]\n",
    "    u = y * z\n",
    "    v = x * z\n",
    "    w = x * y\n",
    "    n = np.sqrt(u*u+v*v+w*w)\n",
    "    return [u/n, v/n, w/n]\n",
    "\n",
    "size = 5000\n",
    "x = np.random.uniform(-10, 10, size).astype(np.float32)\n",
    "y = np.random.uniform(-10, 10, size).astype(np.float32)\n",
    "z = np.random.uniform(-10, 10, size).astype(np.float32)\n",
    "origins = np.column_stack((x,y,z))\n",
    "vectors = np.apply_along_axis(f, 1, origins).astype(np.float32)\n",
    "plot = k3d.plot()\n",
    "plot += k3d.vectors(origins, vectors)\n",
    "plot.display()"
   ]
  }
 ],
 "metadata": {
  "kernelspec": {
   "display_name": "Python 3",
   "language": "python",
   "name": "python3"
  },
  "language_info": {
   "codemirror_mode": {
    "name": "ipython",
    "version": 3
   },
   "file_extension": ".py",
   "mimetype": "text/x-python",
   "name": "python",
   "nbconvert_exporter": "python",
   "pygments_lexer": "ipython3",
   "version": "3.8.10"
  }
 },
 "nbformat": 4,
 "nbformat_minor": 5
}
