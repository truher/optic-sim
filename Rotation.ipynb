{
 "cells": [
  {
   "cell_type": "markdown",
   "id": "77867c1c",
   "metadata": {},
   "source": [
    "This demonstrates the simpler slow rotation method, with lots of temporary allocations."
   ]
  },
  {
   "cell_type": "code",
   "execution_count": 1,
   "id": "f9e9abb1",
   "metadata": {},
   "outputs": [
    {
     "name": "stdout",
     "output_type": "stream",
     "text": [
      "CuPy version 11.0.0\n",
      "mempool.used_bytes 0\n"
     ]
    }
   ],
   "source": [
    "import numpy as np\n",
    "import cupy as cp\n",
    "print(f\"CuPy version {cp.__version__}\")\n",
    "mempool = cp.get_default_memory_pool()\n",
    "mempool.free_all_blocks()\n",
    "print(f\"mempool.used_bytes {mempool.used_bytes()}\")"
   ]
  },
  {
   "cell_type": "code",
   "execution_count": 2,
   "id": "b9082b83",
   "metadata": {},
   "outputs": [],
   "source": [
    "def anyPerpendicular(vx, vy, vz):\n",
    "    return (\n",
    "        cp.where(\n",
    "            vz < vx, vy, cp.zeros( len(vy) )),\n",
    "        cp.where(\n",
    "            vz < vx, -vx, -vz),\n",
    "        cp.where(\n",
    "            vz < vx, cp.zeros(len(vy)), vy)\n",
    "    )\n",
    "    \n",
    "@cp.fuse()\n",
    "def norm(vx, vy, vz):\n",
    "    return cp.sqrt(vx * vx + vy * vy + vz * vz)\n",
    "\n",
    "@cp.fuse()\n",
    "def normalize(vx, vy, vz):\n",
    "    vn = norm(vx, vy, vz)\n",
    "    #vn = vn[:, None]\n",
    "    return (vx/vn, vy/vn, vz/vn)\n",
    "\n",
    "@cp.fuse()\n",
    "def rotateAround(vx, vy, vz, ux, uy, uz, theta):\n",
    "    (ux, uy, uz) = normalize(ux, uy, uz)\n",
    "    \n",
    "    cost = cp.cos(theta)\n",
    "    sint = cp.sin(theta)\n",
    "    one_cost = 1 - cost\n",
    "        \n",
    "    X = vx\n",
    "    Y = vy\n",
    "    Z = vz\n",
    "    \n",
    "    x = (cost + ux * ux * one_cost) * X + (ux * uy * one_cost - uz * sint) * Y + (\n",
    "            ux * uz * one_cost + uy * sint) * Z\n",
    "    y = (uy * ux * one_cost + uz * sint) * X + (cost + uy * uy * one_cost) * Y + (\n",
    "            uy * uz * one_cost - ux * sint) * Z\n",
    "    z = (uz * ux * one_cost - uy * sint) * X + (uz * uy * one_cost + ux * sint) * Y + (\n",
    "            cost + uz * uz * one_cost) * Z\n",
    "\n",
    "    return (x, y, z)"
   ]
  },
  {
   "cell_type": "code",
   "execution_count": 3,
   "id": "42e03f05",
   "metadata": {},
   "outputs": [
    {
     "name": "stdout",
     "output_type": "stream",
     "text": [
      "mempool.used_bytes 60000256\n",
      "mempool.used_bytes 120000512\n",
      "mempool.used_bytes 180000768\n",
      "mempool.used_bytes 540001280\n"
     ]
    }
   ],
   "source": [
    "size = 15000000\n",
    "vx = cp.random.random(size, dtype=np.float32)\n",
    "print(f\"mempool.used_bytes {mempool.used_bytes()}\")\n",
    "vy = cp.random.random(size, dtype=np.float32)\n",
    "print(f\"mempool.used_bytes {mempool.used_bytes()}\")\n",
    "vz = cp.random.random(size, dtype=np.float32)\n",
    "print(f\"mempool.used_bytes {mempool.used_bytes()}\")\n",
    "# these should be perpendicular\n",
    "(ux, uy, uz) = anyPerpendicular(vx, vy, vz)\n",
    "#ux = cp.random.random(size, dtype=np.float32)\n",
    "#uy = cp.random.random(size, dtype=np.float32)\n",
    "#uz = cp.random.random(size, dtype=np.float32)\n",
    "#theta = cp.random.random(size, dtype=np.float32)\n",
    "theta = cp.full(size, np.pi/2,dtype=np.float32)\n",
    "print(f\"mempool.used_bytes {mempool.used_bytes()}\")"
   ]
  },
  {
   "cell_type": "code",
   "execution_count": 4,
   "id": "8705d86e",
   "metadata": {},
   "outputs": [
    {
     "name": "stdout",
     "output_type": "stream",
     "text": [
      "CPU times: user 4.29 ms, sys: 139 µs, total: 4.43 ms\n",
      "Wall time: 4.11 ms\n"
     ]
    }
   ],
   "source": [
    "%%time\n",
    "(rx, ry, rz) = rotateAround(vx, vy, vz, ux, uy, uz, theta)"
   ]
  },
  {
   "cell_type": "code",
   "execution_count": 5,
   "id": "5f9e0734",
   "metadata": {
    "scrolled": false
   },
   "outputs": [
    {
     "name": "stdout",
     "output_type": "stream",
     "text": [
      "CPU times: user 0 ns, sys: 1.96 ms, total: 1.96 ms\n",
      "Wall time: 1.73 ms\n"
     ]
    }
   ],
   "source": [
    "%%time\n",
    "(rx, ry, rz) = rotateAround(vx, vy, vz, ux, uy, uz, theta)"
   ]
  },
  {
   "cell_type": "code",
   "execution_count": 6,
   "id": "ceda0a9c",
   "metadata": {},
   "outputs": [
    {
     "name": "stdout",
     "output_type": "stream",
     "text": [
      "-2.4984611907609303e-12\n"
     ]
    }
   ],
   "source": [
    "# check perpendicularity\n",
    "dot = (vx * rx + vy * ry + vz * rz)\n",
    "print(cp.amax(dot))"
   ]
  },
  {
   "cell_type": "code",
   "execution_count": 7,
   "id": "e0de4e77",
   "metadata": {},
   "outputs": [],
   "source": [
    "del vx, vy, vz, ux, uy, uz, rx, ry, rz, theta"
   ]
  }
 ],
 "metadata": {
  "kernelspec": {
   "display_name": "Python 3",
   "language": "python",
   "name": "python3"
  },
  "language_info": {
   "codemirror_mode": {
    "name": "ipython",
    "version": 3
   },
   "file_extension": ".py",
   "mimetype": "text/x-python",
   "name": "python",
   "nbconvert_exporter": "python",
   "pygments_lexer": "ipython3",
   "version": "3.8.10"
  }
 },
 "nbformat": 4,
 "nbformat_minor": 5
}
