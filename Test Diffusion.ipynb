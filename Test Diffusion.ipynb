{
 "cells": [
  {
   "cell_type": "markdown",
   "id": "ad1ce686",
   "metadata": {},
   "source": [
    "something is wrong with the diffuser code"
   ]
  },
  {
   "cell_type": "code",
   "execution_count": 1,
   "id": "3e6720d5",
   "metadata": {},
   "outputs": [
    {
     "name": "stderr",
     "output_type": "stream",
     "text": [
      "/home/joel/.local/lib/python3.10/site-packages/cupyx/jit/_interface.py:173: FutureWarning: cupyx.jit.rawkernel is experimental. The interface can change in the future.\n",
      "  cupy._util.experimental('cupyx.jit.rawkernel')\n"
     ]
    },
    {
     "name": "stdout",
     "output_type": "stream",
     "text": [
      "[0. 0. 0. ... 0. 0. 0.]\n",
      "[0. 0. 0. ... 0. 0. 0.]\n",
      "[1. 1. 1. ... 1. 1. 1.]\n"
     ]
    },
    {
     "name": "stderr",
     "output_type": "stream",
     "text": [
      "/home/joel/.local/lib/python3.10/site-packages/cupyx/jit/_interface.py:173: FutureWarning: cupyx.jit.rawkernel is experimental. The interface can change in the future.\n",
      "  cupy._util.experimental('cupyx.jit.rawkernel')\n"
     ]
    }
   ],
   "source": [
    "import optics_cuda\n",
    "import cupy as cp\n",
    "import matplotlib.pyplot as plt\n",
    "import scattering\n",
    "import numpy as np\n",
    "\n",
    "source = optics_cuda.FatPencil(1,1,500,1,1)\n",
    "size = 1000000\n",
    "photons = source.make_photons(size)\n",
    "print(photons.ez_x)\n",
    "print(photons.ez_y)\n",
    "print(photons.ez_z)"
   ]
  },
  {
   "cell_type": "code",
   "execution_count": 2,
   "id": "0ef3e3e3",
   "metadata": {},
   "outputs": [
    {
     "ename": "AttributeError",
     "evalue": "module 'optics_cuda' has no attribute 'AcryliteDiffuser'",
     "output_type": "error",
     "traceback": [
      "\u001b[0;31m---------------------------------------------------------------------------\u001b[0m",
      "\u001b[0;31mAttributeError\u001b[0m                            Traceback (most recent call last)",
      "Cell \u001b[0;32mIn[2], line 1\u001b[0m\n\u001b[0;32m----> 1\u001b[0m diffuser \u001b[38;5;241m=\u001b[39m \u001b[43moptics_cuda\u001b[49m\u001b[38;5;241;43m.\u001b[39;49m\u001b[43mAcryliteDiffuser\u001b[49m()\n\u001b[1;32m      2\u001b[0m phi \u001b[38;5;241m=\u001b[39m scattering\u001b[38;5;241m.\u001b[39mget_scattering_phi(size)\n\u001b[1;32m      3\u001b[0m theta \u001b[38;5;241m=\u001b[39m diffuser\u001b[38;5;241m.\u001b[39m_scattering\u001b[38;5;241m.\u001b[39mget_scattering_theta(size)\n",
      "\u001b[0;31mAttributeError\u001b[0m: module 'optics_cuda' has no attribute 'AcryliteDiffuser'"
     ]
    }
   ],
   "source": [
    "diffuser = optics_cuda.AcryliteDiffuser()\n",
    "phi = scattering.get_scattering_phi(size)\n",
    "theta = diffuser._scattering.get_scattering_theta(size)\n",
    "print(phi)\n",
    "print(theta)"
   ]
  },
  {
   "cell_type": "code",
   "execution_count": null,
   "id": "d0baa2ef",
   "metadata": {
    "scrolled": true
   },
   "outputs": [],
   "source": [
    "scattering.scatter((2,),(1024,),(photons.ez_x,photons.ez_y,photons.ez_z,theta,phi,int(size)))\n",
    "print(photons.ez_x)\n",
    "print(photons.ez_y)\n",
    "print(photons.ez_z)"
   ]
  },
  {
   "cell_type": "code",
   "execution_count": null,
   "id": "c3b47be7",
   "metadata": {
    "scrolled": false
   },
   "outputs": [],
   "source": [
    "h,b = cp.histogram(cp.arccos(photons.ez_z), 100)\n",
    "fig = plt.figure(figsize=[15, 12])\n",
    "ax = plt.subplot(projection='polar')\n",
    "plt.plot(((b[:-1]+b[1:])/2).get(),h.get())"
   ]
  },
  {
   "cell_type": "code",
   "execution_count": null,
   "id": "4b7a2679",
   "metadata": {
    "scrolled": false
   },
   "outputs": [],
   "source": [
    "x = diffuser._scattering.get_scattering_theta(10000)\n",
    "h,b=cp.histogram(x,100)\n",
    "fig = plt.figure(figsize=[15, 12])\n",
    "ax = plt.subplot(projection='polar')\n",
    "plt.plot(((b[:-1]+b[1:])/2).get(),h.get())"
   ]
  },
  {
   "cell_type": "code",
   "execution_count": null,
   "id": "f52993cf",
   "metadata": {
    "scrolled": false
   },
   "outputs": [],
   "source": [
    "diffuser.diffuse(photons)\n",
    "print(photons.ez_x)\n",
    "print(photons.ez_y)\n",
    "print(photons.ez_z)"
   ]
  },
  {
   "cell_type": "code",
   "execution_count": null,
   "id": "697ce41b",
   "metadata": {},
   "outputs": [],
   "source": [
    "photons = source.make_photons(1)\n",
    "print(photons.ez_x)\n",
    "print(photons.ez_y)\n",
    "print(photons.ez_z)\n",
    "theta = cp.full(1, np.pi/4, dtype=np.float32)\n",
    "phi = cp.full(1, np.pi/2, dtype=np.float32)\n",
    "size = np.int32(1)\n",
    "scattering.scatter((1,),(1,),(photons.ez_x,photons.ez_y,photons.ez_z,theta,phi,size))\n",
    "print(photons.ez_x)\n",
    "print(photons.ez_y)\n",
    "print(photons.ez_z)"
   ]
  }
 ],
 "metadata": {
  "kernelspec": {
   "display_name": "Python 3",
   "language": "python",
   "name": "python3"
  },
  "language_info": {
   "codemirror_mode": {
    "name": "ipython",
    "version": 3
   },
   "file_extension": ".py",
   "mimetype": "text/x-python",
   "name": "python",
   "nbconvert_exporter": "python",
   "pygments_lexer": "ipython3",
   "version": "3.10.12"
  }
 },
 "nbformat": 4,
 "nbformat_minor": 5
}
