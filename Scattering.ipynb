{
 "cells": [
  {
   "cell_type": "markdown",
   "id": "6263e57a",
   "metadata": {},
   "source": [
    "This demonstrates two methods of scattering angle computation."
   ]
  },
  {
   "cell_type": "code",
   "execution_count": 1,
   "id": "c1afb3b9",
   "metadata": {},
   "outputs": [
    {
     "name": "stdout",
     "output_type": "stream",
     "text": [
      "CuPy version 11.0.0\n",
      "mempool.used_bytes 0\n"
     ]
    }
   ],
   "source": [
    "import numpy as np\n",
    "import cupy as cp\n",
    "from cupyx import jit\n",
    "print(f\"CuPy version {cp.__version__}\")\n",
    "mempool = cp.get_default_memory_pool()\n",
    "mempool.free_all_blocks()\n",
    "print(f\"mempool.used_bytes {mempool.used_bytes()}\")"
   ]
  },
  {
   "cell_type": "code",
   "execution_count": 2,
   "id": "24448d0f",
   "metadata": {
    "scrolled": true
   },
   "outputs": [
    {
     "name": "stderr",
     "output_type": "stream",
     "text": [
      "/home/joel/.local/lib/python3.8/site-packages/cupyx/jit/_interface.py:161: FutureWarning: cupyx.jit.rawkernel is experimental. The interface can change in the future.\n",
      "  cupy._util.experimental('cupyx.jit.rawkernel')\n"
     ]
    }
   ],
   "source": [
    "@cp.fuse()\n",
    "def get_theta_fuse(random_in, g):\n",
    "    temp = (1 - g * g) / (1 - g + random_in)\n",
    "    cost = (1 + g * g - temp * temp) / (2 * g)\n",
    "    return cp.arccos(cost)\n",
    "\n",
    "# deposit the output in the input location\n",
    "@jit.rawkernel()\n",
    "def get_theta_raw(random_inout, size):\n",
    "    tid = jit.blockIdx.x * jit.blockDim.x + jit.threadIdx.x\n",
    "    ntid = jit.gridDim.x * jit.blockDim.x\n",
    "    for i in range(tid, size, ntid):\n",
    "        temp = (1 - g * g) / (1 - g + random_inout[i])\n",
    "        cost = (1 + g * g - temp * temp) / (2 * g)\n",
    "        random_inout[i] = cp.arccos(cost)\n",
    "\n",
    "g = 0.9\n",
    "size = 300000000"
   ]
  },
  {
   "cell_type": "code",
   "execution_count": 3,
   "id": "ab83f851",
   "metadata": {
    "scrolled": false
   },
   "outputs": [],
   "source": [
    "#%%time\n",
    "#random_input_fuse = cp.random.uniform(0, 2 * g, size, dtype=np.float32)\n",
    "#theta_fuse = get_theta_fuse(random_input_fuse, g)"
   ]
  },
  {
   "cell_type": "code",
   "execution_count": 4,
   "id": "b6ac41a4",
   "metadata": {},
   "outputs": [],
   "source": [
    "#del random_input_fuse, theta_fuse"
   ]
  },
  {
   "cell_type": "code",
   "execution_count": 5,
   "id": "6526693d",
   "metadata": {},
   "outputs": [],
   "source": [
    "#%%time\n",
    "#random_input_fuse = cp.random.uniform(0, 2 * g, size, dtype=np.float32)\n",
    "#theta_fuse = get_theta_fuse(random_input_fuse, g)"
   ]
  },
  {
   "cell_type": "code",
   "execution_count": 6,
   "id": "8b88df2a",
   "metadata": {},
   "outputs": [],
   "source": [
    "#del random_input_fuse, theta_fuse"
   ]
  },
  {
   "cell_type": "code",
   "execution_count": 7,
   "id": "2273e60b",
   "metadata": {
    "scrolled": true
   },
   "outputs": [
    {
     "name": "stdout",
     "output_type": "stream",
     "text": [
      "CPU times: user 230 ms, sys: 32.9 ms, total: 263 ms\n",
      "Wall time: 262 ms\n"
     ]
    }
   ],
   "source": [
    "%%time\n",
    "random_input = cp.random.uniform(0, 2 * g, size, dtype=np.float32)\n",
    "get_theta_raw((128,), (1024,), (random_input, size))"
   ]
  },
  {
   "cell_type": "code",
   "execution_count": 8,
   "id": "e95ce161",
   "metadata": {},
   "outputs": [
    {
     "name": "stdout",
     "output_type": "stream",
     "text": [
      "mempool.used_bytes 1200000000\n"
     ]
    }
   ],
   "source": [
    "print(f\"mempool.used_bytes {mempool.used_bytes()}\")\n",
    "del random_input"
   ]
  },
  {
   "cell_type": "code",
   "execution_count": 9,
   "id": "84ea3d8b",
   "metadata": {},
   "outputs": [
    {
     "name": "stdout",
     "output_type": "stream",
     "text": [
      "CPU times: user 195 µs, sys: 60 µs, total: 255 µs\n",
      "Wall time: 189 µs\n"
     ]
    }
   ],
   "source": [
    "%%time\n",
    "random_input = cp.random.uniform(0, 2 * g, size, dtype=np.float32)\n",
    "get_theta_raw((128,), (1024,), (random_input, size))"
   ]
  },
  {
   "cell_type": "code",
   "execution_count": 10,
   "id": "d7fcbc63",
   "metadata": {},
   "outputs": [],
   "source": [
    "#del random_input_fuse, theta_fuse\n",
    "del random_input"
   ]
  }
 ],
 "metadata": {
  "kernelspec": {
   "display_name": "Python 3",
   "language": "python",
   "name": "python3"
  },
  "language_info": {
   "codemirror_mode": {
    "name": "ipython",
    "version": 3
   },
   "file_extension": ".py",
   "mimetype": "text/x-python",
   "name": "python",
   "nbconvert_exporter": "python",
   "pygments_lexer": "ipython3",
   "version": "3.8.10"
  }
 },
 "nbformat": 4,
 "nbformat_minor": 5
}
