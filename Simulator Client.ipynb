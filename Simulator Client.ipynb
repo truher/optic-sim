{
 "cells": [
  {
   "cell_type": "markdown",
   "id": "5676d084",
   "metadata": {},
   "source": [
    "# Simulator Client\n",
    "\n",
    "This version uses the end-to-end simulator library rather than doing work itself."
   ]
  },
  {
   "cell_type": "code",
   "execution_count": 1,
   "id": "282d8970",
   "metadata": {},
   "outputs": [
    {
     "name": "stdout",
     "output_type": "stream",
     "text": [
      "mempool.used_bytes 0\n"
     ]
    },
    {
     "name": "stderr",
     "output_type": "stream",
     "text": [
      "/home/joel/.local/lib/python3.8/site-packages/cupyx/jit/_interface.py:161: FutureWarning: cupyx.jit.rawkernel is experimental. The interface can change in the future.\n",
      "  cupy._util.experimental('cupyx.jit.rawkernel')\n",
      "/home/joel/OPTICS/SIM/optic-sim/simulation.py:6: TqdmExperimentalWarning: Using `tqdm.autonotebook.tqdm` in notebook mode. Use `tqdm.tqdm` instead to force console mode (e.g. in jupyter console)\n",
      "  from tqdm.autonotebook import tqdm, trange\n"
     ]
    }
   ],
   "source": [
    "import cupy as cp\n",
    "import viz_cuda\n",
    "import results\n",
    "import simulation\n",
    "from pyinstrument import Profiler\n",
    "from pyinstrument.renderers import ConsoleRenderer\n",
    "\n",
    "import numpy as np\n",
    "np.set_printoptions(precision=6, linewidth=200)\n",
    "\n",
    "profiler = Profiler()\n",
    "\n",
    "mempool = cp.get_default_memory_pool()\n",
    "mempool.free_all_blocks()\n",
    "print(f\"mempool.used_bytes {mempool.used_bytes()}\")\n",
    "\n",
    "results = results.SimulationResult()\n",
    "#simulator = simulation.Simulator(results, waves = 40, bundles = 10000000, bundle_size = 1)\n",
    "#simulator = simulation.Simulator(results, waves = 80, bundles =  5000000, bundle_size = 1)\n",
    "simulator = simulation.Simulator(results, waves = 40, bundles =   5000000, bundle_size = 1)"
   ]
  },
  {
   "cell_type": "code",
   "execution_count": null,
   "id": "3f8c33be",
   "metadata": {
    "scrolled": false
   },
   "outputs": [
    {
     "data": {
      "application/vnd.jupyter.widget-view+json": {
       "model_id": "917888ddd02f40b3a24913178a54c170",
       "version_major": 2,
       "version_minor": 0
      },
      "text/plain": [
       "  0%|          | 0/40 [00:00<?, ?it/s]"
      ]
     },
     "metadata": {},
     "output_type": "display_data"
    }
   ],
   "source": [
    "profiler.reset()\n",
    "profiler.start()\n",
    "\n",
    "#simulator.run()\n",
    "simulator.run_all_waves()\n",
    "\n",
    "session = profiler.stop()\n",
    "profile_renderer = ConsoleRenderer(unicode=True, color=True, show_all=True)\n",
    "print(profile_renderer.render(session))"
   ]
  },
  {
   "cell_type": "code",
   "execution_count": null,
   "id": "5676f332",
   "metadata": {},
   "outputs": [],
   "source": [
    "print(cp.sum(results._source_stage._histogram_4d_count._hist))\n",
    "print(cp.sum(results._box_stage._histogram_4d_count._hist))\n",
    "print(cp.sum(results._diffuser_stage._histogram_4d_count._hist))\n"
   ]
  },
  {
   "cell_type": "markdown",
   "id": "08aea727",
   "metadata": {},
   "source": [
    "# <center> Source"
   ]
  },
  {
   "cell_type": "code",
   "execution_count": null,
   "id": "69d78603",
   "metadata": {
    "scrolled": false
   },
   "outputs": [],
   "source": [
    "viz_cuda.summary(results._source_stage)\n",
    "viz_cuda.plot_all_histograms(results._source_stage)\n",
    "viz_cuda.plot_stages_3d([results._source_stage])"
   ]
  },
  {
   "cell_type": "markdown",
   "id": "138a2a51",
   "metadata": {},
   "source": [
    "# <center> Lightbox"
   ]
  },
  {
   "cell_type": "code",
   "execution_count": null,
   "id": "9e0ae2a7",
   "metadata": {
    "scrolled": false
   },
   "outputs": [],
   "source": [
    "viz_cuda.summary(results._box_stage)\n",
    "viz_cuda.plot_all_histograms(results._box_stage)\n",
    "viz_cuda.plot_stages_3d([results._box_stage])"
   ]
  },
  {
   "cell_type": "markdown",
   "id": "bc32c832",
   "metadata": {},
   "source": [
    "# <center> Diffuser"
   ]
  },
  {
   "cell_type": "code",
   "execution_count": null,
   "id": "0f31cea1",
   "metadata": {
    "scrolled": false
   },
   "outputs": [],
   "source": [
    "viz_cuda.summary(results._diffuser_stage)\n",
    "viz_cuda.plot_all_histograms(results._diffuser_stage)\n",
    "viz_cuda.plot_stages_3d([results._diffuser_stage])"
   ]
  },
  {
   "cell_type": "markdown",
   "id": "3e41e46b",
   "metadata": {},
   "source": [
    "# <center> Outbound"
   ]
  },
  {
   "cell_type": "code",
   "execution_count": null,
   "id": "ee01f063",
   "metadata": {
    "scrolled": false
   },
   "outputs": [],
   "source": [
    "viz_cuda.summary(results._outbound_stage)\n",
    "viz_cuda.plot_all_histograms(results._outbound_stage)\n",
    "viz_cuda.plot_stages_3d([results._outbound_stage])"
   ]
  },
  {
   "cell_type": "markdown",
   "id": "1353b170",
   "metadata": {},
   "source": [
    "# <center> Inbound"
   ]
  },
  {
   "cell_type": "code",
   "execution_count": null,
   "id": "939ef112",
   "metadata": {
    "scrolled": false
   },
   "outputs": [],
   "source": [
    "viz_cuda.summary(results._inbound_stage)\n",
    "viz_cuda.plot_all_histograms(results._inbound_stage)\n",
    "viz_cuda.plot_stages_3d([results._inbound_stage])"
   ]
  },
  {
   "cell_type": "markdown",
   "id": "1bd3a1f5",
   "metadata": {},
   "source": [
    "# <center> Camera Plane"
   ]
  },
  {
   "cell_type": "code",
   "execution_count": null,
   "id": "6f6b0c48",
   "metadata": {
    "scrolled": false
   },
   "outputs": [],
   "source": [
    "viz_cuda.summary(results._camera_plane_stage)\n",
    "viz_cuda.plot_all_histograms(results._camera_plane_stage)\n",
    "viz_cuda.plot_stages_3d([results._camera_plane_stage])"
   ]
  },
  {
   "cell_type": "code",
   "execution_count": null,
   "id": "14b4cc5a",
   "metadata": {
    "scrolled": false
   },
   "outputs": [],
   "source": [
    "viz_cuda.plot_stages_3d([results._diffuser_stage, results._camera_plane_stage])"
   ]
  }
 ],
 "metadata": {
  "kernelspec": {
   "display_name": "Python 3",
   "language": "python",
   "name": "python3"
  },
  "language_info": {
   "codemirror_mode": {
    "name": "ipython",
    "version": 3
   },
   "file_extension": ".py",
   "mimetype": "text/x-python",
   "name": "python",
   "nbconvert_exporter": "python",
   "pygments_lexer": "ipython3",
   "version": "3.8.10"
  }
 },
 "nbformat": 4,
 "nbformat_minor": 5
}
