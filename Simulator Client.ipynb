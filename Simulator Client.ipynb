{
 "cells": [
  {
   "cell_type": "markdown",
   "id": "5676d084",
   "metadata": {},
   "source": [
    "# Simulator Client\n",
    "\n",
    "This version uses the end-to-end simulator library rather than doing work itself."
   ]
  },
  {
   "cell_type": "code",
   "execution_count": 1,
   "id": "ad9e09b4",
   "metadata": {
    "scrolled": false
   },
   "outputs": [
    {
     "name": "stdout",
     "output_type": "stream",
     "text": [
      "mempool.used_bytes 0\n"
     ]
    },
    {
     "name": "stderr",
     "output_type": "stream",
     "text": [
      "/home/joel/.local/lib/python3.8/site-packages/cupyx/jit/_interface.py:161: FutureWarning: cupyx.jit.rawkernel is experimental. The interface can change in the future.\n",
      "  cupy._util.experimental('cupyx.jit.rawkernel')\n"
     ]
    }
   ],
   "source": [
    "import cupy as cp\n",
    "import viz_cuda\n",
    "import simulation\n",
    "from pyinstrument import Profiler\n",
    "from pyinstrument.renderers import ConsoleRenderer\n",
    "\n",
    "profiler = Profiler()\n",
    "\n",
    "mempool = cp.get_default_memory_pool()\n",
    "mempool.free_all_blocks()\n",
    "print(f\"mempool.used_bytes {mempool.used_bytes()}\")\n",
    "\n",
    "results = simulation.SimulationResult()\n",
    "simulator = simulation.Simulator(results, waves = 100, bundles = 20000000, bundle_size = 1)"
   ]
  },
  {
   "cell_type": "code",
   "execution_count": null,
   "id": "3f8c33be",
   "metadata": {
    "scrolled": false
   },
   "outputs": [],
   "source": [
    "profiler.reset()\n",
    "profiler.start()\n",
    "\n",
    "#simulator.run()\n",
    "simulator.run_all_waves()\n",
    "\n",
    "session = profiler.stop()\n",
    "profile_renderer = ConsoleRenderer(unicode=True, color=True, show_all=True)\n",
    "print(profile_renderer.render(session))"
   ]
  },
  {
   "cell_type": "code",
   "execution_count": null,
   "id": "69d78603",
   "metadata": {
    "scrolled": false
   },
   "outputs": [],
   "source": [
    "print(f\"LED emitted photons: {results._source_stage._photons_size}\")\n",
    "viz_cuda.plot_all_histograms(results._source_stage)\n",
    "viz_cuda.plot_stage_3d(results._source_stage)"
   ]
  },
  {
   "cell_type": "code",
   "execution_count": null,
   "id": "9e0ae2a7",
   "metadata": {
    "scrolled": false
   },
   "outputs": [],
   "source": [
    "print(f\"diffuser incident photons: {results._box_stage._photons_size}\")\n",
    "viz_cuda.plot_all_histograms(results._box_stage)\n",
    "viz_cuda.plot_stage_3d(results._box_stage)"
   ]
  },
  {
   "cell_type": "code",
   "execution_count": null,
   "id": "0f31cea1",
   "metadata": {
    "scrolled": false
   },
   "outputs": [],
   "source": [
    "print(f\"diffuser scattered photons: {results._diffuser_stage._photons_size}\")\n",
    "viz_cuda.plot_all_histograms(results._diffuser_stage)\n",
    "viz_cuda.plot_stage_3d(results._diffuser_stage)"
   ]
  },
  {
   "cell_type": "code",
   "execution_count": null,
   "id": "ee01f063",
   "metadata": {
    "scrolled": false
   },
   "outputs": [],
   "source": [
    "print(f\"reflector indicent photons: {results._outbound_stage._photons_size}\")\n",
    "viz_cuda.plot_all_histograms(results._outbound_stage)\n",
    "viz_cuda.plot_stage_3d(results._outbound_stage)"
   ]
  },
  {
   "cell_type": "code",
   "execution_count": null,
   "id": "939ef112",
   "metadata": {
    "scrolled": false
   },
   "outputs": [],
   "source": [
    "print(f\"reflected photons: {results._inbound_stage._photons_size}\")\n",
    "viz_cuda.plot_all_histograms(results._inbound_stage)\n",
    "viz_cuda.plot_stage_3d(results._inbound_stage)"
   ]
  },
  {
   "cell_type": "code",
   "execution_count": null,
   "id": "6f6b0c48",
   "metadata": {
    "scrolled": false
   },
   "outputs": [],
   "source": [
    "print(f\"camera plane photons: {results._camera_plane_stage._photons_size}\")\n",
    "viz_cuda.plot_all_histograms(results._camera_plane_stage)\n",
    "viz_cuda.plot_stage_3d(results._camera_plane_stage)"
   ]
  }
 ],
 "metadata": {
  "kernelspec": {
   "display_name": "Python 3",
   "language": "python",
   "name": "python3"
  },
  "language_info": {
   "codemirror_mode": {
    "name": "ipython",
    "version": 3
   },
   "file_extension": ".py",
   "mimetype": "text/x-python",
   "name": "python",
   "nbconvert_exporter": "python",
   "pygments_lexer": "ipython3",
   "version": "3.8.10"
  }
 },
 "nbformat": 4,
 "nbformat_minor": 5
}
