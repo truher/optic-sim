{
 "cells": [
  {
   "cell_type": "markdown",
   "id": "5676d084",
   "metadata": {},
   "source": [
    "# Simulator Client\n",
    "\n",
    "This version uses the end-to-end simulator library rather than doing work itself."
   ]
  },
  {
   "cell_type": "code",
   "execution_count": 1,
   "id": "ad9e09b4",
   "metadata": {
    "scrolled": true
   },
   "outputs": [
    {
     "name": "stdout",
     "output_type": "stream",
     "text": [
      "mempool.used_bytes 0\n"
     ]
    },
    {
     "name": "stderr",
     "output_type": "stream",
     "text": [
      "/home/joel/.local/lib/python3.8/site-packages/cupyx/jit/_interface.py:161: FutureWarning: cupyx.jit.rawkernel is experimental. The interface can change in the future.\n",
      "  cupy._util.experimental('cupyx.jit.rawkernel')\n",
      "/home/joel/.local/lib/python3.8/site-packages/cupyx/jit/_interface.py:161: FutureWarning: cupyx.jit.rawkernel is experimental. The interface can change in the future.\n",
      "  cupy._util.experimental('cupyx.jit.rawkernel')\n"
     ]
    }
   ],
   "source": [
    "import cupy as cp\n",
    "import viz_cuda\n",
    "import results\n",
    "import simulation\n",
    "from pyinstrument import Profiler\n",
    "from pyinstrument.renderers import ConsoleRenderer\n",
    "\n",
    "profiler = Profiler()\n",
    "\n",
    "mempool = cp.get_default_memory_pool()\n",
    "mempool.free_all_blocks()\n",
    "print(f\"mempool.used_bytes {mempool.used_bytes()}\")\n",
    "\n",
    "results = results.SimulationResult()\n",
    "simulator = simulation.Simulator(results, waves = 40, bundles = 10000000, bundle_size = 1)"
   ]
  },
  {
   "cell_type": "code",
   "execution_count": 2,
   "id": "3f8c33be",
   "metadata": {
    "scrolled": false
   },
   "outputs": [
    {
     "name": "stdout",
     "output_type": "stream",
     "text": [
      "photon batch energy joules: 1.790e-04\n",
      "photon batch power watts: 1.790e-01\n",
      "emitter area m^2: 1.000e-06\n",
      "batch radiosity w/m^2: 1.790e+05\n",
      "alive at Source: 10000000\n",
      "alive at Lightbox: 8449329\n",
      "alive at Diffuser: 6380843\n",
      "alive at Outbound: 239\n",
      "alive at Inbound: 239\n",
      "alive at Camera: 88\n",
      "photon batch energy joules: 1.790e-04\n",
      "photon batch power watts: 1.790e-01\n",
      "emitter area m^2: 1.000e-06\n",
      "batch radiosity w/m^2: 1.790e+05\n",
      "alive at Source: 20000000\n",
      "alive at Lightbox: 16898951\n",
      "alive at Diffuser: 12762711\n",
      "alive at Outbound: 468\n",
      "alive at Inbound: 468\n",
      "alive at Camera: 180\n",
      "photon batch energy joules: 1.790e-04\n",
      "photon batch power watts: 1.790e-01\n",
      "emitter area m^2: 1.000e-06\n",
      "batch radiosity w/m^2: 1.790e+05\n",
      "alive at Source: 30000000\n",
      "alive at Lightbox: 25347486\n",
      "alive at Diffuser: 19143519\n",
      "alive at Outbound: 703\n",
      "alive at Inbound: 703\n",
      "alive at Camera: 292\n",
      "photon batch energy joules: 1.790e-04\n",
      "photon batch power watts: 1.790e-01\n",
      "emitter area m^2: 1.000e-06\n",
      "batch radiosity w/m^2: 1.790e+05\n",
      "alive at Source: 40000000\n",
      "alive at Lightbox: 33799002\n",
      "alive at Diffuser: 25524853\n",
      "alive at Outbound: 929\n",
      "alive at Inbound: 929\n",
      "alive at Camera: 390\n",
      "photon batch energy joules: 1.790e-04\n",
      "photon batch power watts: 1.790e-01\n",
      "emitter area m^2: 1.000e-06\n",
      "batch radiosity w/m^2: 1.790e+05\n",
      "alive at Source: 50000000\n",
      "alive at Lightbox: 42248987\n",
      "alive at Diffuser: 31904563\n",
      "alive at Outbound: 1166\n",
      "alive at Inbound: 1166\n",
      "alive at Camera: 484\n",
      "photon batch energy joules: 1.790e-04\n",
      "photon batch power watts: 1.790e-01\n",
      "emitter area m^2: 1.000e-06\n",
      "batch radiosity w/m^2: 1.790e+05\n",
      "alive at Source: 60000000\n",
      "alive at Lightbox: 50698758\n",
      "alive at Diffuser: 38285897\n",
      "alive at Outbound: 1369\n",
      "alive at Inbound: 1369\n",
      "alive at Camera: 568\n",
      "photon batch energy joules: 1.790e-04\n",
      "photon batch power watts: 1.790e-01\n",
      "emitter area m^2: 1.000e-06\n",
      "batch radiosity w/m^2: 1.790e+05\n",
      "alive at Source: 70000000\n",
      "alive at Lightbox: 59149279\n",
      "alive at Diffuser: 44665164\n",
      "alive at Outbound: 1619\n",
      "alive at Inbound: 1619\n",
      "alive at Camera: 668\n",
      "photon batch energy joules: 1.790e-04\n",
      "photon batch power watts: 1.790e-01\n",
      "emitter area m^2: 1.000e-06\n",
      "batch radiosity w/m^2: 1.790e+05\n",
      "alive at Source: 80000000\n",
      "alive at Lightbox: 67600407\n",
      "alive at Diffuser: 51047740\n",
      "alive at Outbound: 1848\n",
      "alive at Inbound: 1848\n",
      "alive at Camera: 768\n",
      "photon batch energy joules: 1.790e-04\n",
      "photon batch power watts: 1.790e-01\n",
      "emitter area m^2: 1.000e-06\n",
      "batch radiosity w/m^2: 1.790e+05\n",
      "alive at Source: 90000000\n",
      "alive at Lightbox: 76052298\n",
      "alive at Diffuser: 57431986\n",
      "alive at Outbound: 2067\n",
      "alive at Inbound: 2067\n",
      "alive at Camera: 876\n",
      "photon batch energy joules: 1.790e-04\n",
      "photon batch power watts: 1.790e-01\n",
      "emitter area m^2: 1.000e-06\n",
      "batch radiosity w/m^2: 1.790e+05\n",
      "alive at Source: 100000000\n",
      "alive at Lightbox: 84500433\n",
      "alive at Diffuser: 63812151\n",
      "alive at Outbound: 2297\n",
      "alive at Inbound: 2297\n",
      "alive at Camera: 975\n",
      "photon batch energy joules: 1.790e-04\n",
      "photon batch power watts: 1.790e-01\n",
      "emitter area m^2: 1.000e-06\n",
      "batch radiosity w/m^2: 1.790e+05\n",
      "alive at Source: 110000000\n",
      "alive at Lightbox: 92951111\n",
      "alive at Diffuser: 70195434\n",
      "alive at Outbound: 2522\n",
      "alive at Inbound: 2522\n",
      "alive at Camera: 1067\n",
      "photon batch energy joules: 1.790e-04\n",
      "photon batch power watts: 1.790e-01\n",
      "emitter area m^2: 1.000e-06\n",
      "batch radiosity w/m^2: 1.790e+05\n",
      "alive at Source: 120000000\n",
      "alive at Lightbox: 101399599\n",
      "alive at Diffuser: 76574624\n",
      "alive at Outbound: 2762\n",
      "alive at Inbound: 2762\n",
      "alive at Camera: 1155\n",
      "photon batch energy joules: 1.790e-04\n",
      "photon batch power watts: 1.790e-01\n",
      "emitter area m^2: 1.000e-06\n",
      "batch radiosity w/m^2: 1.790e+05\n",
      "alive at Source: 130000000\n",
      "alive at Lightbox: 109847367\n",
      "alive at Diffuser: 82954960\n",
      "alive at Outbound: 3013\n",
      "alive at Inbound: 3013\n",
      "alive at Camera: 1275\n",
      "photon batch energy joules: 1.790e-04\n",
      "photon batch power watts: 1.790e-01\n",
      "emitter area m^2: 1.000e-06\n",
      "batch radiosity w/m^2: 1.790e+05\n",
      "alive at Source: 140000000\n",
      "alive at Lightbox: 118298479\n",
      "alive at Diffuser: 89338380\n",
      "alive at Outbound: 3249\n",
      "alive at Inbound: 3249\n",
      "alive at Camera: 1383\n",
      "photon batch energy joules: 1.790e-04\n",
      "photon batch power watts: 1.790e-01\n",
      "emitter area m^2: 1.000e-06\n",
      "batch radiosity w/m^2: 1.790e+05\n",
      "alive at Source: 150000000\n",
      "alive at Lightbox: 126748652\n"
     ]
    },
    {
     "ename": "KeyboardInterrupt",
     "evalue": "",
     "output_type": "error",
     "traceback": [
      "\u001b[0;31m---------------------------------------------------------------------------\u001b[0m",
      "\u001b[0;31mKeyboardInterrupt\u001b[0m                         Traceback (most recent call last)",
      "\u001b[0;32m<ipython-input-2-9ea745b9c55a>\u001b[0m in \u001b[0;36m<module>\u001b[0;34m\u001b[0m\n\u001b[1;32m      3\u001b[0m \u001b[0;34m\u001b[0m\u001b[0m\n\u001b[1;32m      4\u001b[0m \u001b[0;31m#simulator.run()\u001b[0m\u001b[0;34m\u001b[0m\u001b[0;34m\u001b[0m\u001b[0;34m\u001b[0m\u001b[0m\n\u001b[0;32m----> 5\u001b[0;31m \u001b[0msimulator\u001b[0m\u001b[0;34m.\u001b[0m\u001b[0mrun_all_waves\u001b[0m\u001b[0;34m(\u001b[0m\u001b[0;34m)\u001b[0m\u001b[0;34m\u001b[0m\u001b[0;34m\u001b[0m\u001b[0m\n\u001b[0m\u001b[1;32m      6\u001b[0m \u001b[0;34m\u001b[0m\u001b[0m\n\u001b[1;32m      7\u001b[0m \u001b[0msession\u001b[0m \u001b[0;34m=\u001b[0m \u001b[0mprofiler\u001b[0m\u001b[0;34m.\u001b[0m\u001b[0mstop\u001b[0m\u001b[0;34m(\u001b[0m\u001b[0;34m)\u001b[0m\u001b[0;34m\u001b[0m\u001b[0;34m\u001b[0m\u001b[0m\n",
      "\u001b[0;32m~/OPTICS/SIM/optic-sim/simulation.py\u001b[0m in \u001b[0;36mrun_all_waves\u001b[0;34m(self)\u001b[0m\n\u001b[1;32m     26\u001b[0m     \u001b[0;32mdef\u001b[0m \u001b[0mrun_all_waves\u001b[0m\u001b[0;34m(\u001b[0m\u001b[0mself\u001b[0m\u001b[0;34m)\u001b[0m\u001b[0;34m:\u001b[0m\u001b[0;34m\u001b[0m\u001b[0;34m\u001b[0m\u001b[0m\n\u001b[1;32m     27\u001b[0m         \u001b[0;32mfor\u001b[0m \u001b[0mi\u001b[0m \u001b[0;32min\u001b[0m \u001b[0mrange\u001b[0m\u001b[0;34m(\u001b[0m\u001b[0mself\u001b[0m\u001b[0;34m.\u001b[0m\u001b[0m_waves\u001b[0m\u001b[0;34m)\u001b[0m\u001b[0;34m:\u001b[0m\u001b[0;34m\u001b[0m\u001b[0;34m\u001b[0m\u001b[0m\n\u001b[0;32m---> 28\u001b[0;31m             \u001b[0mself\u001b[0m\u001b[0;34m.\u001b[0m\u001b[0mrun\u001b[0m\u001b[0;34m(\u001b[0m\u001b[0;34m)\u001b[0m\u001b[0;34m\u001b[0m\u001b[0;34m\u001b[0m\u001b[0m\n\u001b[0m\u001b[1;32m     29\u001b[0m \u001b[0;34m\u001b[0m\u001b[0m\n\u001b[1;32m     30\u001b[0m     \u001b[0;32mdef\u001b[0m \u001b[0mrun\u001b[0m\u001b[0;34m(\u001b[0m\u001b[0mself\u001b[0m\u001b[0;34m)\u001b[0m\u001b[0;34m:\u001b[0m\u001b[0;34m\u001b[0m\u001b[0;34m\u001b[0m\u001b[0m\n",
      "\u001b[0;32m~/OPTICS/SIM/optic-sim/simulation.py\u001b[0m in \u001b[0;36mrun\u001b[0;34m(self)\u001b[0m\n\u001b[1;32m     63\u001b[0m         )\n\u001b[1;32m     64\u001b[0m         \u001b[0mlightbox\u001b[0m\u001b[0;34m.\u001b[0m\u001b[0mpropagate_without_kernel\u001b[0m\u001b[0;34m(\u001b[0m\u001b[0mphotons\u001b[0m\u001b[0;34m)\u001b[0m\u001b[0;34m\u001b[0m\u001b[0;34m\u001b[0m\u001b[0m\n\u001b[0;32m---> 65\u001b[0;31m         \u001b[0mself\u001b[0m\u001b[0;34m.\u001b[0m\u001b[0mrecord_results\u001b[0m\u001b[0;34m(\u001b[0m\u001b[0mself\u001b[0m\u001b[0;34m.\u001b[0m\u001b[0m_results\u001b[0m\u001b[0;34m.\u001b[0m\u001b[0m_box_stage\u001b[0m\u001b[0;34m,\u001b[0m \u001b[0mphotons\u001b[0m\u001b[0;34m)\u001b[0m\u001b[0;34m\u001b[0m\u001b[0;34m\u001b[0m\u001b[0m\n\u001b[0m\u001b[1;32m     66\u001b[0m \u001b[0;34m\u001b[0m\u001b[0m\n\u001b[1;32m     67\u001b[0m         \u001b[0;31m# diffuse through the diffuser\u001b[0m\u001b[0;34m\u001b[0m\u001b[0;34m\u001b[0m\u001b[0;34m\u001b[0m\u001b[0m\n",
      "\u001b[0;32m~/OPTICS/SIM/optic-sim/simulation.py\u001b[0m in \u001b[0;36mrecord_results\u001b[0;34m(self, stage, photons)\u001b[0m\n\u001b[1;32m     99\u001b[0m         \u001b[0;31m# stats_cuda.histogram(photons, stage, neighborhood = stage._size_m,\u001b[0m\u001b[0;34m\u001b[0m\u001b[0;34m\u001b[0m\u001b[0;34m\u001b[0m\u001b[0m\n\u001b[1;32m    100\u001b[0m         \u001b[0;31m#    theta_min = stage._theta_min, theta_max = stage._theta_max)\u001b[0m\u001b[0;34m\u001b[0m\u001b[0;34m\u001b[0m\u001b[0;34m\u001b[0m\u001b[0m\n\u001b[0;32m--> 101\u001b[0;31m         \u001b[0mstats_cuda\u001b[0m\u001b[0;34m.\u001b[0m\u001b[0mhistogram\u001b[0m\u001b[0;34m(\u001b[0m\u001b[0mphotons\u001b[0m\u001b[0;34m,\u001b[0m \u001b[0mstage\u001b[0m\u001b[0;34m)\u001b[0m\u001b[0;34m\u001b[0m\u001b[0;34m\u001b[0m\u001b[0m\n\u001b[0m\u001b[1;32m    102\u001b[0m \u001b[0;34m\u001b[0m\u001b[0m\n\u001b[1;32m    103\u001b[0m \u001b[0;34m\u001b[0m\u001b[0m\n",
      "\u001b[0;32m~/OPTICS/SIM/optic-sim/stats_cuda.py\u001b[0m in \u001b[0;36mhistogram\u001b[0;34m(photon_batch, stage)\u001b[0m\n\u001b[1;32m     65\u001b[0m     )\n\u001b[1;32m     66\u001b[0m \u001b[0;34m\u001b[0m\u001b[0m\n\u001b[0;32m---> 67\u001b[0;31m     one_histogram(\n\u001b[0m\u001b[1;32m     68\u001b[0m         \u001b[0mgrid_size\u001b[0m\u001b[0;34m,\u001b[0m\u001b[0;34m\u001b[0m\u001b[0;34m\u001b[0m\u001b[0m\n\u001b[1;32m     69\u001b[0m         \u001b[0mblock_size\u001b[0m\u001b[0;34m,\u001b[0m\u001b[0;34m\u001b[0m\u001b[0;34m\u001b[0m\u001b[0m\n",
      "\u001b[0;32m~/OPTICS/SIM/optic-sim/stats_cuda.py\u001b[0m in \u001b[0;36mone_histogram\u001b[0;34m(grid_size, block_size, bins, size, photon_batch_alive, photon_batch_wavelength_nm, photon_batch_dimension1, photons_per_bundle, dim_min, dim_max, title, xlabel, ylabel, bin_area, duration_s, histogram_output)\u001b[0m\n\u001b[1;32m    193\u001b[0m \u001b[0;34m\u001b[0m\u001b[0m\n\u001b[1;32m    194\u001b[0m     \u001b[0mhistogram_output\u001b[0m\u001b[0;34m.\u001b[0m\u001b[0m_bin_edges\u001b[0m \u001b[0;34m=\u001b[0m \u001b[0mnp\u001b[0m\u001b[0;34m.\u001b[0m\u001b[0mlinspace\u001b[0m\u001b[0;34m(\u001b[0m\u001b[0mdim_min\u001b[0m\u001b[0;34m,\u001b[0m \u001b[0mdim_max\u001b[0m\u001b[0;34m,\u001b[0m \u001b[0mbins\u001b[0m \u001b[0;34m+\u001b[0m \u001b[0;36m1\u001b[0m\u001b[0;34m)\u001b[0m\u001b[0;34m\u001b[0m\u001b[0;34m\u001b[0m\u001b[0m\n\u001b[0;32m--> 195\u001b[0;31m     \u001b[0mhistogram_output\u001b[0m\u001b[0;34m.\u001b[0m\u001b[0madd\u001b[0m\u001b[0;34m(\u001b[0m\u001b[0mh\u001b[0m\u001b[0;34m.\u001b[0m\u001b[0mget\u001b[0m\u001b[0;34m(\u001b[0m\u001b[0;34m)\u001b[0m \u001b[0;34m/\u001b[0m \u001b[0;34m(\u001b[0m\u001b[0mbin_area\u001b[0m \u001b[0;34m*\u001b[0m \u001b[0mduration_s\u001b[0m\u001b[0;34m)\u001b[0m\u001b[0;34m)\u001b[0m\u001b[0;34m\u001b[0m\u001b[0;34m\u001b[0m\u001b[0m\n\u001b[0m\u001b[1;32m    196\u001b[0m     \u001b[0mhistogram_output\u001b[0m\u001b[0;34m.\u001b[0m\u001b[0m_title\u001b[0m \u001b[0;34m=\u001b[0m \u001b[0mtitle\u001b[0m\u001b[0;34m\u001b[0m\u001b[0;34m\u001b[0m\u001b[0m\n\u001b[1;32m    197\u001b[0m     \u001b[0mhistogram_output\u001b[0m\u001b[0;34m.\u001b[0m\u001b[0m_xlabel\u001b[0m \u001b[0;34m=\u001b[0m \u001b[0mxlabel\u001b[0m\u001b[0;34m\u001b[0m\u001b[0;34m\u001b[0m\u001b[0m\n",
      "\u001b[0;32m~/OPTICS/SIM/optic-sim/stats_cuda.py\u001b[0m in \u001b[0;36mone_histogram\u001b[0;34m(grid_size, block_size, bins, size, photon_batch_alive, photon_batch_wavelength_nm, photon_batch_dimension1, photons_per_bundle, dim_min, dim_max, title, xlabel, ylabel, bin_area, duration_s, histogram_output)\u001b[0m\n\u001b[1;32m    193\u001b[0m \u001b[0;34m\u001b[0m\u001b[0m\n\u001b[1;32m    194\u001b[0m     \u001b[0mhistogram_output\u001b[0m\u001b[0;34m.\u001b[0m\u001b[0m_bin_edges\u001b[0m \u001b[0;34m=\u001b[0m \u001b[0mnp\u001b[0m\u001b[0;34m.\u001b[0m\u001b[0mlinspace\u001b[0m\u001b[0;34m(\u001b[0m\u001b[0mdim_min\u001b[0m\u001b[0;34m,\u001b[0m \u001b[0mdim_max\u001b[0m\u001b[0;34m,\u001b[0m \u001b[0mbins\u001b[0m \u001b[0;34m+\u001b[0m \u001b[0;36m1\u001b[0m\u001b[0;34m)\u001b[0m\u001b[0;34m\u001b[0m\u001b[0;34m\u001b[0m\u001b[0m\n\u001b[0;32m--> 195\u001b[0;31m     \u001b[0mhistogram_output\u001b[0m\u001b[0;34m.\u001b[0m\u001b[0madd\u001b[0m\u001b[0;34m(\u001b[0m\u001b[0mh\u001b[0m\u001b[0;34m.\u001b[0m\u001b[0mget\u001b[0m\u001b[0;34m(\u001b[0m\u001b[0;34m)\u001b[0m \u001b[0;34m/\u001b[0m \u001b[0;34m(\u001b[0m\u001b[0mbin_area\u001b[0m \u001b[0;34m*\u001b[0m \u001b[0mduration_s\u001b[0m\u001b[0;34m)\u001b[0m\u001b[0;34m)\u001b[0m\u001b[0;34m\u001b[0m\u001b[0;34m\u001b[0m\u001b[0m\n\u001b[0m\u001b[1;32m    196\u001b[0m     \u001b[0mhistogram_output\u001b[0m\u001b[0;34m.\u001b[0m\u001b[0m_title\u001b[0m \u001b[0;34m=\u001b[0m \u001b[0mtitle\u001b[0m\u001b[0;34m\u001b[0m\u001b[0;34m\u001b[0m\u001b[0m\n\u001b[1;32m    197\u001b[0m     \u001b[0mhistogram_output\u001b[0m\u001b[0;34m.\u001b[0m\u001b[0m_xlabel\u001b[0m \u001b[0;34m=\u001b[0m \u001b[0mxlabel\u001b[0m\u001b[0;34m\u001b[0m\u001b[0;34m\u001b[0m\u001b[0m\n",
      "\u001b[0;32m~/.local/lib/python3.8/site-packages/pyinstrument/stack_sampler.py\u001b[0m in \u001b[0;36m_sample\u001b[0;34m(self, frame, event, arg)\u001b[0m\n\u001b[1;32m    111\u001b[0m         \u001b[0mself\u001b[0m\u001b[0;34m.\u001b[0m\u001b[0mlast_profile_time\u001b[0m \u001b[0;34m=\u001b[0m \u001b[0;36m0.0\u001b[0m\u001b[0;34m\u001b[0m\u001b[0;34m\u001b[0m\u001b[0m\n\u001b[1;32m    112\u001b[0m \u001b[0;34m\u001b[0m\u001b[0m\n\u001b[0;32m--> 113\u001b[0;31m     \u001b[0;32mdef\u001b[0m \u001b[0m_sample\u001b[0m\u001b[0;34m(\u001b[0m\u001b[0mself\u001b[0m\u001b[0;34m,\u001b[0m \u001b[0mframe\u001b[0m\u001b[0;34m:\u001b[0m \u001b[0mtypes\u001b[0m\u001b[0;34m.\u001b[0m\u001b[0mFrameType\u001b[0m\u001b[0;34m,\u001b[0m \u001b[0mevent\u001b[0m\u001b[0;34m:\u001b[0m \u001b[0mstr\u001b[0m\u001b[0;34m,\u001b[0m \u001b[0marg\u001b[0m\u001b[0;34m:\u001b[0m \u001b[0mAny\u001b[0m\u001b[0;34m)\u001b[0m\u001b[0;34m:\u001b[0m\u001b[0;34m\u001b[0m\u001b[0;34m\u001b[0m\u001b[0m\n\u001b[0m\u001b[1;32m    114\u001b[0m         \u001b[0;32mif\u001b[0m \u001b[0mevent\u001b[0m \u001b[0;34m==\u001b[0m \u001b[0;34m\"context_changed\"\u001b[0m\u001b[0;34m:\u001b[0m\u001b[0;34m\u001b[0m\u001b[0;34m\u001b[0m\u001b[0m\n\u001b[1;32m    115\u001b[0m             \u001b[0mnew\u001b[0m\u001b[0;34m,\u001b[0m \u001b[0mold\u001b[0m\u001b[0;34m,\u001b[0m \u001b[0mcoroutine_stack\u001b[0m \u001b[0;34m=\u001b[0m \u001b[0marg\u001b[0m\u001b[0;34m\u001b[0m\u001b[0;34m\u001b[0m\u001b[0m\n",
      "\u001b[0;31mKeyboardInterrupt\u001b[0m: "
     ]
    }
   ],
   "source": [
    "profiler.reset()\n",
    "profiler.start()\n",
    "\n",
    "#simulator.run()\n",
    "simulator.run_all_waves()\n",
    "\n",
    "session = profiler.stop()\n",
    "profile_renderer = ConsoleRenderer(unicode=True, color=True, show_all=True)\n",
    "print(profile_renderer.render(session))"
   ]
  },
  {
   "cell_type": "code",
   "execution_count": null,
   "id": "69d78603",
   "metadata": {
    "scrolled": false
   },
   "outputs": [],
   "source": [
    "viz_cuda.summary(results._source_stage)\n",
    "viz_cuda.plot_all_histograms(results._source_stage)\n",
    "viz_cuda.plot_stages_3d([results._source_stage])"
   ]
  },
  {
   "cell_type": "code",
   "execution_count": null,
   "id": "9e0ae2a7",
   "metadata": {
    "scrolled": false
   },
   "outputs": [],
   "source": [
    "viz_cuda.summary(results._box_stage)\n",
    "viz_cuda.plot_all_histograms(results._box_stage)\n",
    "viz_cuda.plot_stages_3d([results._box_stage])"
   ]
  },
  {
   "cell_type": "code",
   "execution_count": null,
   "id": "0f31cea1",
   "metadata": {
    "scrolled": false
   },
   "outputs": [],
   "source": [
    "viz_cuda.summary(results._diffuser_stage)\n",
    "viz_cuda.plot_all_histograms(results._diffuser_stage)\n",
    "viz_cuda.plot_stages_3d([results._diffuser_stage])"
   ]
  },
  {
   "cell_type": "code",
   "execution_count": null,
   "id": "ee01f063",
   "metadata": {
    "scrolled": false
   },
   "outputs": [],
   "source": [
    "viz_cuda.summary(results._outbound_stage)\n",
    "viz_cuda.plot_all_histograms(results._outbound_stage)\n",
    "viz_cuda.plot_stages_3d([results._outbound_stage])"
   ]
  },
  {
   "cell_type": "code",
   "execution_count": null,
   "id": "939ef112",
   "metadata": {
    "scrolled": false
   },
   "outputs": [],
   "source": [
    "viz_cuda.summary(results._inbound_stage)\n",
    "viz_cuda.plot_all_histograms(results._inbound_stage)\n",
    "viz_cuda.plot_stages_3d([results._inbound_stage])"
   ]
  },
  {
   "cell_type": "code",
   "execution_count": null,
   "id": "6f6b0c48",
   "metadata": {
    "scrolled": true
   },
   "outputs": [],
   "source": [
    "viz_cuda.summary(results._camera_plane_stage)\n",
    "viz_cuda.plot_all_histograms(results._camera_plane_stage)\n",
    "viz_cuda.plot_stages_3d([results._camera_plane_stage])"
   ]
  },
  {
   "cell_type": "code",
   "execution_count": null,
   "id": "14b4cc5a",
   "metadata": {
    "scrolled": false
   },
   "outputs": [],
   "source": [
    "viz_cuda.plot_stages_3d([results._diffuser_stage, results._camera_plane_stage])"
   ]
  }
 ],
 "metadata": {
  "kernelspec": {
   "display_name": "Python 3",
   "language": "python",
   "name": "python3"
  },
  "language_info": {
   "codemirror_mode": {
    "name": "ipython",
    "version": 3
   },
   "file_extension": ".py",
   "mimetype": "text/x-python",
   "name": "python",
   "nbconvert_exporter": "python",
   "pygments_lexer": "ipython3",
   "version": "3.8.10"
  }
 },
 "nbformat": 4,
 "nbformat_minor": 5
}
