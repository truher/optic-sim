{
 "cells": [
  {
   "cell_type": "markdown",
   "id": "5676d084",
   "metadata": {},
   "source": [
    "# Simulator Client\n",
    "\n",
    "This version uses the end-to-end simulator library rather than doing work itself."
   ]
  },
  {
   "cell_type": "code",
   "execution_count": 1,
   "id": "ad9e09b4",
   "metadata": {
    "scrolled": true
   },
   "outputs": [
    {
     "name": "stdout",
     "output_type": "stream",
     "text": [
      "mempool.used_bytes 0\n"
     ]
    },
    {
     "name": "stderr",
     "output_type": "stream",
     "text": [
      "/home/joel/.local/lib/python3.8/site-packages/cupyx/jit/_interface.py:161: FutureWarning: cupyx.jit.rawkernel is experimental. The interface can change in the future.\n",
      "  cupy._util.experimental('cupyx.jit.rawkernel')\n",
      "/home/joel/.local/lib/python3.8/site-packages/cupyx/jit/_interface.py:161: FutureWarning: cupyx.jit.rawkernel is experimental. The interface can change in the future.\n",
      "  cupy._util.experimental('cupyx.jit.rawkernel')\n"
     ]
    }
   ],
   "source": [
    "import cupy as cp\n",
    "import viz_cuda\n",
    "import results\n",
    "import simulation\n",
    "from pyinstrument import Profiler\n",
    "from pyinstrument.renderers import ConsoleRenderer\n",
    "\n",
    "profiler = Profiler()\n",
    "\n",
    "mempool = cp.get_default_memory_pool()\n",
    "mempool.free_all_blocks()\n",
    "print(f\"mempool.used_bytes {mempool.used_bytes()}\")\n",
    "\n",
    "results = results.SimulationResult()\n",
    "simulator = simulation.Simulator(results, waves = 40, bundles = 10000000, bundle_size = 1)"
   ]
  },
  {
   "cell_type": "code",
   "execution_count": null,
   "id": "3f8c33be",
   "metadata": {
    "scrolled": false
   },
   "outputs": [
    {
     "name": "stdout",
     "output_type": "stream",
     "text": [
      "photon batch energy joules: 1.790e-04\n",
      "photon batch power watts: 1.790e-01\n",
      "emitter area m^2: 1.000e-06\n",
      "batch radiosity w/m^2: 1.790e+05\n",
      "alive at Source: 10000000\n",
      "alive at Lightbox: 8449329\n",
      "alive at Diffuser: 6380843\n",
      "alive at Outbound: 239\n",
      "alive at Inbound: 239\n",
      "alive at Camera: 88\n",
      "photon batch energy joules: 1.790e-04\n",
      "photon batch power watts: 1.790e-01\n",
      "emitter area m^2: 1.000e-06\n",
      "batch radiosity w/m^2: 1.790e+05\n",
      "alive at Source: 20000000\n",
      "alive at Lightbox: 16898951\n",
      "alive at Diffuser: 12762711\n",
      "alive at Outbound: 468\n",
      "alive at Inbound: 468\n",
      "alive at Camera: 180\n",
      "photon batch energy joules: 1.790e-04\n",
      "photon batch power watts: 1.790e-01\n",
      "emitter area m^2: 1.000e-06\n",
      "batch radiosity w/m^2: 1.790e+05\n",
      "alive at Source: 30000000\n",
      "alive at Lightbox: 25347486\n",
      "alive at Diffuser: 19143519\n",
      "alive at Outbound: 703\n",
      "alive at Inbound: 703\n",
      "alive at Camera: 292\n",
      "photon batch energy joules: 1.790e-04\n",
      "photon batch power watts: 1.790e-01\n",
      "emitter area m^2: 1.000e-06\n",
      "batch radiosity w/m^2: 1.790e+05\n",
      "alive at Source: 40000000\n",
      "alive at Lightbox: 33799002\n",
      "alive at Diffuser: 25524853\n",
      "alive at Outbound: 929\n",
      "alive at Inbound: 929\n",
      "alive at Camera: 390\n",
      "photon batch energy joules: 1.790e-04\n",
      "photon batch power watts: 1.790e-01\n",
      "emitter area m^2: 1.000e-06\n",
      "batch radiosity w/m^2: 1.790e+05\n",
      "alive at Source: 50000000\n",
      "alive at Lightbox: 42248987\n",
      "alive at Diffuser: 31904563\n",
      "alive at Outbound: 1166\n",
      "alive at Inbound: 1166\n",
      "alive at Camera: 484\n",
      "photon batch energy joules: 1.790e-04\n",
      "photon batch power watts: 1.790e-01\n",
      "emitter area m^2: 1.000e-06\n",
      "batch radiosity w/m^2: 1.790e+05\n",
      "alive at Source: 60000000\n",
      "alive at Lightbox: 50698758\n",
      "alive at Diffuser: 38285897\n",
      "alive at Outbound: 1369\n",
      "alive at Inbound: 1369\n",
      "alive at Camera: 568\n",
      "photon batch energy joules: 1.790e-04\n",
      "photon batch power watts: 1.790e-01\n",
      "emitter area m^2: 1.000e-06\n",
      "batch radiosity w/m^2: 1.790e+05\n",
      "alive at Source: 70000000\n",
      "alive at Lightbox: 59149279\n",
      "alive at Diffuser: 44665164\n",
      "alive at Outbound: 1619\n",
      "alive at Inbound: 1619\n",
      "alive at Camera: 668\n",
      "photon batch energy joules: 1.790e-04\n",
      "photon batch power watts: 1.790e-01\n",
      "emitter area m^2: 1.000e-06\n",
      "batch radiosity w/m^2: 1.790e+05\n",
      "alive at Source: 80000000\n",
      "alive at Lightbox: 67600407\n"
     ]
    }
   ],
   "source": [
    "profiler.reset()\n",
    "profiler.start()\n",
    "\n",
    "#simulator.run()\n",
    "simulator.run_all_waves()\n",
    "\n",
    "session = profiler.stop()\n",
    "profile_renderer = ConsoleRenderer(unicode=True, color=True, show_all=True)\n",
    "print(profile_renderer.render(session))"
   ]
  },
  {
   "cell_type": "code",
   "execution_count": null,
   "id": "69d78603",
   "metadata": {
    "scrolled": false
   },
   "outputs": [],
   "source": [
    "viz_cuda.summary(results._source_stage)\n",
    "viz_cuda.plot_all_histograms(results._source_stage)\n",
    "viz_cuda.plot_stages_3d([results._source_stage])"
   ]
  },
  {
   "cell_type": "code",
   "execution_count": null,
   "id": "9e0ae2a7",
   "metadata": {
    "scrolled": false
   },
   "outputs": [],
   "source": [
    "viz_cuda.summary(results._box_stage)\n",
    "viz_cuda.plot_all_histograms(results._box_stage)\n",
    "viz_cuda.plot_stages_3d([results._box_stage])"
   ]
  },
  {
   "cell_type": "code",
   "execution_count": null,
   "id": "0f31cea1",
   "metadata": {
    "scrolled": false
   },
   "outputs": [],
   "source": [
    "viz_cuda.summary(results._diffuser_stage)\n",
    "viz_cuda.plot_all_histograms(results._diffuser_stage)\n",
    "viz_cuda.plot_stages_3d([results._diffuser_stage])"
   ]
  },
  {
   "cell_type": "code",
   "execution_count": null,
   "id": "ee01f063",
   "metadata": {
    "scrolled": false
   },
   "outputs": [],
   "source": [
    "viz_cuda.summary(results._outbound_stage)\n",
    "viz_cuda.plot_all_histograms(results._outbound_stage)\n",
    "viz_cuda.plot_stages_3d([results._outbound_stage])"
   ]
  },
  {
   "cell_type": "code",
   "execution_count": null,
   "id": "939ef112",
   "metadata": {
    "scrolled": false
   },
   "outputs": [],
   "source": [
    "viz_cuda.summary(results._inbound_stage)\n",
    "viz_cuda.plot_all_histograms(results._inbound_stage)\n",
    "viz_cuda.plot_stages_3d([results._inbound_stage])"
   ]
  },
  {
   "cell_type": "code",
   "execution_count": null,
   "id": "6f6b0c48",
   "metadata": {
    "scrolled": true
   },
   "outputs": [],
   "source": [
    "viz_cuda.summary(results._camera_plane_stage)\n",
    "viz_cuda.plot_all_histograms(results._camera_plane_stage)\n",
    "viz_cuda.plot_stages_3d([results._camera_plane_stage])"
   ]
  },
  {
   "cell_type": "code",
   "execution_count": null,
   "id": "14b4cc5a",
   "metadata": {
    "scrolled": false
   },
   "outputs": [],
   "source": [
    "viz_cuda.plot_stages_3d([results._diffuser_stage, results._camera_plane_stage])"
   ]
  }
 ],
 "metadata": {
  "kernelspec": {
   "display_name": "Python 3",
   "language": "python",
   "name": "python3"
  },
  "language_info": {
   "codemirror_mode": {
    "name": "ipython",
    "version": 3
   },
   "file_extension": ".py",
   "mimetype": "text/x-python",
   "name": "python",
   "nbconvert_exporter": "python",
   "pygments_lexer": "ipython3",
   "version": "3.8.10"
  }
 },
 "nbformat": 4,
 "nbformat_minor": 5
}
