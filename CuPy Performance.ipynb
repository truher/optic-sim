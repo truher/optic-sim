{
 "cells": [
  {
   "cell_type": "markdown",
   "id": "5c66df35",
   "metadata": {},
   "source": [
    "try some cupy basics here.\n",
    "\n",
    "do some stuff kinda like the photon simulator does.  the main hard things it does are\n",
    "\n",
    "* rotation\n",
    "* scattering\n"
   ]
  },
  {
   "cell_type": "code",
   "execution_count": 1,
   "id": "bd7cd8f9",
   "metadata": {},
   "outputs": [
    {
     "name": "stdout",
     "output_type": "stream",
     "text": [
      "CuPy version 13.2.0\n"
     ]
    }
   ],
   "source": [
    "## %load_ext pyinstrument\n",
    "import numpy as np\n",
    "import cupy as cp\n",
    "from cupyx import jit\n",
    "import math\n",
    "\n",
    "print(f\"CuPy version {cp.__version__}\")"
   ]
  },
  {
   "cell_type": "code",
   "execution_count": 2,
   "id": "96fce2e4",
   "metadata": {},
   "outputs": [
    {
     "name": "stderr",
     "output_type": "stream",
     "text": [
      "/home/joel/.local/lib/python3.10/site-packages/cupyx/jit/_interface.py:173: FutureWarning: cupyx.jit.rawkernel is experimental. The interface can change in the future.\n",
      "  cupy._util.experimental('cupyx.jit.rawkernel')\n"
     ]
    }
   ],
   "source": [
    "def rotateAround(X, Y, Z, ux, uy, uz, theta):\n",
    "    # u.normalize()\n",
    "    # print(theta.v)\n",
    "    cost = np.cos(theta)\n",
    "    sint = np.sin(theta)\n",
    "    one_cost = (1 - cost)\n",
    "\n",
    "    X = (cost + ux * ux * one_cost) * X + (ux * uy * one_cost - uz * sint) * Y + (\n",
    "        ux * uz * one_cost + uy * sint) * Z\n",
    "    Y = (uy * ux * one_cost + uz * sint) * X + (cost + uy * uy * one_cost) * Y + (\n",
    "        uy * uz * one_cost - ux * sint) * Z\n",
    "    Z = (uz * ux * one_cost - uy * sint) * X + (uz * uy * one_cost + ux * sint) * Y + (\n",
    "        cost + uz * uz * one_cost) * Z\n",
    "\n",
    "\n",
    "    \n",
    "\n",
    "    \n",
    "    \n",
    "    \n",
    "gpu_k = cp.ElementwiseKernel(\n",
    "    in_params = 'float32 x, float32 y, float32 theta',\n",
    "    out_params = 'float32 z1, float32 z2',\n",
    "    operation = '''\n",
    "        float cosx = cosf(theta);\n",
    "        float sinx = sinf(theta);\n",
    "        float xt = y * x * x * cosx;\n",
    "        float yt = y * x * x * sinx;\n",
    "        z1 = xt;\n",
    "        z2 = yt;\n",
    "    ''',\n",
    "    name = 'gpu_k',\n",
    "    no_return = False)\n",
    "\n",
    "@cp.fuse()\n",
    "def gpu_m(x, y, theta): # return tuple\n",
    "    cosx = cp.cos(theta)\n",
    "    sinx = cp.sin(theta)\n",
    "    xt = y * x * x * cosx\n",
    "    yt = y * x * x * sinx\n",
    "    return (xt, yt)\n",
    "\n",
    "def cpu_m(x, y, theta):\n",
    "    cosx = np.cos(theta)\n",
    "    sinx = np.sin(theta)\n",
    "    xt = y * x * x * cosx\n",
    "    yt = y * x * x * sinx\n",
    "    return (xt, yt)\n",
    "\n",
    "@jit.rawkernel()\n",
    "def elementwise_m(x, y, theta, size):\n",
    "    tid = jit.blockIdx.x * jit.blockDim.x + jit.threadIdx.x\n",
    "    ntid = jit.gridDim.x * jit.blockDim.x\n",
    "    for i in range(tid, size, ntid):\n",
    "        cosx = cp.cos(theta[i])\n",
    "        sinx = cp.sin(theta[i])\n",
    "        yt = y[i] * x[i] * x[i] * cosx\n",
    "        xt = y[i] * x[i] * x[i] * sinx\n",
    "        y[i] = yt\n",
    "        x[i] = xt\n",
    "\n",
    "# shuffle in place\n",
    "\n",
    "def gpu_shuffle(x):\n",
    "    cp.random.shuffle(x)\n",
    "\n",
    "#rnd = cp.random.default_rng()\n",
    "rnd = cp.random.Generator(cp.random.Philox4x3210())\n",
    "\n",
    "def cp_random(generator, size, out):\n",
    "    generator.random(size, dtype = np.float32, out = out)\n",
    "\n",
    "# this is 5x faster.  ?\n",
    "def cp_legacy_random(size):\n",
    "    return cp.random.random(size, dtype=np.float32)\n",
    "    \n",
    "bin_edges = cp.linspace(0, 1.0, num=101, endpoint=True, dtype=np.float32)\n",
    "def make_hist(x):\n",
    "    return cp.histogram(x, bin_edges)\n",
    "\n",
    "def choice(x):\n",
    "    return cp.random.choice(x, 100)\n",
    "\n",
    "# def get_phi_elementwise():\n",
    "# need curand\n",
    "\n",
    "@cp.fuse()\n",
    "def get_phi_fuse(size):\n",
    "    return cp.random.uniform(0, 2 * np.pi, size)\n",
    "#    return cp.random.random(size) * 2 * np.pi\n",
    "\n",
    "def get_phi_cpu(size):\n",
    "    return np.random.random(size) * 2 * np.pi\n",
    "# def get_phi_rawkernel(theta, phi, size):\n",
    "# need curand\n",
    "\n",
    "@cp.fuse()\n",
    "def get_theta_fuse(size, g):\n",
    "    temp = (1 - g * g) / (1 - g + cp.random.uniform(0, 2 * g, size))\n",
    "    cost = (1 + g * g - temp * temp) / (2 * g)\n",
    "    return cp.arccos(cost)\n",
    "\n",
    "def get_theta_cpu(size, g):\n",
    "    temp = (1 - g * g) / (1 - g + 2 * g * np.random.random(size))\n",
    "    cost = (1 + g * g - temp * temp) / (2 * g)\n",
    "    return np.arccos(cost)"
   ]
  },
  {
   "cell_type": "code",
   "execution_count": 3,
   "id": "c0e21f00",
   "metadata": {},
   "outputs": [],
   "source": [
    "size = 20000000\n",
    "x_gpu = None\n",
    "y_gpu = None\n",
    "theta_gpu = None\n",
    "x_cpu = None\n",
    "y_cpu = None"
   ]
  },
  {
   "cell_type": "code",
   "execution_count": 4,
   "id": "1fb1852b",
   "metadata": {},
   "outputs": [
    {
     "name": "stdout",
     "output_type": "stream",
     "text": [
      "mempool.used_bytes 786944\n",
      "mempool.total_bytes 786944\n",
      "x_gpu.bytes 80000000\n",
      "y_gpu.bytes 80000000\n",
      "mempool.used_bytes 240786944\n",
      "mempool.total_bytes 240786944\n",
      "x_gpu.bytes 80000000\n",
      "y_gpu.bytes 80000000\n",
      "mempool.used_bytes 240786944\n",
      "mempool.total_bytes 240786944\n"
     ]
    }
   ],
   "source": [
    "mempool = cp.get_default_memory_pool()\n",
    "mempool.free_all_blocks()\n",
    "print(f\"mempool.used_bytes {mempool.used_bytes()}\")\n",
    "print(f\"mempool.total_bytes {mempool.total_bytes()}\")\n",
    "\n",
    "x_gpu = cp.random.random(size, dtype=np.float32)\n",
    "y_gpu = cp.ones(size, dtype=np.float32)\n",
    "theta_gpu = cp.random.random(size, dtype=np.float32)\n",
    "\n",
    "# before freeing\n",
    "print(f\"x_gpu.bytes {x_gpu.nbytes}\")  \n",
    "print(f\"y_gpu.bytes {y_gpu.nbytes}\")  \n",
    "print(f\"mempool.used_bytes {mempool.used_bytes()}\")\n",
    "print(f\"mempool.total_bytes {mempool.total_bytes()}\")\n",
    "\n",
    "mempool.free_all_blocks()\n",
    "\n",
    "# after freeing\n",
    "print(f\"x_gpu.bytes {x_gpu.nbytes}\")  \n",
    "print(f\"y_gpu.bytes {y_gpu.nbytes}\")  \n",
    "print(f\"mempool.used_bytes {mempool.used_bytes()}\")\n",
    "print(f\"mempool.total_bytes {mempool.total_bytes()}\")"
   ]
  },
  {
   "cell_type": "code",
   "execution_count": 5,
   "id": "79bb735f",
   "metadata": {},
   "outputs": [],
   "source": [
    "x_cpu = np.array(np.random.random(size), dtype=np.float32)\n",
    "y_cpu = np.ones(size, dtype=np.float32)\n",
    "theta_cpu = np.array(np.random.random(size), dtype=np.float32)"
   ]
  },
  {
   "cell_type": "code",
   "execution_count": 6,
   "id": "faa1ea62",
   "metadata": {
    "scrolled": true
   },
   "outputs": [
    {
     "name": "stdout",
     "output_type": "stream",
     "text": [
      "CPU times: user 95.1 ms, sys: 30.3 ms, total: 125 ms\n",
      "Wall time: 125 ms\n"
     ]
    }
   ],
   "source": [
    "%%time\n",
    "(x_cpu, y_cpu) = cpu_m(x_cpu, y_cpu, theta_cpu)"
   ]
  },
  {
   "cell_type": "code",
   "execution_count": 7,
   "id": "d5ca2970",
   "metadata": {},
   "outputs": [
    {
     "name": "stdout",
     "output_type": "stream",
     "text": [
      "CPU times: user 108 ms, sys: 16.4 ms, total: 124 ms\n",
      "Wall time: 123 ms\n"
     ]
    }
   ],
   "source": [
    "%%time\n",
    "(x_cpu, y_cpu) = cpu_m(x_cpu, y_cpu, theta_cpu)"
   ]
  },
  {
   "cell_type": "code",
   "execution_count": 8,
   "id": "2055031b",
   "metadata": {},
   "outputs": [
    {
     "name": "stdout",
     "output_type": "stream",
     "text": [
      "x_cpu.bytes 80000000\n",
      "y_cpu_bytes 80000000\n"
     ]
    }
   ],
   "source": [
    "print(f\"x_cpu.bytes {x_cpu.nbytes}\")  \n",
    "print(f\"y_cpu_bytes {y_cpu.nbytes}\") "
   ]
  },
  {
   "cell_type": "code",
   "execution_count": 9,
   "id": "ad1bcd99",
   "metadata": {},
   "outputs": [
    {
     "name": "stdout",
     "output_type": "stream",
     "text": [
      "mempool.used_bytes 786944\n",
      "mempool.total_bytes 240786944\n",
      "x_gpu.bytes 80000000\n",
      "y_gpu.bytes 80000000\n",
      "mempool.used_bytes 240786944\n",
      "mempool.total_bytes 240786944\n",
      "x_gpu.bytes 80000000\n",
      "y_gpu.bytes 80000000\n",
      "mempool.used_bytes 240786944\n",
      "mempool.total_bytes 240786944\n"
     ]
    }
   ],
   "source": [
    "x_gpu = None\n",
    "y_gpu = None\n",
    "theta_gpu = None\n",
    "# before freeing\n",
    "print(f\"mempool.used_bytes {mempool.used_bytes()}\")\n",
    "print(f\"mempool.total_bytes {mempool.total_bytes()}\")\n",
    "\n",
    "x_gpu = cp.random.random(size, dtype=np.float32)\n",
    "y_gpu = cp.ones(size, dtype=np.float32)\n",
    "theta_gpu = cp.random.random(size, dtype=np.float32)\n",
    "\n",
    "# before freeing\n",
    "print(f\"x_gpu.bytes {x_gpu.nbytes}\")  \n",
    "print(f\"y_gpu.bytes {y_gpu.nbytes}\")  \n",
    "print(f\"mempool.used_bytes {mempool.used_bytes()}\")\n",
    "print(f\"mempool.total_bytes {mempool.total_bytes()}\")\n",
    "\n",
    "mempool.free_all_blocks()\n",
    "\n",
    "# after freeing\n",
    "print(f\"x_gpu.bytes {x_gpu.nbytes}\")  \n",
    "print(f\"y_gpu.bytes {y_gpu.nbytes}\")  \n",
    "print(f\"mempool.used_bytes {mempool.used_bytes()}\")\n",
    "print(f\"mempool.total_bytes {mempool.total_bytes()}\")"
   ]
  },
  {
   "cell_type": "code",
   "execution_count": 10,
   "id": "7c0c214a",
   "metadata": {
    "scrolled": true
   },
   "outputs": [
    {
     "name": "stdout",
     "output_type": "stream",
     "text": [
      "CPU times: user 118 ms, sys: 3.78 ms, total: 121 ms\n",
      "Wall time: 122 ms\n"
     ]
    }
   ],
   "source": [
    "%%time\n",
    "(x_gpu, y_gpu) = gpu_k(x_gpu, y_gpu, theta_gpu)"
   ]
  },
  {
   "cell_type": "code",
   "execution_count": 11,
   "id": "80fc9e30",
   "metadata": {
    "scrolled": true
   },
   "outputs": [
    {
     "name": "stdout",
     "output_type": "stream",
     "text": [
      "CPU times: user 65 µs, sys: 21 µs, total: 86 µs\n",
      "Wall time: 89.9 µs\n"
     ]
    }
   ],
   "source": [
    "%%time\n",
    "(x_gpu, y_gpu) = gpu_k(x_gpu, y_gpu, theta_gpu)"
   ]
  },
  {
   "cell_type": "code",
   "execution_count": 12,
   "id": "e74f2518",
   "metadata": {
    "scrolled": true
   },
   "outputs": [
    {
     "name": "stdout",
     "output_type": "stream",
     "text": [
      "x_gpu.bytes 80000000\n",
      "y_gpu.bytes 80000000\n",
      "mempool.used_bytes 240786944\n",
      "mempool.total_bytes 400786944\n",
      "x_gpu.bytes 80000000\n",
      "y_gpu.bytes 80000000\n",
      "mempool.used_bytes 240786944\n",
      "mempool.total_bytes 240786944\n"
     ]
    }
   ],
   "source": [
    "# before freeing\n",
    "print(f\"x_gpu.bytes {x_gpu.nbytes}\")  \n",
    "print(f\"y_gpu.bytes {y_gpu.nbytes}\")  \n",
    "print(f\"mempool.used_bytes {mempool.used_bytes()}\")\n",
    "print(f\"mempool.total_bytes {mempool.total_bytes()}\")\n",
    "\n",
    "mempool.free_all_blocks()\n",
    "\n",
    "# after freeing\n",
    "print(f\"x_gpu.bytes {x_gpu.nbytes}\")  \n",
    "print(f\"y_gpu.bytes {y_gpu.nbytes}\")  \n",
    "print(f\"mempool.used_bytes {mempool.used_bytes()}\")\n",
    "print(f\"mempool.total_bytes {mempool.total_bytes()}\")"
   ]
  },
  {
   "cell_type": "code",
   "execution_count": 13,
   "id": "90ce1ae8",
   "metadata": {},
   "outputs": [
    {
     "name": "stdout",
     "output_type": "stream",
     "text": [
      "mempool.used_bytes 786944\n",
      "mempool.total_bytes 240786944\n",
      "x_gpu.bytes 80000000\n",
      "y_gpu.bytes 80000000\n",
      "mempool.used_bytes 240786944\n",
      "mempool.total_bytes 240786944\n",
      "x_gpu.bytes 80000000\n",
      "y_gpu.bytes 80000000\n",
      "mempool.used_bytes 240786944\n",
      "mempool.total_bytes 240786944\n"
     ]
    }
   ],
   "source": [
    "x_gpu = None\n",
    "y_gpu = None\n",
    "theta_gpu=None\n",
    "# before freeing\n",
    "print(f\"mempool.used_bytes {mempool.used_bytes()}\")\n",
    "print(f\"mempool.total_bytes {mempool.total_bytes()}\")\n",
    "\n",
    "x_gpu = cp.random.random(size, dtype=np.float32)\n",
    "y_gpu = cp.ones(size, dtype=np.float32)\n",
    "theta_gpu = cp.random.random(size, dtype=np.float32)\n",
    "\n",
    "# before freeing\n",
    "print(f\"x_gpu.bytes {x_gpu.nbytes}\")  \n",
    "print(f\"y_gpu.bytes {y_gpu.nbytes}\")  \n",
    "print(f\"mempool.used_bytes {mempool.used_bytes()}\")\n",
    "print(f\"mempool.total_bytes {mempool.total_bytes()}\")\n",
    "\n",
    "mempool.free_all_blocks()\n",
    "\n",
    "# after freeing\n",
    "print(f\"x_gpu.bytes {x_gpu.nbytes}\")  \n",
    "print(f\"y_gpu.bytes {y_gpu.nbytes}\")  \n",
    "print(f\"mempool.used_bytes {mempool.used_bytes()}\")\n",
    "print(f\"mempool.total_bytes {mempool.total_bytes()}\")"
   ]
  },
  {
   "cell_type": "code",
   "execution_count": 14,
   "id": "4639116b",
   "metadata": {
    "scrolled": true
   },
   "outputs": [
    {
     "name": "stdout",
     "output_type": "stream",
     "text": [
      "CPU times: user 119 ms, sys: 6.96 ms, total: 126 ms\n",
      "Wall time: 126 ms\n"
     ]
    }
   ],
   "source": [
    "%%time\n",
    "(x_gpu, y_gpu) = gpu_m(x_gpu, y_gpu, theta_gpu)"
   ]
  },
  {
   "cell_type": "code",
   "execution_count": 15,
   "id": "6009a005",
   "metadata": {},
   "outputs": [
    {
     "name": "stdout",
     "output_type": "stream",
     "text": [
      "CPU times: user 172 µs, sys: 0 ns, total: 172 µs\n",
      "Wall time: 222 µs\n"
     ]
    }
   ],
   "source": [
    "%%time\n",
    "(x_gpu, y_gpu) = gpu_m(x_gpu, y_gpu, theta_gpu)"
   ]
  },
  {
   "cell_type": "code",
   "execution_count": 16,
   "id": "a199d90e",
   "metadata": {
    "scrolled": true
   },
   "outputs": [
    {
     "name": "stdout",
     "output_type": "stream",
     "text": [
      "x_gpu.bytes 80000000\n",
      "y_gpu.bytes 80000000\n",
      "mempool.used_bytes 240786944\n",
      "mempool.total_bytes 400786944\n",
      "x_gpu.bytes 80000000\n",
      "y_gpu.bytes 80000000\n",
      "mempool.used_bytes 240786944\n",
      "mempool.total_bytes 240786944\n"
     ]
    }
   ],
   "source": [
    "# before freeing\n",
    "print(f\"x_gpu.bytes {x_gpu.nbytes}\")  \n",
    "print(f\"y_gpu.bytes {y_gpu.nbytes}\")  \n",
    "print(f\"mempool.used_bytes {mempool.used_bytes()}\")\n",
    "print(f\"mempool.total_bytes {mempool.total_bytes()}\")\n",
    "\n",
    "mempool.free_all_blocks()\n",
    "\n",
    "# after freeing\n",
    "print(f\"x_gpu.bytes {x_gpu.nbytes}\")  \n",
    "print(f\"y_gpu.bytes {y_gpu.nbytes}\")  \n",
    "print(f\"mempool.used_bytes {mempool.used_bytes()}\")\n",
    "print(f\"mempool.total_bytes {mempool.total_bytes()}\")"
   ]
  },
  {
   "cell_type": "code",
   "execution_count": 17,
   "id": "c3c491cb",
   "metadata": {},
   "outputs": [
    {
     "name": "stdout",
     "output_type": "stream",
     "text": [
      "mempool.used_bytes 786944\n",
      "mempool.total_bytes 240786944\n",
      "x_gpu.bytes 80000000\n",
      "y_gpu.bytes 80000000\n",
      "mempool.used_bytes 240786944\n",
      "mempool.total_bytes 240786944\n",
      "x_gpu.bytes 80000000\n",
      "y_gpu.bytes 80000000\n",
      "mempool.used_bytes 240786944\n",
      "mempool.total_bytes 240786944\n"
     ]
    }
   ],
   "source": [
    "x_gpu = None\n",
    "y_gpu = None\n",
    "theta_gpu = None\n",
    "# before freeing\n",
    "print(f\"mempool.used_bytes {mempool.used_bytes()}\")\n",
    "print(f\"mempool.total_bytes {mempool.total_bytes()}\")\n",
    "\n",
    "x_gpu = cp.random.random(size, dtype=np.float32)\n",
    "y_gpu = cp.ones(size, dtype=np.float32)\n",
    "theta_gpu = cp.random.random(size, dtype=np.float32)\n",
    "\n",
    "# before freeing\n",
    "print(f\"x_gpu.bytes {x_gpu.nbytes}\")  \n",
    "print(f\"y_gpu.bytes {y_gpu.nbytes}\")  \n",
    "print(f\"mempool.used_bytes {mempool.used_bytes()}\")\n",
    "print(f\"mempool.total_bytes {mempool.total_bytes()}\")\n",
    "\n",
    "mempool.free_all_blocks()\n",
    "\n",
    "# after freeing\n",
    "print(f\"x_gpu.bytes {x_gpu.nbytes}\")  \n",
    "print(f\"y_gpu.bytes {y_gpu.nbytes}\")  \n",
    "print(f\"mempool.used_bytes {mempool.used_bytes()}\")\n",
    "print(f\"mempool.total_bytes {mempool.total_bytes()}\")"
   ]
  },
  {
   "cell_type": "code",
   "execution_count": 18,
   "id": "d1098af1",
   "metadata": {
    "scrolled": true
   },
   "outputs": [
    {
     "name": "stdout",
     "output_type": "stream",
     "text": [
      "CPU times: user 245 ms, sys: 21 ms, total: 266 ms\n",
      "Wall time: 281 ms\n"
     ]
    }
   ],
   "source": [
    "%%time\n",
    "elementwise_m((128,), (1024,), (x_gpu, y_gpu, theta_gpu, size))"
   ]
  },
  {
   "cell_type": "code",
   "execution_count": 19,
   "id": "a7504832",
   "metadata": {
    "scrolled": true
   },
   "outputs": [
    {
     "name": "stdout",
     "output_type": "stream",
     "text": [
      "CPU times: user 123 µs, sys: 35 µs, total: 158 µs\n",
      "Wall time: 157 µs\n"
     ]
    }
   ],
   "source": [
    "%%time\n",
    "elementwise_m((128,), (1024,), (x_gpu, y_gpu, theta_gpu, size))"
   ]
  },
  {
   "cell_type": "code",
   "execution_count": 20,
   "id": "93aad68d",
   "metadata": {},
   "outputs": [
    {
     "name": "stdout",
     "output_type": "stream",
     "text": [
      "x_gpu.bytes 80000000\n",
      "y_gpu.bytes 80000000\n",
      "mempool.used_bytes 240786944\n",
      "mempool.total_bytes 240786944\n",
      "x_gpu.bytes 80000000\n",
      "y_gpu.bytes 80000000\n",
      "mempool.used_bytes 240786944\n",
      "mempool.total_bytes 240786944\n"
     ]
    }
   ],
   "source": [
    "# before freeing\n",
    "print(f\"x_gpu.bytes {x_gpu.nbytes}\")  \n",
    "print(f\"y_gpu.bytes {y_gpu.nbytes}\")  \n",
    "print(f\"mempool.used_bytes {mempool.used_bytes()}\")\n",
    "print(f\"mempool.total_bytes {mempool.total_bytes()}\")\n",
    "\n",
    "mempool.free_all_blocks()\n",
    "\n",
    "# after freeing\n",
    "print(f\"x_gpu.bytes {x_gpu.nbytes}\")  \n",
    "print(f\"y_gpu.bytes {y_gpu.nbytes}\")  \n",
    "print(f\"mempool.used_bytes {mempool.used_bytes()}\")\n",
    "print(f\"mempool.total_bytes {mempool.total_bytes()}\")"
   ]
  },
  {
   "cell_type": "code",
   "execution_count": 21,
   "id": "12c5080d",
   "metadata": {},
   "outputs": [
    {
     "name": "stdout",
     "output_type": "stream",
     "text": [
      "mempool.used_bytes 786944\n",
      "mempool.total_bytes 240786944\n",
      "x_gpu.bytes 80000000\n",
      "mempool.used_bytes 80786944\n",
      "mempool.total_bytes 240786944\n",
      "x_gpu.bytes 80000000\n",
      "mempool.used_bytes 80786944\n",
      "mempool.total_bytes 80786944\n"
     ]
    }
   ],
   "source": [
    "x_gpu = None\n",
    "y_gpu = None\n",
    "theta_gpu = None\n",
    "# before freeing\n",
    "print(f\"mempool.used_bytes {mempool.used_bytes()}\")\n",
    "print(f\"mempool.total_bytes {mempool.total_bytes()}\")\n",
    "\n",
    "x_gpu = cp.random.random(size, dtype=np.float32)\n",
    "#y_gpu = cp.ones(size, dtype=np.float32)\n",
    "#theta_gpu = cp.random.random(size, dtype=np.float32)\n",
    "\n",
    "# before freeing\n",
    "print(f\"x_gpu.bytes {x_gpu.nbytes}\")  \n",
    "#print(f\"y_gpu.bytes {y_gpu.nbytes}\")  \n",
    "print(f\"mempool.used_bytes {mempool.used_bytes()}\")\n",
    "print(f\"mempool.total_bytes {mempool.total_bytes()}\")\n",
    "\n",
    "mempool.free_all_blocks()\n",
    "\n",
    "# after freeing\n",
    "print(f\"x_gpu.bytes {x_gpu.nbytes}\")  \n",
    "#print(f\"y_gpu.bytes {y_gpu.nbytes}\")  \n",
    "print(f\"mempool.used_bytes {mempool.used_bytes()}\")\n",
    "print(f\"mempool.total_bytes {mempool.total_bytes()}\")"
   ]
  },
  {
   "cell_type": "code",
   "execution_count": 22,
   "id": "cc0738b6",
   "metadata": {
    "scrolled": true
   },
   "outputs": [
    {
     "name": "stdout",
     "output_type": "stream",
     "text": [
      "CPU times: user 260 ms, sys: 34.1 ms, total: 294 ms\n",
      "Wall time: 304 ms\n"
     ]
    }
   ],
   "source": [
    "%%time\n",
    "gpu_shuffle(x_gpu)"
   ]
  },
  {
   "cell_type": "code",
   "execution_count": 23,
   "id": "f569d916",
   "metadata": {
    "scrolled": true
   },
   "outputs": [
    {
     "name": "stdout",
     "output_type": "stream",
     "text": [
      "CPU times: user 77.9 ms, sys: 0 ns, total: 77.9 ms\n",
      "Wall time: 77.2 ms\n"
     ]
    }
   ],
   "source": [
    "%%time\n",
    "gpu_shuffle(x_gpu)"
   ]
  },
  {
   "cell_type": "code",
   "execution_count": 24,
   "id": "0fef9812",
   "metadata": {},
   "outputs": [
    {
     "name": "stdout",
     "output_type": "stream",
     "text": [
      "x_gpu.bytes 80000000\n",
      "mempool.used_bytes 80786944\n",
      "mempool.total_bytes 640865280\n",
      "x_gpu.bytes 80000000\n",
      "mempool.used_bytes 80786944\n",
      "mempool.total_bytes 80786944\n"
     ]
    }
   ],
   "source": [
    "# before freeing\n",
    "print(f\"x_gpu.bytes {x_gpu.nbytes}\")  \n",
    "#print(f\"y_gpu.bytes {y_gpu.nbytes}\")  \n",
    "print(f\"mempool.used_bytes {mempool.used_bytes()}\")\n",
    "print(f\"mempool.total_bytes {mempool.total_bytes()}\")\n",
    "\n",
    "mempool.free_all_blocks()\n",
    "\n",
    "# after freeing\n",
    "print(f\"x_gpu.bytes {x_gpu.nbytes}\")  \n",
    "#print(f\"y_gpu.bytes {y_gpu.nbytes}\")  \n",
    "print(f\"mempool.used_bytes {mempool.used_bytes()}\")\n",
    "print(f\"mempool.total_bytes {mempool.total_bytes()}\")"
   ]
  },
  {
   "cell_type": "code",
   "execution_count": 25,
   "id": "42eba99c",
   "metadata": {
    "scrolled": true
   },
   "outputs": [
    {
     "name": "stdout",
     "output_type": "stream",
     "text": [
      "mempool.used_bytes 786944\n",
      "mempool.total_bytes 80786944\n"
     ]
    }
   ],
   "source": [
    "x_gpu = None\n",
    "y_gpu = None\n",
    "theta_gpu=None\n",
    "# before freeing\n",
    "print(f\"mempool.used_bytes {mempool.used_bytes()}\")\n",
    "print(f\"mempool.total_bytes {mempool.total_bytes()}\")"
   ]
  },
  {
   "cell_type": "code",
   "execution_count": 26,
   "id": "4e0fb1fe",
   "metadata": {},
   "outputs": [],
   "source": [
    "x_gpu = cp.empty(size, dtype=np.float32)"
   ]
  },
  {
   "cell_type": "code",
   "execution_count": 27,
   "id": "8e63c012",
   "metadata": {},
   "outputs": [
    {
     "name": "stdout",
     "output_type": "stream",
     "text": [
      "CPU times: user 90.4 ms, sys: 886 µs, total: 91.3 ms\n",
      "Wall time: 90.4 ms\n"
     ]
    }
   ],
   "source": [
    "%%time\n",
    "cp_random(rnd, size, x_gpu)"
   ]
  },
  {
   "cell_type": "code",
   "execution_count": 28,
   "id": "c99e2ccf",
   "metadata": {},
   "outputs": [
    {
     "name": "stdout",
     "output_type": "stream",
     "text": [
      "CPU times: user 67 µs, sys: 18 µs, total: 85 µs\n",
      "Wall time: 86.8 µs\n"
     ]
    }
   ],
   "source": [
    "%%time\n",
    "x_gpu = cp_random(rnd, size, None)"
   ]
  },
  {
   "cell_type": "code",
   "execution_count": 29,
   "id": "8c37202d",
   "metadata": {
    "scrolled": false
   },
   "outputs": [
    {
     "name": "stdout",
     "output_type": "stream",
     "text": [
      "CPU times: user 113 µs, sys: 0 ns, total: 113 µs\n",
      "Wall time: 109 µs\n"
     ]
    }
   ],
   "source": [
    "%%time\n",
    "x_gpu = cp_legacy_random(size)"
   ]
  },
  {
   "cell_type": "code",
   "execution_count": 30,
   "id": "cf7bb685",
   "metadata": {
    "scrolled": true
   },
   "outputs": [
    {
     "name": "stdout",
     "output_type": "stream",
     "text": [
      "x_gpu.bytes 80000000\n",
      "mempool.used_bytes 80786944\n",
      "mempool.total_bytes 160786944\n",
      "x_gpu.bytes 80000000\n",
      "mempool.used_bytes 80786944\n",
      "mempool.total_bytes 80786944\n"
     ]
    }
   ],
   "source": [
    "# before freeing\n",
    "print(f\"x_gpu.bytes {x_gpu.nbytes}\")  \n",
    "#print(f\"y_gpu.bytes {y_gpu.nbytes}\")  \n",
    "print(f\"mempool.used_bytes {mempool.used_bytes()}\")\n",
    "print(f\"mempool.total_bytes {mempool.total_bytes()}\")\n",
    "\n",
    "mempool.free_all_blocks()\n",
    "\n",
    "# after freeing\n",
    "print(f\"x_gpu.bytes {x_gpu.nbytes}\")  \n",
    "#print(f\"y_gpu.bytes {y_gpu.nbytes}\")  \n",
    "print(f\"mempool.used_bytes {mempool.used_bytes()}\")\n",
    "print(f\"mempool.total_bytes {mempool.total_bytes()}\")"
   ]
  },
  {
   "cell_type": "code",
   "execution_count": 31,
   "id": "b652e481",
   "metadata": {},
   "outputs": [
    {
     "name": "stderr",
     "output_type": "stream",
     "text": [
      "/home/joel/.local/lib/python3.10/site-packages/cupy/cuda/compiler.py:233: PerformanceWarning: Jitify is performing a one-time only warm-up to populate the persistent cache, this may take a few seconds and will be improved in a future release...\n",
      "  jitify._init_module()\n"
     ]
    },
    {
     "name": "stdout",
     "output_type": "stream",
     "text": [
      "CPU times: user 28.1 s, sys: 1.27 s, total: 29.4 s\n",
      "Wall time: 29.3 s\n"
     ]
    }
   ],
   "source": [
    "%%time\n",
    "x_hist = make_hist(x_gpu)"
   ]
  },
  {
   "cell_type": "code",
   "execution_count": 32,
   "id": "2d8fc001",
   "metadata": {},
   "outputs": [
    {
     "name": "stdout",
     "output_type": "stream",
     "text": [
      "x_gpu.bytes 80000000\n",
      "mempool.used_bytes 80787968\n",
      "mempool.total_bytes 80789504\n",
      "x_gpu.bytes 80000000\n",
      "mempool.used_bytes 80787968\n",
      "mempool.total_bytes 80787968\n"
     ]
    }
   ],
   "source": [
    "# before freeing\n",
    "print(f\"x_gpu.bytes {x_gpu.nbytes}\")  \n",
    "#print(f\"y_gpu.bytes {y_gpu.nbytes}\")  \n",
    "print(f\"mempool.used_bytes {mempool.used_bytes()}\")\n",
    "print(f\"mempool.total_bytes {mempool.total_bytes()}\")\n",
    "\n",
    "mempool.free_all_blocks()\n",
    "\n",
    "# after freeing\n",
    "print(f\"x_gpu.bytes {x_gpu.nbytes}\")  \n",
    "#print(f\"y_gpu.bytes {y_gpu.nbytes}\")  \n",
    "print(f\"mempool.used_bytes {mempool.used_bytes()}\")\n",
    "print(f\"mempool.total_bytes {mempool.total_bytes()}\")"
   ]
  },
  {
   "cell_type": "code",
   "execution_count": 33,
   "id": "9dcc33a2",
   "metadata": {
    "scrolled": false
   },
   "outputs": [
    {
     "name": "stdout",
     "output_type": "stream",
     "text": [
      "CPU times: user 536 ms, sys: 283 µs, total: 536 ms\n",
      "Wall time: 537 ms\n"
     ]
    }
   ],
   "source": [
    "%%time\n",
    "sample_gpu = choice(x_gpu)"
   ]
  },
  {
   "cell_type": "code",
   "execution_count": 34,
   "id": "e1116f5d",
   "metadata": {
    "scrolled": true
   },
   "outputs": [
    {
     "name": "stdout",
     "output_type": "stream",
     "text": [
      "[7.92707205e-01 7.17558920e-01 6.34726763e-01 2.98439294e-01\n",
      " 3.15965444e-01 1.49325624e-01 9.36188161e-01 8.57110918e-02\n",
      " 3.36252153e-01 3.48491478e-04 7.25599587e-01 4.68829006e-01\n",
      " 9.16691422e-01 9.51784074e-01 1.29345655e-01 9.94839311e-01\n",
      " 9.11161780e-01 6.47370338e-01 3.62567544e-01 4.67382520e-01\n",
      " 6.64483488e-01 1.29149884e-01 8.17031980e-01 6.51130497e-01\n",
      " 1.97072372e-01 3.46116632e-01 8.33095074e-01 5.93230247e-01\n",
      " 8.61332595e-01 1.38607323e-01 4.09931034e-01 3.39515150e-01\n",
      " 8.96784604e-01 8.45306516e-02 7.22557247e-01 3.00334781e-01\n",
      " 6.13482833e-01 5.05394757e-01 9.80029225e-01 3.50664556e-01\n",
      " 5.77210784e-01 1.50985166e-03 6.31036222e-01 3.15086432e-02\n",
      " 3.04389894e-01 1.28392518e-01 3.11612695e-01 7.92914391e-01\n",
      " 4.97273326e-01 9.00324434e-02 7.65472233e-01 7.28279233e-01\n",
      " 2.95508742e-01 7.87179708e-01 3.08787733e-01 7.06596375e-01\n",
      " 9.17851686e-01 5.90957068e-02 8.58026087e-01 3.09485614e-01\n",
      " 2.36553967e-01 3.90042394e-01 5.98381221e-01 4.09037471e-01\n",
      " 8.67384434e-01 6.19070709e-01 3.45493555e-01 9.34317291e-01\n",
      " 5.10758400e-01 4.28516150e-01 6.78045452e-01 7.51369238e-01\n",
      " 5.36757410e-01 9.93754804e-01 7.17582833e-03 2.03876436e-01\n",
      " 3.15818727e-01 1.84974909e-01 7.86761284e-01 6.59982085e-01\n",
      " 8.42546940e-01 4.47603822e-01 4.94788811e-02 3.49747211e-01\n",
      " 3.32765840e-02 1.00200504e-01 7.06443369e-01 8.47660780e-01\n",
      " 7.25866199e-01 8.49886239e-01 3.82799089e-01 5.78122854e-01\n",
      " 9.91432369e-01 2.70052224e-01 6.75245464e-01 5.00916123e-01\n",
      " 1.35354489e-01 2.11956799e-01 1.95744447e-02 3.00684780e-01]\n"
     ]
    }
   ],
   "source": [
    "print(sample_gpu)"
   ]
  },
  {
   "cell_type": "code",
   "execution_count": 35,
   "id": "434e72c8",
   "metadata": {},
   "outputs": [],
   "source": [
    "x_gpu_10 = x_gpu * 10\n"
   ]
  },
  {
   "cell_type": "code",
   "execution_count": 36,
   "id": "cb77c532",
   "metadata": {
    "scrolled": true
   },
   "outputs": [],
   "source": [
    "x_gpu_10 = x_gpu_10.astype(np.int16)\n"
   ]
  },
  {
   "cell_type": "code",
   "execution_count": 37,
   "id": "83c4b463",
   "metadata": {},
   "outputs": [
    {
     "name": "stdout",
     "output_type": "stream",
     "text": [
      "CPU times: user 1.28 s, sys: 28.2 ms, total: 1.31 s\n",
      "Wall time: 1.3 s\n"
     ]
    }
   ],
   "source": [
    "%%time\n",
    "bc = cp.bincount(x_gpu_10)"
   ]
  },
  {
   "cell_type": "code",
   "execution_count": 38,
   "id": "4481130d",
   "metadata": {},
   "outputs": [
    {
     "name": "stdout",
     "output_type": "stream",
     "text": [
      "CPU times: user 175 ms, sys: 3.91 ms, total: 178 ms\n",
      "Wall time: 179 ms\n"
     ]
    }
   ],
   "source": [
    "%%time\n",
    "phi_gpu = get_phi_fuse(size)"
   ]
  },
  {
   "cell_type": "code",
   "execution_count": 39,
   "id": "9764bb9c",
   "metadata": {},
   "outputs": [
    {
     "name": "stdout",
     "output_type": "stream",
     "text": [
      "CPU times: user 128 ms, sys: 16 ms, total: 144 ms\n",
      "Wall time: 144 ms\n"
     ]
    }
   ],
   "source": [
    "%%time\n",
    "phi_cpu = get_phi_cpu(size)"
   ]
  },
  {
   "cell_type": "code",
   "execution_count": 40,
   "id": "22668430",
   "metadata": {},
   "outputs": [
    {
     "name": "stdout",
     "output_type": "stream",
     "text": [
      "CPU times: user 547 ms, sys: 12.2 ms, total: 559 ms\n",
      "Wall time: 555 ms\n"
     ]
    }
   ],
   "source": [
    "%%time\n",
    "theta_gpu = get_theta_fuse(size, 0.9)"
   ]
  },
  {
   "cell_type": "code",
   "execution_count": 41,
   "id": "a2954d7a",
   "metadata": {},
   "outputs": [
    {
     "name": "stdout",
     "output_type": "stream",
     "text": [
      "CPU times: user 397 ms, sys: 60.3 ms, total: 457 ms\n",
      "Wall time: 454 ms\n"
     ]
    }
   ],
   "source": [
    "%%time\n",
    "theta_cpu = get_theta_cpu(size, 0.9)"
   ]
  }
 ],
 "metadata": {
  "kernelspec": {
   "display_name": "Python 3",
   "language": "python",
   "name": "python3"
  },
  "language_info": {
   "codemirror_mode": {
    "name": "ipython",
    "version": 3
   },
   "file_extension": ".py",
   "mimetype": "text/x-python",
   "name": "python",
   "nbconvert_exporter": "python",
   "pygments_lexer": "ipython3",
   "version": "3.10.12"
  }
 },
 "nbformat": 4,
 "nbformat_minor": 5
}
