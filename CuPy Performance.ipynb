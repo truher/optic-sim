{
 "cells": [
  {
   "cell_type": "markdown",
   "id": "5c66df35",
   "metadata": {},
   "source": [
    "try some cupy basics here.\n",
    "\n",
    "do some stuff kinda like the photon simulator does.  the main hard things it does are\n",
    "\n",
    "* rotation\n",
    "* scattering\n"
   ]
  },
  {
   "cell_type": "code",
   "execution_count": 1,
   "id": "bd7cd8f9",
   "metadata": {},
   "outputs": [
    {
     "name": "stdout",
     "output_type": "stream",
     "text": [
      "CuPy version 11.0.0\n"
     ]
    }
   ],
   "source": [
    "## %load_ext pyinstrument\n",
    "import numpy as np\n",
    "import cupy as cp\n",
    "from cupyx import jit\n",
    "import math\n",
    "\n",
    "print(f\"CuPy version {cp.__version__}\")"
   ]
  },
  {
   "cell_type": "code",
   "execution_count": 2,
   "id": "96fce2e4",
   "metadata": {},
   "outputs": [
    {
     "name": "stderr",
     "output_type": "stream",
     "text": [
      "/home/joel/.local/lib/python3.8/site-packages/cupyx/jit/_interface.py:161: FutureWarning: cupyx.jit.rawkernel is experimental. The interface can change in the future.\n",
      "  cupy._util.experimental('cupyx.jit.rawkernel')\n"
     ]
    }
   ],
   "source": [
    "def rotateAround(X, Y, Z, ux, uy, uz, theta):\n",
    "    # u.normalize()\n",
    "    # print(theta.v)\n",
    "    cost = np.cos(theta)\n",
    "    sint = np.sin(theta)\n",
    "    one_cost = (1 - cost)\n",
    "\n",
    "    X = (cost + ux * ux * one_cost) * X + (ux * uy * one_cost - uz * sint) * Y + (\n",
    "        ux * uz * one_cost + uy * sint) * Z\n",
    "    Y = (uy * ux * one_cost + uz * sint) * X + (cost + uy * uy * one_cost) * Y + (\n",
    "        uy * uz * one_cost - ux * sint) * Z\n",
    "    Z = (uz * ux * one_cost - uy * sint) * X + (uz * uy * one_cost + ux * sint) * Y + (\n",
    "        cost + uz * uz * one_cost) * Z\n",
    "\n",
    "\n",
    "    \n",
    "\n",
    "    \n",
    "    \n",
    "    \n",
    "gpu_k = cp.ElementwiseKernel(\n",
    "    in_params = 'float32 x, float32 y, float32 theta',\n",
    "    out_params = 'float32 z1, float32 z2',\n",
    "    operation = '''\n",
    "        float cosx = cosf(theta);\n",
    "        float sinx = sinf(theta);\n",
    "        float xt = y * x * x * cosx;\n",
    "        float yt = y * x * x * sinx;\n",
    "        z1 = xt;\n",
    "        z2 = yt;\n",
    "    ''',\n",
    "    name = 'gpu_k',\n",
    "    no_return = False)\n",
    "\n",
    "@cp.fuse()\n",
    "def gpu_m(x, y, theta): # return tuple\n",
    "    cosx = cp.cos(theta)\n",
    "    sinx = cp.sin(theta)\n",
    "    xt = y * x * x * cosx\n",
    "    yt = y * x * x * sinx\n",
    "    return (xt, yt)\n",
    "\n",
    "def cpu_m(x, y, theta):\n",
    "    cosx = np.cos(theta)\n",
    "    sinx = np.sin(theta)\n",
    "    xt = y * x * x * cosx\n",
    "    yt = y * x * x * sinx\n",
    "    return (xt, yt)\n",
    "\n",
    "@jit.rawkernel()\n",
    "def elementwise_m(x, y, theta, size):\n",
    "    tid = jit.blockIdx.x * jit.blockDim.x + jit.threadIdx.x\n",
    "    ntid = jit.gridDim.x * jit.blockDim.x\n",
    "    for i in range(tid, size, ntid):\n",
    "        cosx = cp.cos(theta[i])\n",
    "        sinx = cp.sin(theta[i])\n",
    "        yt = y[i] * x[i] * x[i] * cosx\n",
    "        xt = y[i] * x[i] * x[i] * sinx\n",
    "        y[i] = yt\n",
    "        x[i] = xt\n",
    "\n",
    "# shuffle in place\n",
    "\n",
    "def gpu_shuffle(x):\n",
    "    cp.random.shuffle(x)\n",
    "\n",
    "#rnd = cp.random.default_rng()\n",
    "rnd = cp.random.Generator(cp.random.Philox4x3210())\n",
    "\n",
    "def cp_random(generator, size, out):\n",
    "    generator.random(size, dtype = np.float32, out = out)\n",
    "\n",
    "# this is 5x faster.  ?\n",
    "def cp_legacy_random(size):\n",
    "    return cp.random.random(size, dtype=np.float32)\n",
    "    \n",
    "bin_edges = cp.linspace(0, 1.0, num=101, endpoint=True, dtype=np.float32)\n",
    "def make_hist(x):\n",
    "    return cp.histogram(x, bin_edges)\n",
    "\n",
    "def choice(x):\n",
    "    return cp.random.choice(x, 100)\n",
    "\n",
    "# def get_phi_elementwise():\n",
    "# need curand\n",
    "\n",
    "@cp.fuse()\n",
    "def get_phi_fuse(size):\n",
    "    return cp.random.uniform(0, 2 * np.pi, size)\n",
    "#    return cp.random.random(size) * 2 * np.pi\n",
    "\n",
    "def get_phi_cpu(size):\n",
    "    return np.random.random(size) * 2 * np.pi\n",
    "# def get_phi_rawkernel(theta, phi, size):\n",
    "# need curand\n",
    "\n",
    "@cp.fuse()\n",
    "def get_theta_fuse(size, g):\n",
    "    temp = (1 - g * g) / (1 - g + cp.random.uniform(0, 2 * g, size))\n",
    "    cost = (1 + g * g - temp * temp) / (2 * g)\n",
    "    return cp.arccos(cost)\n",
    "\n",
    "def get_theta_cpu(size, g):\n",
    "    temp = (1 - g * g) / (1 - g + 2 * g * np.random.random(size))\n",
    "    cost = (1 + g * g - temp * temp) / (2 * g)\n",
    "    return np.arccos(cost)"
   ]
  },
  {
   "cell_type": "code",
   "execution_count": 3,
   "id": "c0e21f00",
   "metadata": {},
   "outputs": [],
   "source": [
    "size = 20000000\n",
    "x_gpu = None\n",
    "y_gpu = None\n",
    "theta_gpu = None\n",
    "x_cpu = None\n",
    "y_cpu = None"
   ]
  },
  {
   "cell_type": "code",
   "execution_count": 4,
   "id": "1fb1852b",
   "metadata": {},
   "outputs": [
    {
     "name": "stdout",
     "output_type": "stream",
     "text": [
      "mempool.used_bytes 16384512\n",
      "mempool.total_bytes 16384512\n",
      "x_gpu.bytes 80000000\n",
      "y_gpu.bytes 80000000\n",
      "mempool.used_bytes 256384512\n",
      "mempool.total_bytes 256384512\n",
      "x_gpu.bytes 80000000\n",
      "y_gpu.bytes 80000000\n",
      "mempool.used_bytes 256384512\n",
      "mempool.total_bytes 256384512\n"
     ]
    }
   ],
   "source": [
    "mempool = cp.get_default_memory_pool()\n",
    "mempool.free_all_blocks()\n",
    "print(f\"mempool.used_bytes {mempool.used_bytes()}\")\n",
    "print(f\"mempool.total_bytes {mempool.total_bytes()}\")\n",
    "\n",
    "x_gpu = cp.random.random(size, dtype=np.float32)\n",
    "y_gpu = cp.ones(size, dtype=np.float32)\n",
    "theta_gpu = cp.random.random(size, dtype=np.float32)\n",
    "\n",
    "# before freeing\n",
    "print(f\"x_gpu.bytes {x_gpu.nbytes}\")  \n",
    "print(f\"y_gpu.bytes {y_gpu.nbytes}\")  \n",
    "print(f\"mempool.used_bytes {mempool.used_bytes()}\")\n",
    "print(f\"mempool.total_bytes {mempool.total_bytes()}\")\n",
    "\n",
    "mempool.free_all_blocks()\n",
    "\n",
    "# after freeing\n",
    "print(f\"x_gpu.bytes {x_gpu.nbytes}\")  \n",
    "print(f\"y_gpu.bytes {y_gpu.nbytes}\")  \n",
    "print(f\"mempool.used_bytes {mempool.used_bytes()}\")\n",
    "print(f\"mempool.total_bytes {mempool.total_bytes()}\")"
   ]
  },
  {
   "cell_type": "code",
   "execution_count": 5,
   "id": "79bb735f",
   "metadata": {},
   "outputs": [],
   "source": [
    "x_cpu = np.array(np.random.random(size), dtype=np.float32)\n",
    "y_cpu = np.ones(size, dtype=np.float32)\n",
    "theta_cpu = np.array(np.random.random(size), dtype=np.float32)"
   ]
  },
  {
   "cell_type": "code",
   "execution_count": 6,
   "id": "faa1ea62",
   "metadata": {
    "scrolled": true
   },
   "outputs": [
    {
     "name": "stdout",
     "output_type": "stream",
     "text": [
      "CPU times: user 103 ms, sys: 13.1 ms, total: 116 ms\n",
      "Wall time: 115 ms\n"
     ]
    }
   ],
   "source": [
    "%%time\n",
    "(x_cpu, y_cpu) = cpu_m(x_cpu, y_cpu, theta_cpu)"
   ]
  },
  {
   "cell_type": "code",
   "execution_count": 7,
   "id": "d5ca2970",
   "metadata": {},
   "outputs": [
    {
     "name": "stdout",
     "output_type": "stream",
     "text": [
      "CPU times: user 81.7 ms, sys: 32.2 ms, total: 114 ms\n",
      "Wall time: 113 ms\n"
     ]
    }
   ],
   "source": [
    "%%time\n",
    "(x_cpu, y_cpu) = cpu_m(x_cpu, y_cpu, theta_cpu)"
   ]
  },
  {
   "cell_type": "code",
   "execution_count": 8,
   "id": "2055031b",
   "metadata": {},
   "outputs": [
    {
     "name": "stdout",
     "output_type": "stream",
     "text": [
      "x_cpu.bytes 80000000\n",
      "y_cpu_bytes 80000000\n"
     ]
    }
   ],
   "source": [
    "print(f\"x_cpu.bytes {x_cpu.nbytes}\")  \n",
    "print(f\"y_cpu_bytes {y_cpu.nbytes}\") "
   ]
  },
  {
   "cell_type": "code",
   "execution_count": 9,
   "id": "ad1bcd99",
   "metadata": {},
   "outputs": [
    {
     "name": "stdout",
     "output_type": "stream",
     "text": [
      "mempool.used_bytes 16384512\n",
      "mempool.total_bytes 256384512\n",
      "x_gpu.bytes 80000000\n",
      "y_gpu.bytes 80000000\n",
      "mempool.used_bytes 256384512\n",
      "mempool.total_bytes 256384512\n",
      "x_gpu.bytes 80000000\n",
      "y_gpu.bytes 80000000\n",
      "mempool.used_bytes 256384512\n",
      "mempool.total_bytes 256384512\n"
     ]
    }
   ],
   "source": [
    "x_gpu = None\n",
    "y_gpu = None\n",
    "theta_gpu = None\n",
    "# before freeing\n",
    "print(f\"mempool.used_bytes {mempool.used_bytes()}\")\n",
    "print(f\"mempool.total_bytes {mempool.total_bytes()}\")\n",
    "\n",
    "x_gpu = cp.random.random(size, dtype=np.float32)\n",
    "y_gpu = cp.ones(size, dtype=np.float32)\n",
    "theta_gpu = cp.random.random(size, dtype=np.float32)\n",
    "\n",
    "# before freeing\n",
    "print(f\"x_gpu.bytes {x_gpu.nbytes}\")  \n",
    "print(f\"y_gpu.bytes {y_gpu.nbytes}\")  \n",
    "print(f\"mempool.used_bytes {mempool.used_bytes()}\")\n",
    "print(f\"mempool.total_bytes {mempool.total_bytes()}\")\n",
    "\n",
    "mempool.free_all_blocks()\n",
    "\n",
    "# after freeing\n",
    "print(f\"x_gpu.bytes {x_gpu.nbytes}\")  \n",
    "print(f\"y_gpu.bytes {y_gpu.nbytes}\")  \n",
    "print(f\"mempool.used_bytes {mempool.used_bytes()}\")\n",
    "print(f\"mempool.total_bytes {mempool.total_bytes()}\")"
   ]
  },
  {
   "cell_type": "code",
   "execution_count": 10,
   "id": "7c0c214a",
   "metadata": {
    "scrolled": true
   },
   "outputs": [
    {
     "name": "stdout",
     "output_type": "stream",
     "text": [
      "CPU times: user 3.88 ms, sys: 0 ns, total: 3.88 ms\n",
      "Wall time: 3.4 ms\n"
     ]
    }
   ],
   "source": [
    "%%time\n",
    "(x_gpu, y_gpu) = gpu_k(x_gpu, y_gpu, theta_gpu)"
   ]
  },
  {
   "cell_type": "code",
   "execution_count": 11,
   "id": "80fc9e30",
   "metadata": {
    "scrolled": true
   },
   "outputs": [
    {
     "name": "stdout",
     "output_type": "stream",
     "text": [
      "CPU times: user 66 µs, sys: 0 ns, total: 66 µs\n",
      "Wall time: 68.9 µs\n"
     ]
    }
   ],
   "source": [
    "%%time\n",
    "(x_gpu, y_gpu) = gpu_k(x_gpu, y_gpu, theta_gpu)"
   ]
  },
  {
   "cell_type": "code",
   "execution_count": 12,
   "id": "e74f2518",
   "metadata": {
    "scrolled": true
   },
   "outputs": [
    {
     "name": "stdout",
     "output_type": "stream",
     "text": [
      "x_gpu.bytes 80000000\n",
      "y_gpu.bytes 80000000\n",
      "mempool.used_bytes 256384512\n",
      "mempool.total_bytes 416384512\n",
      "x_gpu.bytes 80000000\n",
      "y_gpu.bytes 80000000\n",
      "mempool.used_bytes 256384512\n",
      "mempool.total_bytes 256384512\n"
     ]
    }
   ],
   "source": [
    "# before freeing\n",
    "print(f\"x_gpu.bytes {x_gpu.nbytes}\")  \n",
    "print(f\"y_gpu.bytes {y_gpu.nbytes}\")  \n",
    "print(f\"mempool.used_bytes {mempool.used_bytes()}\")\n",
    "print(f\"mempool.total_bytes {mempool.total_bytes()}\")\n",
    "\n",
    "mempool.free_all_blocks()\n",
    "\n",
    "# after freeing\n",
    "print(f\"x_gpu.bytes {x_gpu.nbytes}\")  \n",
    "print(f\"y_gpu.bytes {y_gpu.nbytes}\")  \n",
    "print(f\"mempool.used_bytes {mempool.used_bytes()}\")\n",
    "print(f\"mempool.total_bytes {mempool.total_bytes()}\")"
   ]
  },
  {
   "cell_type": "code",
   "execution_count": 13,
   "id": "90ce1ae8",
   "metadata": {},
   "outputs": [
    {
     "name": "stdout",
     "output_type": "stream",
     "text": [
      "mempool.used_bytes 16384512\n",
      "mempool.total_bytes 256384512\n",
      "x_gpu.bytes 80000000\n",
      "y_gpu.bytes 80000000\n",
      "mempool.used_bytes 256384512\n",
      "mempool.total_bytes 256384512\n",
      "x_gpu.bytes 80000000\n",
      "y_gpu.bytes 80000000\n",
      "mempool.used_bytes 256384512\n",
      "mempool.total_bytes 256384512\n"
     ]
    }
   ],
   "source": [
    "x_gpu = None\n",
    "y_gpu = None\n",
    "theta_gpu=None\n",
    "# before freeing\n",
    "print(f\"mempool.used_bytes {mempool.used_bytes()}\")\n",
    "print(f\"mempool.total_bytes {mempool.total_bytes()}\")\n",
    "\n",
    "x_gpu = cp.random.random(size, dtype=np.float32)\n",
    "y_gpu = cp.ones(size, dtype=np.float32)\n",
    "theta_gpu = cp.random.random(size, dtype=np.float32)\n",
    "\n",
    "# before freeing\n",
    "print(f\"x_gpu.bytes {x_gpu.nbytes}\")  \n",
    "print(f\"y_gpu.bytes {y_gpu.nbytes}\")  \n",
    "print(f\"mempool.used_bytes {mempool.used_bytes()}\")\n",
    "print(f\"mempool.total_bytes {mempool.total_bytes()}\")\n",
    "\n",
    "mempool.free_all_blocks()\n",
    "\n",
    "# after freeing\n",
    "print(f\"x_gpu.bytes {x_gpu.nbytes}\")  \n",
    "print(f\"y_gpu.bytes {y_gpu.nbytes}\")  \n",
    "print(f\"mempool.used_bytes {mempool.used_bytes()}\")\n",
    "print(f\"mempool.total_bytes {mempool.total_bytes()}\")"
   ]
  },
  {
   "cell_type": "code",
   "execution_count": 14,
   "id": "4639116b",
   "metadata": {
    "scrolled": true
   },
   "outputs": [
    {
     "name": "stdout",
     "output_type": "stream",
     "text": [
      "CPU times: user 1.93 ms, sys: 569 µs, total: 2.5 ms\n",
      "Wall time: 2.22 ms\n"
     ]
    }
   ],
   "source": [
    "%%time\n",
    "(x_gpu, y_gpu) = gpu_m(x_gpu, y_gpu, theta_gpu)"
   ]
  },
  {
   "cell_type": "code",
   "execution_count": 15,
   "id": "6009a005",
   "metadata": {},
   "outputs": [
    {
     "name": "stdout",
     "output_type": "stream",
     "text": [
      "CPU times: user 80 µs, sys: 0 ns, total: 80 µs\n",
      "Wall time: 82.3 µs\n"
     ]
    }
   ],
   "source": [
    "%%time\n",
    "(x_gpu, y_gpu) = gpu_m(x_gpu, y_gpu, theta_gpu)"
   ]
  },
  {
   "cell_type": "code",
   "execution_count": 16,
   "id": "a199d90e",
   "metadata": {
    "scrolled": true
   },
   "outputs": [
    {
     "name": "stdout",
     "output_type": "stream",
     "text": [
      "x_gpu.bytes 80000000\n",
      "y_gpu.bytes 80000000\n",
      "mempool.used_bytes 256384512\n",
      "mempool.total_bytes 416384512\n",
      "x_gpu.bytes 80000000\n",
      "y_gpu.bytes 80000000\n",
      "mempool.used_bytes 256384512\n",
      "mempool.total_bytes 256384512\n"
     ]
    }
   ],
   "source": [
    "# before freeing\n",
    "print(f\"x_gpu.bytes {x_gpu.nbytes}\")  \n",
    "print(f\"y_gpu.bytes {y_gpu.nbytes}\")  \n",
    "print(f\"mempool.used_bytes {mempool.used_bytes()}\")\n",
    "print(f\"mempool.total_bytes {mempool.total_bytes()}\")\n",
    "\n",
    "mempool.free_all_blocks()\n",
    "\n",
    "# after freeing\n",
    "print(f\"x_gpu.bytes {x_gpu.nbytes}\")  \n",
    "print(f\"y_gpu.bytes {y_gpu.nbytes}\")  \n",
    "print(f\"mempool.used_bytes {mempool.used_bytes()}\")\n",
    "print(f\"mempool.total_bytes {mempool.total_bytes()}\")"
   ]
  },
  {
   "cell_type": "code",
   "execution_count": 17,
   "id": "c3c491cb",
   "metadata": {},
   "outputs": [
    {
     "name": "stdout",
     "output_type": "stream",
     "text": [
      "mempool.used_bytes 16384512\n",
      "mempool.total_bytes 256384512\n",
      "x_gpu.bytes 80000000\n",
      "y_gpu.bytes 80000000\n",
      "mempool.used_bytes 256384512\n",
      "mempool.total_bytes 256384512\n",
      "x_gpu.bytes 80000000\n",
      "y_gpu.bytes 80000000\n",
      "mempool.used_bytes 256384512\n",
      "mempool.total_bytes 256384512\n"
     ]
    }
   ],
   "source": [
    "x_gpu = None\n",
    "y_gpu = None\n",
    "theta_gpu = None\n",
    "# before freeing\n",
    "print(f\"mempool.used_bytes {mempool.used_bytes()}\")\n",
    "print(f\"mempool.total_bytes {mempool.total_bytes()}\")\n",
    "\n",
    "x_gpu = cp.random.random(size, dtype=np.float32)\n",
    "y_gpu = cp.ones(size, dtype=np.float32)\n",
    "theta_gpu = cp.random.random(size, dtype=np.float32)\n",
    "\n",
    "# before freeing\n",
    "print(f\"x_gpu.bytes {x_gpu.nbytes}\")  \n",
    "print(f\"y_gpu.bytes {y_gpu.nbytes}\")  \n",
    "print(f\"mempool.used_bytes {mempool.used_bytes()}\")\n",
    "print(f\"mempool.total_bytes {mempool.total_bytes()}\")\n",
    "\n",
    "mempool.free_all_blocks()\n",
    "\n",
    "# after freeing\n",
    "print(f\"x_gpu.bytes {x_gpu.nbytes}\")  \n",
    "print(f\"y_gpu.bytes {y_gpu.nbytes}\")  \n",
    "print(f\"mempool.used_bytes {mempool.used_bytes()}\")\n",
    "print(f\"mempool.total_bytes {mempool.total_bytes()}\")"
   ]
  },
  {
   "cell_type": "code",
   "execution_count": 18,
   "id": "d1098af1",
   "metadata": {
    "scrolled": true
   },
   "outputs": [
    {
     "name": "stdout",
     "output_type": "stream",
     "text": [
      "CPU times: user 79 ms, sys: 7.75 ms, total: 86.8 ms\n",
      "Wall time: 86 ms\n"
     ]
    }
   ],
   "source": [
    "%%time\n",
    "elementwise_m((128,), (1024,), (x_gpu, y_gpu, theta_gpu, size))"
   ]
  },
  {
   "cell_type": "code",
   "execution_count": 19,
   "id": "a7504832",
   "metadata": {
    "scrolled": true
   },
   "outputs": [
    {
     "name": "stdout",
     "output_type": "stream",
     "text": [
      "CPU times: user 190 µs, sys: 0 ns, total: 190 µs\n",
      "Wall time: 188 µs\n"
     ]
    }
   ],
   "source": [
    "%%time\n",
    "elementwise_m((128,), (1024,), (x_gpu, y_gpu, theta_gpu, size))"
   ]
  },
  {
   "cell_type": "code",
   "execution_count": 20,
   "id": "93aad68d",
   "metadata": {},
   "outputs": [
    {
     "name": "stdout",
     "output_type": "stream",
     "text": [
      "x_gpu.bytes 80000000\n",
      "y_gpu.bytes 80000000\n",
      "mempool.used_bytes 256384512\n",
      "mempool.total_bytes 256384512\n",
      "x_gpu.bytes 80000000\n",
      "y_gpu.bytes 80000000\n",
      "mempool.used_bytes 256384512\n",
      "mempool.total_bytes 256384512\n"
     ]
    }
   ],
   "source": [
    "# before freeing\n",
    "print(f\"x_gpu.bytes {x_gpu.nbytes}\")  \n",
    "print(f\"y_gpu.bytes {y_gpu.nbytes}\")  \n",
    "print(f\"mempool.used_bytes {mempool.used_bytes()}\")\n",
    "print(f\"mempool.total_bytes {mempool.total_bytes()}\")\n",
    "\n",
    "mempool.free_all_blocks()\n",
    "\n",
    "# after freeing\n",
    "print(f\"x_gpu.bytes {x_gpu.nbytes}\")  \n",
    "print(f\"y_gpu.bytes {y_gpu.nbytes}\")  \n",
    "print(f\"mempool.used_bytes {mempool.used_bytes()}\")\n",
    "print(f\"mempool.total_bytes {mempool.total_bytes()}\")"
   ]
  },
  {
   "cell_type": "code",
   "execution_count": 21,
   "id": "12c5080d",
   "metadata": {},
   "outputs": [
    {
     "name": "stdout",
     "output_type": "stream",
     "text": [
      "mempool.used_bytes 16384512\n",
      "mempool.total_bytes 256384512\n",
      "x_gpu.bytes 80000000\n",
      "mempool.used_bytes 96384512\n",
      "mempool.total_bytes 256384512\n",
      "x_gpu.bytes 80000000\n",
      "mempool.used_bytes 96384512\n",
      "mempool.total_bytes 96384512\n"
     ]
    }
   ],
   "source": [
    "x_gpu = None\n",
    "y_gpu = None\n",
    "theta_gpu = None\n",
    "# before freeing\n",
    "print(f\"mempool.used_bytes {mempool.used_bytes()}\")\n",
    "print(f\"mempool.total_bytes {mempool.total_bytes()}\")\n",
    "\n",
    "x_gpu = cp.random.random(size, dtype=np.float32)\n",
    "#y_gpu = cp.ones(size, dtype=np.float32)\n",
    "#theta_gpu = cp.random.random(size, dtype=np.float32)\n",
    "\n",
    "# before freeing\n",
    "print(f\"x_gpu.bytes {x_gpu.nbytes}\")  \n",
    "#print(f\"y_gpu.bytes {y_gpu.nbytes}\")  \n",
    "print(f\"mempool.used_bytes {mempool.used_bytes()}\")\n",
    "print(f\"mempool.total_bytes {mempool.total_bytes()}\")\n",
    "\n",
    "mempool.free_all_blocks()\n",
    "\n",
    "# after freeing\n",
    "print(f\"x_gpu.bytes {x_gpu.nbytes}\")  \n",
    "#print(f\"y_gpu.bytes {y_gpu.nbytes}\")  \n",
    "print(f\"mempool.used_bytes {mempool.used_bytes()}\")\n",
    "print(f\"mempool.total_bytes {mempool.total_bytes()}\")"
   ]
  },
  {
   "cell_type": "code",
   "execution_count": 22,
   "id": "cc0738b6",
   "metadata": {
    "scrolled": true
   },
   "outputs": [
    {
     "name": "stdout",
     "output_type": "stream",
     "text": [
      "CPU times: user 54.4 ms, sys: 4.72 ms, total: 59.1 ms\n",
      "Wall time: 58.7 ms\n"
     ]
    }
   ],
   "source": [
    "%%time\n",
    "gpu_shuffle(x_gpu)"
   ]
  },
  {
   "cell_type": "code",
   "execution_count": 23,
   "id": "f569d916",
   "metadata": {
    "scrolled": true
   },
   "outputs": [
    {
     "name": "stdout",
     "output_type": "stream",
     "text": [
      "CPU times: user 86.7 ms, sys: 0 ns, total: 86.7 ms\n",
      "Wall time: 86.6 ms\n"
     ]
    }
   ],
   "source": [
    "%%time\n",
    "gpu_shuffle(x_gpu)"
   ]
  },
  {
   "cell_type": "code",
   "execution_count": 24,
   "id": "0fef9812",
   "metadata": {},
   "outputs": [
    {
     "name": "stdout",
     "output_type": "stream",
     "text": [
      "x_gpu.bytes 80000000\n",
      "mempool.used_bytes 96384512\n",
      "mempool.total_bytes 656462848\n",
      "x_gpu.bytes 80000000\n",
      "mempool.used_bytes 96384512\n",
      "mempool.total_bytes 96384512\n"
     ]
    }
   ],
   "source": [
    "# before freeing\n",
    "print(f\"x_gpu.bytes {x_gpu.nbytes}\")  \n",
    "#print(f\"y_gpu.bytes {y_gpu.nbytes}\")  \n",
    "print(f\"mempool.used_bytes {mempool.used_bytes()}\")\n",
    "print(f\"mempool.total_bytes {mempool.total_bytes()}\")\n",
    "\n",
    "mempool.free_all_blocks()\n",
    "\n",
    "# after freeing\n",
    "print(f\"x_gpu.bytes {x_gpu.nbytes}\")  \n",
    "#print(f\"y_gpu.bytes {y_gpu.nbytes}\")  \n",
    "print(f\"mempool.used_bytes {mempool.used_bytes()}\")\n",
    "print(f\"mempool.total_bytes {mempool.total_bytes()}\")"
   ]
  },
  {
   "cell_type": "code",
   "execution_count": 25,
   "id": "42eba99c",
   "metadata": {
    "scrolled": true
   },
   "outputs": [
    {
     "name": "stdout",
     "output_type": "stream",
     "text": [
      "mempool.used_bytes 16384512\n",
      "mempool.total_bytes 96384512\n"
     ]
    }
   ],
   "source": [
    "x_gpu = None\n",
    "y_gpu = None\n",
    "theta_gpu=None\n",
    "# before freeing\n",
    "print(f\"mempool.used_bytes {mempool.used_bytes()}\")\n",
    "print(f\"mempool.total_bytes {mempool.total_bytes()}\")"
   ]
  },
  {
   "cell_type": "code",
   "execution_count": 26,
   "id": "4e0fb1fe",
   "metadata": {},
   "outputs": [],
   "source": [
    "x_gpu = cp.empty(size, dtype=np.float32)"
   ]
  },
  {
   "cell_type": "code",
   "execution_count": 27,
   "id": "8e63c012",
   "metadata": {},
   "outputs": [
    {
     "name": "stdout",
     "output_type": "stream",
     "text": [
      "CPU times: user 1.04 ms, sys: 4.28 ms, total: 5.32 ms\n",
      "Wall time: 4.67 ms\n"
     ]
    }
   ],
   "source": [
    "%%time\n",
    "cp_random(rnd, size, x_gpu)"
   ]
  },
  {
   "cell_type": "code",
   "execution_count": 28,
   "id": "c99e2ccf",
   "metadata": {},
   "outputs": [
    {
     "name": "stdout",
     "output_type": "stream",
     "text": [
      "CPU times: user 2.96 ms, sys: 525 µs, total: 3.48 ms\n",
      "Wall time: 2.72 ms\n"
     ]
    }
   ],
   "source": [
    "%%time\n",
    "x_gpu = cp_random(rnd, size, None)"
   ]
  },
  {
   "cell_type": "code",
   "execution_count": 29,
   "id": "8c37202d",
   "metadata": {
    "scrolled": false
   },
   "outputs": [
    {
     "name": "stdout",
     "output_type": "stream",
     "text": [
      "CPU times: user 154 µs, sys: 0 ns, total: 154 µs\n",
      "Wall time: 108 µs\n"
     ]
    }
   ],
   "source": [
    "%%time\n",
    "x_gpu = cp_legacy_random(size)"
   ]
  },
  {
   "cell_type": "code",
   "execution_count": 30,
   "id": "cf7bb685",
   "metadata": {
    "scrolled": true
   },
   "outputs": [
    {
     "name": "stdout",
     "output_type": "stream",
     "text": [
      "x_gpu.bytes 80000000\n",
      "mempool.used_bytes 96384512\n",
      "mempool.total_bytes 336384512\n",
      "x_gpu.bytes 80000000\n",
      "mempool.used_bytes 96384512\n",
      "mempool.total_bytes 96384512\n"
     ]
    }
   ],
   "source": [
    "# before freeing\n",
    "print(f\"x_gpu.bytes {x_gpu.nbytes}\")  \n",
    "#print(f\"y_gpu.bytes {y_gpu.nbytes}\")  \n",
    "print(f\"mempool.used_bytes {mempool.used_bytes()}\")\n",
    "print(f\"mempool.total_bytes {mempool.total_bytes()}\")\n",
    "\n",
    "mempool.free_all_blocks()\n",
    "\n",
    "# after freeing\n",
    "print(f\"x_gpu.bytes {x_gpu.nbytes}\")  \n",
    "#print(f\"y_gpu.bytes {y_gpu.nbytes}\")  \n",
    "print(f\"mempool.used_bytes {mempool.used_bytes()}\")\n",
    "print(f\"mempool.total_bytes {mempool.total_bytes()}\")"
   ]
  },
  {
   "cell_type": "code",
   "execution_count": 31,
   "id": "b652e481",
   "metadata": {},
   "outputs": [
    {
     "name": "stdout",
     "output_type": "stream",
     "text": [
      "CPU times: user 164 ms, sys: 0 ns, total: 164 ms\n",
      "Wall time: 164 ms\n"
     ]
    }
   ],
   "source": [
    "%%time\n",
    "x_hist = make_hist(x_gpu)"
   ]
  },
  {
   "cell_type": "code",
   "execution_count": 32,
   "id": "2d8fc001",
   "metadata": {},
   "outputs": [
    {
     "name": "stdout",
     "output_type": "stream",
     "text": [
      "x_gpu.bytes 80000000\n",
      "mempool.used_bytes 96385536\n",
      "mempool.total_bytes 96402432\n",
      "x_gpu.bytes 80000000\n",
      "mempool.used_bytes 96385536\n",
      "mempool.total_bytes 96385536\n"
     ]
    }
   ],
   "source": [
    "# before freeing\n",
    "print(f\"x_gpu.bytes {x_gpu.nbytes}\")  \n",
    "#print(f\"y_gpu.bytes {y_gpu.nbytes}\")  \n",
    "print(f\"mempool.used_bytes {mempool.used_bytes()}\")\n",
    "print(f\"mempool.total_bytes {mempool.total_bytes()}\")\n",
    "\n",
    "mempool.free_all_blocks()\n",
    "\n",
    "# after freeing\n",
    "print(f\"x_gpu.bytes {x_gpu.nbytes}\")  \n",
    "#print(f\"y_gpu.bytes {y_gpu.nbytes}\")  \n",
    "print(f\"mempool.used_bytes {mempool.used_bytes()}\")\n",
    "print(f\"mempool.total_bytes {mempool.total_bytes()}\")"
   ]
  },
  {
   "cell_type": "code",
   "execution_count": 33,
   "id": "9dcc33a2",
   "metadata": {
    "scrolled": false
   },
   "outputs": [
    {
     "name": "stdout",
     "output_type": "stream",
     "text": [
      "CPU times: user 3.51 ms, sys: 833 µs, total: 4.35 ms\n",
      "Wall time: 3.63 ms\n"
     ]
    }
   ],
   "source": [
    "%%time\n",
    "sample_gpu = choice(x_gpu)"
   ]
  },
  {
   "cell_type": "code",
   "execution_count": 34,
   "id": "e1116f5d",
   "metadata": {
    "scrolled": true
   },
   "outputs": [
    {
     "name": "stdout",
     "output_type": "stream",
     "text": [
      "[0.9673034  0.78861386 0.03630557 0.969549   0.49728525 0.4267892\n",
      " 0.08688607 0.61109346 0.06837947 0.5307299  0.938618   0.9567219\n",
      " 0.8148009  0.8731207  0.49270767 0.09155727 0.6196373  0.09936445\n",
      " 0.06785747 0.7607554  0.32874042 0.9426855  0.97815406 0.28870896\n",
      " 0.00219207 0.26553318 0.09715155 0.4749295  0.39415708 0.9606625\n",
      " 0.5845747  0.76110905 0.71495086 0.48257342 0.00472326 0.90373063\n",
      " 0.7164281  0.7696101  0.7337606  0.6353176  0.72164303 0.96857464\n",
      " 0.61266106 0.14326867 0.79571736 0.04455008 0.73452824 0.8434999\n",
      " 0.83892715 0.47755793 0.12048929 0.10405807 0.7094321  0.418502\n",
      " 0.5909079  0.5034845  0.09191117 0.9248774  0.96532196 0.01893075\n",
      " 0.94168454 0.8625469  0.14171694 0.7849885  0.52917933 0.6521083\n",
      " 0.7624057  0.7122722  0.32651362 0.29371423 0.88430387 0.45636043\n",
      " 0.744007   0.7520833  0.90566504 0.8794248  0.16618133 0.52297086\n",
      " 0.57631135 0.10248693 0.9287606  0.33522478 0.0474641  0.534089\n",
      " 0.7982924  0.8083813  0.35821313 0.78831685 0.77486926 0.11912993\n",
      " 0.89721245 0.45200893 0.77903855 0.12831903 0.1887587  0.9686279\n",
      " 0.29349145 0.0829133  0.5005545  0.6199004 ]\n"
     ]
    }
   ],
   "source": [
    "print(sample_gpu)"
   ]
  },
  {
   "cell_type": "code",
   "execution_count": 35,
   "id": "434e72c8",
   "metadata": {},
   "outputs": [],
   "source": [
    "x_gpu_10 = x_gpu * 10\n"
   ]
  },
  {
   "cell_type": "code",
   "execution_count": 36,
   "id": "cb77c532",
   "metadata": {
    "scrolled": true
   },
   "outputs": [],
   "source": [
    "x_gpu_10 = x_gpu_10.astype(np.int16)\n"
   ]
  },
  {
   "cell_type": "code",
   "execution_count": 37,
   "id": "83c4b463",
   "metadata": {},
   "outputs": [
    {
     "name": "stdout",
     "output_type": "stream",
     "text": [
      "CPU times: user 1.02 ms, sys: 3.31 ms, total: 4.34 ms\n",
      "Wall time: 3.64 ms\n"
     ]
    }
   ],
   "source": [
    "%%time\n",
    "bc = cp.bincount(x_gpu_10)"
   ]
  },
  {
   "cell_type": "code",
   "execution_count": 38,
   "id": "4481130d",
   "metadata": {},
   "outputs": [
    {
     "name": "stdout",
     "output_type": "stream",
     "text": [
      "CPU times: user 20 ms, sys: 0 ns, total: 20 ms\n",
      "Wall time: 19.4 ms\n"
     ]
    }
   ],
   "source": [
    "%%time\n",
    "phi_gpu = get_phi_fuse(size)"
   ]
  },
  {
   "cell_type": "code",
   "execution_count": 39,
   "id": "9764bb9c",
   "metadata": {},
   "outputs": [
    {
     "name": "stdout",
     "output_type": "stream",
     "text": [
      "CPU times: user 131 ms, sys: 11.6 ms, total: 142 ms\n",
      "Wall time: 141 ms\n"
     ]
    }
   ],
   "source": [
    "%%time\n",
    "phi_cpu = get_phi_cpu(size)"
   ]
  },
  {
   "cell_type": "code",
   "execution_count": 65,
   "id": "22668430",
   "metadata": {},
   "outputs": [
    {
     "name": "stdout",
     "output_type": "stream",
     "text": [
      "CPU times: user 1.66 ms, sys: 0 ns, total: 1.66 ms\n",
      "Wall time: 1.2 ms\n"
     ]
    }
   ],
   "source": [
    "%%time\n",
    "theta_gpu = get_theta_fuse(size, 0.9)"
   ]
  },
  {
   "cell_type": "code",
   "execution_count": 45,
   "id": "a2954d7a",
   "metadata": {},
   "outputs": [
    {
     "name": "stdout",
     "output_type": "stream",
     "text": [
      "CPU times: user 479 ms, sys: 70.7 ms, total: 550 ms\n",
      "Wall time: 549 ms\n"
     ]
    }
   ],
   "source": [
    "%%time\n",
    "theta_cpu = get_theta_cpu(size, 0.9)"
   ]
  }
 ],
 "metadata": {
  "kernelspec": {
   "display_name": "Python 3",
   "language": "python",
   "name": "python3"
  },
  "language_info": {
   "codemirror_mode": {
    "name": "ipython",
    "version": 3
   },
   "file_extension": ".py",
   "mimetype": "text/x-python",
   "name": "python",
   "nbconvert_exporter": "python",
   "pygments_lexer": "ipython3",
   "version": "3.8.10"
  }
 },
 "nbformat": 4,
 "nbformat_minor": 5
}
