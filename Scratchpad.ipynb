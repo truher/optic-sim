{
 "cells": [
  {
   "cell_type": "code",
   "execution_count": 1,
   "id": "6eb72b67",
   "metadata": {
    "scrolled": true
   },
   "outputs": [
    {
     "name": "stderr",
     "output_type": "stream",
     "text": [
      "/home/joel/.local/lib/python3.8/site-packages/cupyx/jit/_interface.py:161: FutureWarning: cupyx.jit.rawkernel is experimental. The interface can change in the future.\n",
      "  cupy._util.experimental('cupyx.jit.rawkernel')\n"
     ]
    },
    {
     "name": "stdout",
     "output_type": "stream",
     "text": [
      "[0.7578426  0.7681122  0.1761615  0.5355341  0.45468387 0.18167168\n",
      " 0.03907524 0.18625654 0.5955092  0.00447233]\n",
      "[0.2918105  0.96924305 0.07444187 0.07298744 0.37448078 0.02077719\n",
      " 0.5541197  0.7205327  0.11233605 0.32354456]\n",
      "[0.2918105  0.96924305 0.07444187 0.07298744 0.37448078 0.02077719\n",
      " 0.5541197  0.7205327  0.11233605 0.32354456]\n",
      "[0.7578426  0.7681122  0.1761615  0.5355341  0.45468387 0.18167168\n",
      " 0.03907524 0.18625654 0.5955092  0.00447233]\n"
     ]
    }
   ],
   "source": [
    "# you can call a function \"on device\"\n",
    "import numpy as np\n",
    "import cupy as cp\n",
    "from cupyx import jit\n",
    "\n",
    "@jit.rawkernel(device=True)\n",
    "def do_a_thing(x, y):\n",
    "    return (y, x)\n",
    "    \n",
    "@jit.rawkernel()\n",
    "def do_more_things(x, y, size):\n",
    "    tid = jit.blockIdx.x * jit.blockDim.x + jit.threadIdx.x\n",
    "    ntid = jit.gridDim.x * jit.blockDim.x\n",
    "    for i in range(tid, size, ntid):\n",
    "        (x[i], y[i]) = do_a_thing(x[i], y[i])\n",
    "\n",
    "size = 10\n",
    "x = cp.random.random(size, dtype=np.float32)\n",
    "y = cp.random.random(size, dtype=np.float32)\n",
    "\n",
    "print(x)\n",
    "print(y)\n",
    "\n",
    "do_more_things((128,),(1024,),(x, y, size))\n",
    "\n",
    "print(x)\n",
    "print(y)\n"
   ]
  },
  {
   "cell_type": "code",
   "execution_count": 2,
   "id": "586a4786",
   "metadata": {
    "scrolled": true
   },
   "outputs": [
    {
     "name": "stdout",
     "output_type": "stream",
     "text": [
      "[0.17383131 0.73825866 0.13147391 0.38758528 0.00451252]\n",
      "[0.8691566  3.6912932  0.65736955 1.9379264  0.02256259]\n",
      "[0. 0. 0. 0. 0.]\n"
     ]
    }
   ],
   "source": [
    "# python float scalar type doesn't work, use numpy type\n",
    "import numpy as np\n",
    "import cupy as cp\n",
    "from cupyx import jit\n",
    "\n",
    "@jit.rawkernel()\n",
    "def scalar_multiply(a, m, size):\n",
    "    tid = jit.blockIdx.x * jit.blockDim.x + jit.threadIdx.x\n",
    "    ntid = jit.gridDim.x * jit.blockDim.x\n",
    "    for i in range(tid, size, ntid):\n",
    "        a[i] = a[i] * m\n",
    "\n",
    "size = 5\n",
    "a = cp.random.random(size, dtype=np.float32)\n",
    "\n",
    "print(a)\n",
    "scalar_multiply((128,),(1024,),(a, np.float32(5.0), size))\n",
    "print(a)\n",
    "scalar_multiply((128,),(1024,),(a, 5.0, size))\n",
    "print(a)"
   ]
  },
  {
   "cell_type": "code",
   "execution_count": 3,
   "id": "c3bbb469",
   "metadata": {},
   "outputs": [
    {
     "ename": "OutOfMemoryError",
     "evalue": "Out of memory allocating 40,000,000 bytes (allocated so far: 1,536 bytes).",
     "output_type": "error",
     "traceback": [
      "\u001b[0;31m---------------------------------------------------------------------------\u001b[0m",
      "\u001b[0;31mOutOfMemoryError\u001b[0m                          Traceback (most recent call last)",
      "\u001b[0;32m<timed exec>\u001b[0m in \u001b[0;36m<module>\u001b[0;34m\u001b[0m\n",
      "\u001b[0;32m~/.local/lib/python3.8/site-packages/cupy/random/_sample.py\u001b[0m in \u001b[0;36mrandom_sample\u001b[0;34m(size, dtype)\u001b[0m\n\u001b[1;32m    154\u001b[0m     \"\"\"\n\u001b[1;32m    155\u001b[0m     \u001b[0mrs\u001b[0m \u001b[0;34m=\u001b[0m \u001b[0m_generator\u001b[0m\u001b[0;34m.\u001b[0m\u001b[0mget_random_state\u001b[0m\u001b[0;34m(\u001b[0m\u001b[0;34m)\u001b[0m\u001b[0;34m\u001b[0m\u001b[0;34m\u001b[0m\u001b[0m\n\u001b[0;32m--> 156\u001b[0;31m     \u001b[0;32mreturn\u001b[0m \u001b[0mrs\u001b[0m\u001b[0;34m.\u001b[0m\u001b[0mrandom_sample\u001b[0m\u001b[0;34m(\u001b[0m\u001b[0msize\u001b[0m\u001b[0;34m=\u001b[0m\u001b[0msize\u001b[0m\u001b[0;34m,\u001b[0m \u001b[0mdtype\u001b[0m\u001b[0;34m=\u001b[0m\u001b[0mdtype\u001b[0m\u001b[0;34m)\u001b[0m\u001b[0;34m\u001b[0m\u001b[0;34m\u001b[0m\u001b[0m\n\u001b[0m\u001b[1;32m    157\u001b[0m \u001b[0;34m\u001b[0m\u001b[0m\n\u001b[1;32m    158\u001b[0m \u001b[0;34m\u001b[0m\u001b[0m\n",
      "\u001b[0;32m~/.local/lib/python3.8/site-packages/cupy/random/_generator.py\u001b[0m in \u001b[0;36mrandom_sample\u001b[0;34m(self, size, dtype)\u001b[0m\n\u001b[1;32m    616\u001b[0m         \u001b[0;32mif\u001b[0m \u001b[0msize\u001b[0m \u001b[0;32mis\u001b[0m \u001b[0;32mNone\u001b[0m\u001b[0;34m:\u001b[0m\u001b[0;34m\u001b[0m\u001b[0;34m\u001b[0m\u001b[0m\n\u001b[1;32m    617\u001b[0m             \u001b[0msize\u001b[0m \u001b[0;34m=\u001b[0m \u001b[0;34m(\u001b[0m\u001b[0;34m)\u001b[0m\u001b[0;34m\u001b[0m\u001b[0;34m\u001b[0m\u001b[0m\n\u001b[0;32m--> 618\u001b[0;31m         \u001b[0mout\u001b[0m \u001b[0;34m=\u001b[0m \u001b[0mself\u001b[0m\u001b[0;34m.\u001b[0m\u001b[0m_random_sample_raw\u001b[0m\u001b[0;34m(\u001b[0m\u001b[0msize\u001b[0m\u001b[0;34m,\u001b[0m \u001b[0mdtype\u001b[0m\u001b[0;34m)\u001b[0m\u001b[0;34m\u001b[0m\u001b[0;34m\u001b[0m\u001b[0m\n\u001b[0m\u001b[1;32m    619\u001b[0m         \u001b[0mRandomState\u001b[0m\u001b[0;34m.\u001b[0m\u001b[0m_mod1_kernel\u001b[0m\u001b[0;34m(\u001b[0m\u001b[0mout\u001b[0m\u001b[0;34m)\u001b[0m\u001b[0;34m\u001b[0m\u001b[0;34m\u001b[0m\u001b[0m\n\u001b[1;32m    620\u001b[0m         \u001b[0;32mreturn\u001b[0m \u001b[0mout\u001b[0m\u001b[0;34m\u001b[0m\u001b[0;34m\u001b[0m\u001b[0m\n",
      "\u001b[0;32m~/.local/lib/python3.8/site-packages/cupy/random/_generator.py\u001b[0m in \u001b[0;36m_random_sample_raw\u001b[0;34m(self, size, dtype)\u001b[0m\n\u001b[1;32m    598\u001b[0m     \u001b[0;32mdef\u001b[0m \u001b[0m_random_sample_raw\u001b[0m\u001b[0;34m(\u001b[0m\u001b[0mself\u001b[0m\u001b[0;34m,\u001b[0m \u001b[0msize\u001b[0m\u001b[0;34m,\u001b[0m \u001b[0mdtype\u001b[0m\u001b[0;34m)\u001b[0m\u001b[0;34m:\u001b[0m\u001b[0;34m\u001b[0m\u001b[0;34m\u001b[0m\u001b[0m\n\u001b[1;32m    599\u001b[0m         \u001b[0mdtype\u001b[0m \u001b[0;34m=\u001b[0m \u001b[0m_check_and_get_dtype\u001b[0m\u001b[0;34m(\u001b[0m\u001b[0mdtype\u001b[0m\u001b[0;34m)\u001b[0m\u001b[0;34m\u001b[0m\u001b[0;34m\u001b[0m\u001b[0m\n\u001b[0;32m--> 600\u001b[0;31m         \u001b[0mout\u001b[0m \u001b[0;34m=\u001b[0m \u001b[0mcupy\u001b[0m\u001b[0;34m.\u001b[0m\u001b[0mempty\u001b[0m\u001b[0;34m(\u001b[0m\u001b[0msize\u001b[0m\u001b[0;34m,\u001b[0m \u001b[0mdtype\u001b[0m\u001b[0;34m=\u001b[0m\u001b[0mdtype\u001b[0m\u001b[0;34m)\u001b[0m\u001b[0;34m\u001b[0m\u001b[0;34m\u001b[0m\u001b[0m\n\u001b[0m\u001b[1;32m    601\u001b[0m         \u001b[0;32mif\u001b[0m \u001b[0mdtype\u001b[0m\u001b[0;34m.\u001b[0m\u001b[0mchar\u001b[0m \u001b[0;34m==\u001b[0m \u001b[0;34m'f'\u001b[0m\u001b[0;34m:\u001b[0m\u001b[0;34m\u001b[0m\u001b[0;34m\u001b[0m\u001b[0m\n\u001b[1;32m    602\u001b[0m             \u001b[0mfunc\u001b[0m \u001b[0;34m=\u001b[0m \u001b[0mcurand\u001b[0m\u001b[0;34m.\u001b[0m\u001b[0mgenerateUniform\u001b[0m\u001b[0;34m\u001b[0m\u001b[0;34m\u001b[0m\u001b[0m\n",
      "\u001b[0;32m~/.local/lib/python3.8/site-packages/cupy/_creation/basic.py\u001b[0m in \u001b[0;36mempty\u001b[0;34m(shape, dtype, order)\u001b[0m\n\u001b[1;32m     20\u001b[0m \u001b[0;34m\u001b[0m\u001b[0m\n\u001b[1;32m     21\u001b[0m     \"\"\"\n\u001b[0;32m---> 22\u001b[0;31m     \u001b[0;32mreturn\u001b[0m \u001b[0mcupy\u001b[0m\u001b[0;34m.\u001b[0m\u001b[0mndarray\u001b[0m\u001b[0;34m(\u001b[0m\u001b[0mshape\u001b[0m\u001b[0;34m,\u001b[0m \u001b[0mdtype\u001b[0m\u001b[0;34m,\u001b[0m \u001b[0morder\u001b[0m\u001b[0;34m=\u001b[0m\u001b[0morder\u001b[0m\u001b[0;34m)\u001b[0m\u001b[0;34m\u001b[0m\u001b[0;34m\u001b[0m\u001b[0m\n\u001b[0m\u001b[1;32m     23\u001b[0m \u001b[0;34m\u001b[0m\u001b[0m\n\u001b[1;32m     24\u001b[0m \u001b[0;34m\u001b[0m\u001b[0m\n",
      "\u001b[0;32mcupy/_core/core.pyx\u001b[0m in \u001b[0;36mcupy._core.core.ndarray.__new__\u001b[0;34m()\u001b[0m\n",
      "\u001b[0;32mcupy/_core/core.pyx\u001b[0m in \u001b[0;36mcupy._core.core._ndarray_base._init\u001b[0;34m()\u001b[0m\n",
      "\u001b[0;32mcupy/cuda/memory.pyx\u001b[0m in \u001b[0;36mcupy.cuda.memory.alloc\u001b[0;34m()\u001b[0m\n",
      "\u001b[0;32mcupy/cuda/memory.pyx\u001b[0m in \u001b[0;36mcupy.cuda.memory.MemoryPool.malloc\u001b[0;34m()\u001b[0m\n",
      "\u001b[0;32mcupy/cuda/memory.pyx\u001b[0m in \u001b[0;36mcupy.cuda.memory.MemoryPool.malloc\u001b[0;34m()\u001b[0m\n",
      "\u001b[0;32mcupy/cuda/memory.pyx\u001b[0m in \u001b[0;36mcupy.cuda.memory.SingleDeviceMemoryPool.malloc\u001b[0;34m()\u001b[0m\n",
      "\u001b[0;32mcupy/cuda/memory.pyx\u001b[0m in \u001b[0;36mcupy.cuda.memory.SingleDeviceMemoryPool._malloc\u001b[0;34m()\u001b[0m\n",
      "\u001b[0;32mcupy/cuda/memory.pyx\u001b[0m in \u001b[0;36mcupy.cuda.memory.SingleDeviceMemoryPool._try_malloc\u001b[0;34m()\u001b[0m\n",
      "\u001b[0;31mOutOfMemoryError\u001b[0m: Out of memory allocating 40,000,000 bytes (allocated so far: 1,536 bytes)."
     ]
    }
   ],
   "source": [
    "%%time\n",
    "x = cp.random.random(10000000, dtype=np.float32) * 2"
   ]
  },
  {
   "cell_type": "code",
   "execution_count": 4,
   "id": "f97a73cc",
   "metadata": {},
   "outputs": [
    {
     "ename": "OutOfMemoryError",
     "evalue": "Out of memory allocating 40,000,000 bytes (allocated so far: 1,536 bytes).",
     "output_type": "error",
     "traceback": [
      "\u001b[0;31m---------------------------------------------------------------------------\u001b[0m",
      "\u001b[0;31mOutOfMemoryError\u001b[0m                          Traceback (most recent call last)",
      "\u001b[0;32m<timed exec>\u001b[0m in \u001b[0;36m<module>\u001b[0;34m\u001b[0m\n",
      "\u001b[0;32m~/.local/lib/python3.8/site-packages/cupy/random/_distributions.py\u001b[0m in \u001b[0;36muniform\u001b[0;34m(low, high, size, dtype)\u001b[0m\n\u001b[1;32m    841\u001b[0m     \"\"\"\n\u001b[1;32m    842\u001b[0m     \u001b[0mrs\u001b[0m \u001b[0;34m=\u001b[0m \u001b[0m_generator\u001b[0m\u001b[0;34m.\u001b[0m\u001b[0mget_random_state\u001b[0m\u001b[0;34m(\u001b[0m\u001b[0;34m)\u001b[0m\u001b[0;34m\u001b[0m\u001b[0;34m\u001b[0m\u001b[0m\n\u001b[0;32m--> 843\u001b[0;31m     \u001b[0;32mreturn\u001b[0m \u001b[0mrs\u001b[0m\u001b[0;34m.\u001b[0m\u001b[0muniform\u001b[0m\u001b[0;34m(\u001b[0m\u001b[0mlow\u001b[0m\u001b[0;34m,\u001b[0m \u001b[0mhigh\u001b[0m\u001b[0;34m,\u001b[0m \u001b[0msize\u001b[0m\u001b[0;34m=\u001b[0m\u001b[0msize\u001b[0m\u001b[0;34m,\u001b[0m \u001b[0mdtype\u001b[0m\u001b[0;34m=\u001b[0m\u001b[0mdtype\u001b[0m\u001b[0;34m)\u001b[0m\u001b[0;34m\u001b[0m\u001b[0;34m\u001b[0m\u001b[0m\n\u001b[0m\u001b[1;32m    844\u001b[0m \u001b[0;34m\u001b[0m\u001b[0m\n\u001b[1;32m    845\u001b[0m \u001b[0;34m\u001b[0m\u001b[0m\n",
      "\u001b[0;32m~/.local/lib/python3.8/site-packages/cupy/random/_generator.py\u001b[0m in \u001b[0;36muniform\u001b[0;34m(self, low, high, size, dtype)\u001b[0m\n\u001b[1;32m    917\u001b[0m         \"\"\"\n\u001b[1;32m    918\u001b[0m         \u001b[0mdtype\u001b[0m \u001b[0;34m=\u001b[0m \u001b[0mnumpy\u001b[0m\u001b[0;34m.\u001b[0m\u001b[0mdtype\u001b[0m\u001b[0;34m(\u001b[0m\u001b[0mdtype\u001b[0m\u001b[0;34m)\u001b[0m\u001b[0;34m\u001b[0m\u001b[0;34m\u001b[0m\u001b[0m\n\u001b[0;32m--> 919\u001b[0;31m         \u001b[0mrand\u001b[0m \u001b[0;34m=\u001b[0m \u001b[0mself\u001b[0m\u001b[0;34m.\u001b[0m\u001b[0mrandom_sample\u001b[0m\u001b[0;34m(\u001b[0m\u001b[0msize\u001b[0m\u001b[0;34m=\u001b[0m\u001b[0msize\u001b[0m\u001b[0;34m,\u001b[0m \u001b[0mdtype\u001b[0m\u001b[0;34m=\u001b[0m\u001b[0mdtype\u001b[0m\u001b[0;34m)\u001b[0m\u001b[0;34m\u001b[0m\u001b[0;34m\u001b[0m\u001b[0m\n\u001b[0m\u001b[1;32m    920\u001b[0m         \u001b[0;32mif\u001b[0m \u001b[0;32mnot\u001b[0m \u001b[0mnumpy\u001b[0m\u001b[0;34m.\u001b[0m\u001b[0misscalar\u001b[0m\u001b[0;34m(\u001b[0m\u001b[0mlow\u001b[0m\u001b[0;34m)\u001b[0m\u001b[0;34m:\u001b[0m\u001b[0;34m\u001b[0m\u001b[0;34m\u001b[0m\u001b[0m\n\u001b[1;32m    921\u001b[0m             \u001b[0mlow\u001b[0m \u001b[0;34m=\u001b[0m \u001b[0mcupy\u001b[0m\u001b[0;34m.\u001b[0m\u001b[0masarray\u001b[0m\u001b[0;34m(\u001b[0m\u001b[0mlow\u001b[0m\u001b[0;34m,\u001b[0m \u001b[0mdtype\u001b[0m\u001b[0;34m)\u001b[0m\u001b[0;34m\u001b[0m\u001b[0;34m\u001b[0m\u001b[0m\n",
      "\u001b[0;32m~/.local/lib/python3.8/site-packages/cupy/random/_generator.py\u001b[0m in \u001b[0;36mrandom_sample\u001b[0;34m(self, size, dtype)\u001b[0m\n\u001b[1;32m    616\u001b[0m         \u001b[0;32mif\u001b[0m \u001b[0msize\u001b[0m \u001b[0;32mis\u001b[0m \u001b[0;32mNone\u001b[0m\u001b[0;34m:\u001b[0m\u001b[0;34m\u001b[0m\u001b[0;34m\u001b[0m\u001b[0m\n\u001b[1;32m    617\u001b[0m             \u001b[0msize\u001b[0m \u001b[0;34m=\u001b[0m \u001b[0;34m(\u001b[0m\u001b[0;34m)\u001b[0m\u001b[0;34m\u001b[0m\u001b[0;34m\u001b[0m\u001b[0m\n\u001b[0;32m--> 618\u001b[0;31m         \u001b[0mout\u001b[0m \u001b[0;34m=\u001b[0m \u001b[0mself\u001b[0m\u001b[0;34m.\u001b[0m\u001b[0m_random_sample_raw\u001b[0m\u001b[0;34m(\u001b[0m\u001b[0msize\u001b[0m\u001b[0;34m,\u001b[0m \u001b[0mdtype\u001b[0m\u001b[0;34m)\u001b[0m\u001b[0;34m\u001b[0m\u001b[0;34m\u001b[0m\u001b[0m\n\u001b[0m\u001b[1;32m    619\u001b[0m         \u001b[0mRandomState\u001b[0m\u001b[0;34m.\u001b[0m\u001b[0m_mod1_kernel\u001b[0m\u001b[0;34m(\u001b[0m\u001b[0mout\u001b[0m\u001b[0;34m)\u001b[0m\u001b[0;34m\u001b[0m\u001b[0;34m\u001b[0m\u001b[0m\n\u001b[1;32m    620\u001b[0m         \u001b[0;32mreturn\u001b[0m \u001b[0mout\u001b[0m\u001b[0;34m\u001b[0m\u001b[0;34m\u001b[0m\u001b[0m\n",
      "\u001b[0;32m~/.local/lib/python3.8/site-packages/cupy/random/_generator.py\u001b[0m in \u001b[0;36m_random_sample_raw\u001b[0;34m(self, size, dtype)\u001b[0m\n\u001b[1;32m    598\u001b[0m     \u001b[0;32mdef\u001b[0m \u001b[0m_random_sample_raw\u001b[0m\u001b[0;34m(\u001b[0m\u001b[0mself\u001b[0m\u001b[0;34m,\u001b[0m \u001b[0msize\u001b[0m\u001b[0;34m,\u001b[0m \u001b[0mdtype\u001b[0m\u001b[0;34m)\u001b[0m\u001b[0;34m:\u001b[0m\u001b[0;34m\u001b[0m\u001b[0;34m\u001b[0m\u001b[0m\n\u001b[1;32m    599\u001b[0m         \u001b[0mdtype\u001b[0m \u001b[0;34m=\u001b[0m \u001b[0m_check_and_get_dtype\u001b[0m\u001b[0;34m(\u001b[0m\u001b[0mdtype\u001b[0m\u001b[0;34m)\u001b[0m\u001b[0;34m\u001b[0m\u001b[0;34m\u001b[0m\u001b[0m\n\u001b[0;32m--> 600\u001b[0;31m         \u001b[0mout\u001b[0m \u001b[0;34m=\u001b[0m \u001b[0mcupy\u001b[0m\u001b[0;34m.\u001b[0m\u001b[0mempty\u001b[0m\u001b[0;34m(\u001b[0m\u001b[0msize\u001b[0m\u001b[0;34m,\u001b[0m \u001b[0mdtype\u001b[0m\u001b[0;34m=\u001b[0m\u001b[0mdtype\u001b[0m\u001b[0;34m)\u001b[0m\u001b[0;34m\u001b[0m\u001b[0;34m\u001b[0m\u001b[0m\n\u001b[0m\u001b[1;32m    601\u001b[0m         \u001b[0;32mif\u001b[0m \u001b[0mdtype\u001b[0m\u001b[0;34m.\u001b[0m\u001b[0mchar\u001b[0m \u001b[0;34m==\u001b[0m \u001b[0;34m'f'\u001b[0m\u001b[0;34m:\u001b[0m\u001b[0;34m\u001b[0m\u001b[0;34m\u001b[0m\u001b[0m\n\u001b[1;32m    602\u001b[0m             \u001b[0mfunc\u001b[0m \u001b[0;34m=\u001b[0m \u001b[0mcurand\u001b[0m\u001b[0;34m.\u001b[0m\u001b[0mgenerateUniform\u001b[0m\u001b[0;34m\u001b[0m\u001b[0;34m\u001b[0m\u001b[0m\n",
      "\u001b[0;32m~/.local/lib/python3.8/site-packages/cupy/_creation/basic.py\u001b[0m in \u001b[0;36mempty\u001b[0;34m(shape, dtype, order)\u001b[0m\n\u001b[1;32m     20\u001b[0m \u001b[0;34m\u001b[0m\u001b[0m\n\u001b[1;32m     21\u001b[0m     \"\"\"\n\u001b[0;32m---> 22\u001b[0;31m     \u001b[0;32mreturn\u001b[0m \u001b[0mcupy\u001b[0m\u001b[0;34m.\u001b[0m\u001b[0mndarray\u001b[0m\u001b[0;34m(\u001b[0m\u001b[0mshape\u001b[0m\u001b[0;34m,\u001b[0m \u001b[0mdtype\u001b[0m\u001b[0;34m,\u001b[0m \u001b[0morder\u001b[0m\u001b[0;34m=\u001b[0m\u001b[0morder\u001b[0m\u001b[0;34m)\u001b[0m\u001b[0;34m\u001b[0m\u001b[0;34m\u001b[0m\u001b[0m\n\u001b[0m\u001b[1;32m     23\u001b[0m \u001b[0;34m\u001b[0m\u001b[0m\n\u001b[1;32m     24\u001b[0m \u001b[0;34m\u001b[0m\u001b[0m\n",
      "\u001b[0;32mcupy/_core/core.pyx\u001b[0m in \u001b[0;36mcupy._core.core.ndarray.__new__\u001b[0;34m()\u001b[0m\n",
      "\u001b[0;32mcupy/_core/core.pyx\u001b[0m in \u001b[0;36mcupy._core.core._ndarray_base._init\u001b[0;34m()\u001b[0m\n",
      "\u001b[0;32mcupy/cuda/memory.pyx\u001b[0m in \u001b[0;36mcupy.cuda.memory.alloc\u001b[0;34m()\u001b[0m\n",
      "\u001b[0;32mcupy/cuda/memory.pyx\u001b[0m in \u001b[0;36mcupy.cuda.memory.MemoryPool.malloc\u001b[0;34m()\u001b[0m\n",
      "\u001b[0;32mcupy/cuda/memory.pyx\u001b[0m in \u001b[0;36mcupy.cuda.memory.MemoryPool.malloc\u001b[0;34m()\u001b[0m\n",
      "\u001b[0;32mcupy/cuda/memory.pyx\u001b[0m in \u001b[0;36mcupy.cuda.memory.SingleDeviceMemoryPool.malloc\u001b[0;34m()\u001b[0m\n",
      "\u001b[0;32mcupy/cuda/memory.pyx\u001b[0m in \u001b[0;36mcupy.cuda.memory.SingleDeviceMemoryPool._malloc\u001b[0;34m()\u001b[0m\n",
      "\u001b[0;32mcupy/cuda/memory.pyx\u001b[0m in \u001b[0;36mcupy.cuda.memory.SingleDeviceMemoryPool._try_malloc\u001b[0;34m()\u001b[0m\n",
      "\u001b[0;31mOutOfMemoryError\u001b[0m: Out of memory allocating 40,000,000 bytes (allocated so far: 1,536 bytes)."
     ]
    }
   ],
   "source": [
    "%%time\n",
    "y = cp.random.uniform(0, 2, 10000000, dtype=np.float32)"
   ]
  },
  {
   "cell_type": "code",
   "execution_count": 5,
   "id": "2721873a",
   "metadata": {
    "scrolled": true
   },
   "outputs": [
    {
     "data": {
      "image/png": "[encoded data removed]",
      "text/plain": [
       "<Figure size 432x288 with 1 Axes>"
      ]
     },
     "metadata": {
      "needs_background": "light"
     },
     "output_type": "display_data"
    },
    {
     "data": {
      "image/png": "[encoded data removed]",
      "text/plain": [
       "<Figure size 432x288 with 1 Axes>"
      ]
     },
     "metadata": {
      "needs_background": "light"
     },
     "output_type": "display_data"
    }
   ],
   "source": [
    "# i'm losing my mind\n",
    "import numpy as np\n",
    "import matplotlib.pyplot as plt\n",
    "\n",
    "size = 1000000\n",
    "x = np.arccos(2 * np.random.random(size) - 1) / 2\n",
    "y = np.arccos(np.random.uniform(-1, 1, size))/2\n",
    "plt.hist(x, bins=100);\n",
    "plt.show()\n",
    "plt.hist(y, bins=100);"
   ]
  },
  {
   "cell_type": "code",
   "execution_count": 6,
   "id": "378fd53a",
   "metadata": {},
   "outputs": [
    {
     "name": "stderr",
     "output_type": "stream",
     "text": [
      "/home/joel/.local/lib/python3.8/site-packages/cupyx/jit/_interface.py:161: FutureWarning: cupyx.jit.rawkernel is experimental. The interface can change in the future.\n",
      "  cupy._util.experimental('cupyx.jit.rawkernel')\n"
     ]
    },
    {
     "ename": "OutOfMemoryError",
     "evalue": "Out of memory allocating 4,000,256 bytes (allocated so far: 12,002,304 bytes).",
     "output_type": "error",
     "traceback": [
      "\u001b[0;31m---------------------------------------------------------------------------\u001b[0m",
      "\u001b[0;31mOutOfMemoryError\u001b[0m                          Traceback (most recent call last)",
      "\u001b[0;32m<ipython-input-6-107b9186df5e>\u001b[0m in \u001b[0;36m<module>\u001b[0;34m\u001b[0m\n\u001b[1;32m     26\u001b[0m \u001b[0mphi_x\u001b[0m \u001b[0;34m=\u001b[0m \u001b[0mcp\u001b[0m\u001b[0;34m.\u001b[0m\u001b[0mrandom\u001b[0m\u001b[0;34m.\u001b[0m\u001b[0muniform\u001b[0m\u001b[0;34m(\u001b[0m\u001b[0;36m0\u001b[0m\u001b[0;34m,\u001b[0m \u001b[0;36m2\u001b[0m \u001b[0;34m*\u001b[0m \u001b[0mnp\u001b[0m\u001b[0;34m.\u001b[0m\u001b[0mpi\u001b[0m\u001b[0;34m,\u001b[0m \u001b[0msize\u001b[0m\u001b[0;34m,\u001b[0m \u001b[0mdtype\u001b[0m\u001b[0;34m=\u001b[0m\u001b[0mnp\u001b[0m\u001b[0;34m.\u001b[0m\u001b[0mfloat32\u001b[0m\u001b[0;34m)\u001b[0m\u001b[0;34m\u001b[0m\u001b[0;34m\u001b[0m\u001b[0m\n\u001b[1;32m     27\u001b[0m \u001b[0my\u001b[0m \u001b[0;34m=\u001b[0m \u001b[0mcp\u001b[0m\u001b[0;34m.\u001b[0m\u001b[0mempty\u001b[0m\u001b[0;34m(\u001b[0m\u001b[0msize\u001b[0m\u001b[0;34m,\u001b[0m \u001b[0mdtype\u001b[0m\u001b[0;34m=\u001b[0m\u001b[0mnp\u001b[0m\u001b[0;34m.\u001b[0m\u001b[0mfloat32\u001b[0m\u001b[0;34m)\u001b[0m\u001b[0;34m\u001b[0m\u001b[0;34m\u001b[0m\u001b[0m\n\u001b[0;32m---> 28\u001b[0;31m \u001b[0mtheta_z\u001b[0m \u001b[0;34m=\u001b[0m \u001b[0mcp\u001b[0m\u001b[0;34m.\u001b[0m\u001b[0marccos\u001b[0m\u001b[0;34m(\u001b[0m\u001b[0mcp\u001b[0m\u001b[0;34m.\u001b[0m\u001b[0mrandom\u001b[0m\u001b[0;34m.\u001b[0m\u001b[0muniform\u001b[0m\u001b[0;34m(\u001b[0m\u001b[0;34m-\u001b[0m\u001b[0;36m1\u001b[0m\u001b[0;34m,\u001b[0m \u001b[0;36m1\u001b[0m\u001b[0;34m,\u001b[0m \u001b[0msize\u001b[0m\u001b[0;34m,\u001b[0m \u001b[0mdtype\u001b[0m\u001b[0;34m=\u001b[0m\u001b[0mnp\u001b[0m\u001b[0;34m.\u001b[0m\u001b[0mfloat32\u001b[0m\u001b[0;34m)\u001b[0m\u001b[0;34m)\u001b[0m \u001b[0;34m/\u001b[0m \u001b[0;36m2\u001b[0m\u001b[0;34m\u001b[0m\u001b[0;34m\u001b[0m\u001b[0m\n\u001b[0m\u001b[1;32m     29\u001b[0m \u001b[0;34m\u001b[0m\u001b[0m\n\u001b[1;32m     30\u001b[0m \u001b[0mplt\u001b[0m\u001b[0;34m.\u001b[0m\u001b[0mtitle\u001b[0m\u001b[0;34m(\u001b[0m\u001b[0;34m'PHI'\u001b[0m\u001b[0;34m)\u001b[0m\u001b[0;34m\u001b[0m\u001b[0;34m\u001b[0m\u001b[0m\n",
      "\u001b[0;32mcupy/_core/_kernel.pyx\u001b[0m in \u001b[0;36mcupy._core._kernel.ufunc.__call__\u001b[0;34m()\u001b[0m\n",
      "\u001b[0;32mcupy/_core/_kernel.pyx\u001b[0m in \u001b[0;36mcupy._core._kernel._get_out_args_from_optionals\u001b[0;34m()\u001b[0m\n",
      "\u001b[0;32mcupy/_core/core.pyx\u001b[0m in \u001b[0;36mcupy._core.core._ndarray_init\u001b[0;34m()\u001b[0m\n",
      "\u001b[0;32mcupy/_core/core.pyx\u001b[0m in \u001b[0;36mcupy._core.core._ndarray_base._init_fast\u001b[0;34m()\u001b[0m\n",
      "\u001b[0;32mcupy/cuda/memory.pyx\u001b[0m in \u001b[0;36mcupy.cuda.memory.alloc\u001b[0;34m()\u001b[0m\n",
      "\u001b[0;32mcupy/cuda/memory.pyx\u001b[0m in \u001b[0;36mcupy.cuda.memory.MemoryPool.malloc\u001b[0;34m()\u001b[0m\n",
      "\u001b[0;32mcupy/cuda/memory.pyx\u001b[0m in \u001b[0;36mcupy.cuda.memory.MemoryPool.malloc\u001b[0;34m()\u001b[0m\n",
      "\u001b[0;32mcupy/cuda/memory.pyx\u001b[0m in \u001b[0;36mcupy.cuda.memory.SingleDeviceMemoryPool.malloc\u001b[0;34m()\u001b[0m\n",
      "\u001b[0;32mcupy/cuda/memory.pyx\u001b[0m in \u001b[0;36mcupy.cuda.memory.SingleDeviceMemoryPool._malloc\u001b[0;34m()\u001b[0m\n",
      "\u001b[0;32mcupy/cuda/memory.pyx\u001b[0m in \u001b[0;36mcupy.cuda.memory.SingleDeviceMemoryPool._try_malloc\u001b[0;34m()\u001b[0m\n",
      "\u001b[0;31mOutOfMemoryError\u001b[0m: Out of memory allocating 4,000,256 bytes (allocated so far: 12,002,304 bytes)."
     ]
    }
   ],
   "source": [
    "# in-place\n",
    "import cupy as cp\n",
    "import matplotlib.pyplot as plt\n",
    "import numpy as np\n",
    "from typing import Tuple\n",
    "from cupyx import jit\n",
    "\n",
    "@jit.rawkernel()\n",
    "def spherical_to_cartesian_raw(theta_z, phi_x, y, size) -> None:\n",
    "    \"\"\"in-place reuses the inputs.\"\"\"\n",
    "    tid = jit.blockIdx.x * jit.blockDim.x + jit.threadIdx.x\n",
    "    ntid = jit.gridDim.x * jit.blockDim.x\n",
    "    for i in range(tid, size, ntid):\n",
    "        y[i] = cp.sin(theta_z[i]) * cp.sin(phi_x[i])\n",
    "        phi_x[i] = cp.sin(theta_z[i]) * cp.cos(phi_x[i])\n",
    "        theta_z[i] = cp.cos(theta_z[i])\n",
    "        \n",
    "def spherical_to_cartesian(theta: cp.ndarray, phi: cp.ndarray) -> Tuple[cp.ndarray, cp.ndarray, cp.ndarray]:\n",
    "    x = cp.sin(theta) * cp.cos(phi)\n",
    "    y = cp.sin(theta) * cp.sin(phi)\n",
    "    z = cp.cos(theta)\n",
    "    return (x,y,z)\n",
    "\n",
    "size = 1000000\n",
    "# lambertian\n",
    "phi_x = cp.random.uniform(0, 2 * np.pi, size, dtype=np.float32)\n",
    "y = cp.empty(size, dtype=np.float32)\n",
    "theta_z = cp.arccos(cp.random.uniform(-1, 1, size, dtype=np.float32)) / 2\n",
    "\n",
    "plt.title('PHI')\n",
    "plt.hist(phi_x.get(), bins=100)\n",
    "plt.show()\n",
    "\n",
    "plt.title('THETA')\n",
    "plt.hist(theta_z.get(), bins=100)\n",
    "plt.show()\n",
    "\n",
    "# this way makes zero extra temporary columns\n",
    "spherical_to_cartesian_raw((128,),(1024,),(theta_z, phi_x, y, size))\n",
    "\n",
    "plt.title('X')\n",
    "plt.hist(phi_x.get(), bins=100)\n",
    "plt.show()\n",
    "\n",
    "plt.title(\"Y\")\n",
    "plt.hist(y.get(), bins=100)\n",
    "plt.show()\n",
    "\n",
    "plt.title(\"Z\")\n",
    "plt.hist(theta_z.get(), bins=100)\n",
    "plt.show()\n",
    "\n",
    "# the other way\n",
    "\n",
    "phi = cp.random.uniform(0, 2 * np.pi, size, dtype=np.float32)\n",
    "theta = cp.arccos(cp.random.uniform(-1, 1, size, dtype=np.float32)) / 2\n",
    "\n",
    "plt.title('PHI 2')\n",
    "plt.hist(phi.get(), bins=100)\n",
    "plt.show()\n",
    "\n",
    "plt.title('THETA 2')\n",
    "plt.hist(theta.get(), bins=100)\n",
    "plt.show()\n",
    "\n",
    "# this way makes two extra temporary columns\n",
    "(x,y,z) = spherical_to_cartesian(theta, phi)\n",
    "\n",
    "plt.title('X 2')\n",
    "plt.hist(x.get(), bins=100)\n",
    "plt.show()\n",
    "\n",
    "plt.title(\"Y 2\")\n",
    "plt.hist(y.get(), bins=100)\n",
    "plt.show()\n",
    "\n",
    "plt.title(\"Z 2\")\n",
    "plt.hist(z.get(), bins=100)\n",
    "plt.show()\n"
   ]
  },
  {
   "cell_type": "code",
   "execution_count": null,
   "id": "752a4124",
   "metadata": {},
   "outputs": [],
   "source": [
    "# calculate histograms\n",
    "import cupy as cp\n",
    "import matplotlib.pyplot as plt\n",
    "import numpy as np\n",
    "\n",
    "size = 1000000\n",
    "x = cp.random.uniform(0, 1, size, dtype=np.float32)\n",
    "plt.title('MatPlotLib histogram(X)')\n",
    "plt.hist(x.get(), bins=100)\n",
    "plt.show()\n",
    "\n",
    "(hist, bin_edges) = cp.histogram(x, bins=100)\n",
    "plt.title(\"CuPy histogram(X)\")\n",
    "plt.bar(x=0.5 * (bin_edges.get()[:-1] + bin_edges.get()[1:]), height=hist.get(), width = 0.01)\n",
    "\n",
    "@cp.fuse()\n",
    "def square_hist(y):\n",
    "    print(type(y))\n",
    "    print(y)\n",
    "    return cp.sum((y // 0.2))\n",
    "\n",
    "print(type(x))\n",
    "(hist, bin_edges) = square_hist(x)\n",
    "print(hist)\n",
    "print(bin_edges)\n",
    "plt.title(\"CuPy histogram(X^2)\")\n",
    "plt.bar(x=0.5 * (bin_edges.get()[:-1] + bin_edges.get()[1:]), height=hist.get(), width = 0.01)"
   ]
  },
  {
   "cell_type": "markdown",
   "id": "31e10171",
   "metadata": {},
   "source": [
    "# CUDA Histogram\n",
    "uses shared memory"
   ]
  },
  {
   "cell_type": "code",
   "execution_count": null,
   "id": "c95b3156",
   "metadata": {},
   "outputs": [],
   "source": [
    "import cupy as cp\n",
    "import math\n",
    "import matplotlib.pyplot as plt\n",
    "import numpy as np\n",
    "from cupyx import jit\n",
    "\n",
    "@jit.rawkernel()\n",
    "def histogram(input_data: cp.ndarray,\n",
    "              global_histogram: cp.ndarray,\n",
    "              size: np.int32,\n",
    "              min_value: np.float32,\n",
    "              bin_width: np.float32) -> None:\n",
    "    \"\"\" input_data: cp.ndarray[np.float32]\n",
    "        global_histogram: cp.ndarray[np.int32]\n",
    "    \"\"\"\n",
    "    # Create a histogram for this block.  Size must match bins and threads.\n",
    "    block_histogram = jit.shared_memory(np.int32, 128)\n",
    "\n",
    "    # Alloc is not zeroed so do it.\n",
    "    block_histogram[jit.threadIdx.x] = 0\n",
    "\n",
    "    # Wait for all threads to set their zeros.\n",
    "    jit.syncthreads()\n",
    "    \n",
    "    # Fill up the block-local histogram.\n",
    "    # Adjacent threads get adjacent data:\n",
    "    tid = jit.blockIdx.x * jit.blockDim.x + jit.threadIdx.x\n",
    "    # If there's more than one grid (not recommended) then do that too:\n",
    "    ntid = jit.gridDim.x * jit.blockDim.x\n",
    "    \n",
    "    for i in range(tid, size, ntid):\n",
    "        bucket_idx = int((input_data[i] - min_value) // bin_width)\n",
    "        bucket_idx = int(min(max(bucket_idx, 0), 127)) # must match above\n",
    "        jit.atomic_add(block_histogram, bucket_idx, 1)\n",
    "\n",
    "    # Wait for all the threads to do it.\n",
    "    jit.syncthreads()\n",
    "\n",
    "    # Sum the block-local histograms into a global histogram.\n",
    "    jit.atomic_add(global_histogram, jit.threadIdx.x, block_histogram[jit.threadIdx.x])"
   ]
  },
  {
   "cell_type": "code",
   "execution_count": null,
   "id": "83c0e8a1",
   "metadata": {
    "scrolled": false
   },
   "outputs": [],
   "source": [
    "mempool = cp.get_default_memory_pool()\n",
    "mempool.free_all_blocks()\n",
    "print(f\"mempool.used_bytes {mempool.used_bytes()}\")\n",
    "\n",
    "size =100000000\n",
    "bins = 128\n",
    "\n",
    "threads_per_block = bins # because the threads write back\n",
    "grid_size = (int(math.ceil(size / threads_per_block)), 1, 1)\n",
    "block_size = (threads_per_block, 1, 1)\n",
    "print(f\"grid_size {grid_size}\")\n",
    "print(f\"block_size {block_size}\")"
   ]
  },
  {
   "cell_type": "code",
   "execution_count": null,
   "id": "b39026f7",
   "metadata": {},
   "outputs": [],
   "source": [
    "epsilon = cp.finfo(np.float32).eps\n",
    "# [0, pi/2)\n",
    "y = cp.maximum(0.0, cp.arccos(cp.random.uniform(-1, 1, size, dtype=np.float32))/2 - epsilon) + 1"
   ]
  },
  {
   "cell_type": "code",
   "execution_count": null,
   "id": "67ce4b9d",
   "metadata": {},
   "outputs": [],
   "source": [
    "print(cp.min(y))\n",
    "print(cp.max(y))\n",
    "print(y)\n",
    "input_min = 1\n",
    "input_max = np.pi/2 + 1\n",
    "input_range = input_max - input_min\n",
    "bin_width = input_range / bins\n",
    "y_bin = cp.floor_divide(y - input_min, bin_width)\n",
    "print(y_bin)\n",
    "print(cp.max(y_bin))\n",
    "print(cp.min(y_bin))"
   ]
  },
  {
   "cell_type": "code",
   "execution_count": null,
   "id": "ffd14b2c",
   "metadata": {
    "scrolled": false
   },
   "outputs": [],
   "source": [
    "%%time\n",
    "# this is about 150us for 100M items (fast!)\n",
    "h = cp.zeros(bins, dtype=np.int32)\n",
    "histogram(grid_size, block_size, (y, h, size, np.float32(1), np.float32(np.pi/256)))"
   ]
  },
  {
   "cell_type": "code",
   "execution_count": null,
   "id": "632e8049",
   "metadata": {},
   "outputs": [],
   "source": [
    "%%time\n",
    "# this is like 10ms for 100M items (slow!)\n",
    "(h2,b2) = cp.histogram(y, bins=256)"
   ]
  },
  {
   "cell_type": "code",
   "execution_count": null,
   "id": "3ac856e6",
   "metadata": {},
   "outputs": [],
   "source": [
    "print(cp.sum(h))\n",
    "print(h)\n",
    "print(cp.min(h))"
   ]
  },
  {
   "cell_type": "code",
   "execution_count": null,
   "id": "091afb13",
   "metadata": {},
   "outputs": [],
   "source": [
    "f = plt.figure(figsize=[20, 10])\n",
    "plt.plot(np.arange(bins), h.get(), snap=False)"
   ]
  },
  {
   "cell_type": "code",
   "execution_count": null,
   "id": "5a533f55",
   "metadata": {},
   "outputs": [],
   "source": [
    "theta_freq = h.get()\n",
    "theta_range = np.pi/2\n",
    "theta_min = 0\n",
    "theta_max = np.pi/2\n",
    "theta_bins_rad = theta_range * np.arange(bins) / bins + theta_min\n",
    "theta_bin_width_rad = theta_range / bins\n",
    "theta_bucket_angle_steradians = np.array(\n",
    "    list(map(lambda x: (np.cos((theta_range * x + theta_min) / bins)\n",
    "                      - np.cos((theta_range * (x + 1) + theta_min) / bins)), range(bins),)))\n",
    "\n",
    "photons_per_steradian_by_theta = theta_freq / theta_bucket_angle_steradians\n",
    "\n",
    "fig = plt.figure(figsize=[15, 12])\n",
    "axes = plt.subplot(projection=\"polar\")\n",
    "axes.set_theta_zero_location(\"N\")\n",
    "# mirror the data so it looks nice .. resulting in the weird bounds here\n",
    "axes.set_thetamin(-theta_max * 180 / np.pi)\n",
    "axes.set_thetamax(theta_max * 180 / np.pi)\n",
    "axes.plot(\n",
    "    theta_bins_rad,\n",
    "    photons_per_steradian_by_theta,\n",
    "    color=\"blue\",\n",
    "    snap=False\n",
    ")\n",
    "axes.plot(\n",
    "    -theta_bins_rad,\n",
    "    photons_per_steradian_by_theta,\n",
    "    color=\"blue\",\n",
    "    snap=False\n",
    ")\n",
    "axes.set_xlabel(\"polar angle (theta) (degrees)\")\n",
    "axes.set_ylabel(\"photon count per ... ? (TODO: sr)\")\n",
    "plt.show()"
   ]
  },
  {
   "cell_type": "code",
   "execution_count": null,
   "id": "d886020c",
   "metadata": {},
   "outputs": [],
   "source": [
    "import cupy as cp\n",
    "import numpy as np\n",
    "x = cp.random.uniform(0, 1, 10000000, dtype=np.float32)"
   ]
  },
  {
   "cell_type": "code",
   "execution_count": null,
   "id": "335062a4",
   "metadata": {},
   "outputs": [],
   "source": [
    "%%time\n",
    "y = cp.random.choice(x, 1000)\n",
    "y2 = cp.random.choice(x, 1000)\n",
    "y3 = cp.random.choice(x, 1000)\n",
    "y4 = cp.random.choice(x, 1000)\n",
    "y5 = cp.random.choice(x, 1000)\n",
    "y6 = cp.random.choice(x, 1000)"
   ]
  },
  {
   "cell_type": "code",
   "execution_count": null,
   "id": "0a3af821",
   "metadata": {
    "scrolled": false
   },
   "outputs": [],
   "source": [
    "# selection performance"
   ]
  },
  {
   "cell_type": "code",
   "execution_count": null,
   "id": "32948692",
   "metadata": {},
   "outputs": [],
   "source": [
    "import cupy as cp\n",
    "import numpy as np\n",
    "size = 100000000\n",
    "x = cp.random.uniform(0, 1, size, dtype=np.float32)\n",
    "selection_size = 1000\n",
    "randidx = cp.random.randint(0, size, selection_size)\n",
    "strideidx = cp.arange(0, size, size//selection_size + 1)"
   ]
  },
  {
   "cell_type": "code",
   "execution_count": null,
   "id": "3441fbda",
   "metadata": {},
   "outputs": [],
   "source": [
    "%%timeit\n",
    "y0 = x[randidx]\n",
    "y1 = x[randidx]\n",
    "y2 = x[randidx]\n",
    "y3 = x[randidx]\n",
    "y4 = x[randidx]\n",
    "y5 = x[randidx]\n",
    "xp = cp.column_stack((y0,y1,y2))\n",
    "xd = cp.column_stack((y3,y4,y5))"
   ]
  },
  {
   "cell_type": "code",
   "execution_count": null,
   "id": "9aae85ce",
   "metadata": {},
   "outputs": [],
   "source": [
    "%%time\n",
    "y = x[strideidx]"
   ]
  },
  {
   "cell_type": "code",
   "execution_count": null,
   "id": "45947c18",
   "metadata": {},
   "outputs": [],
   "source": [
    "first_few = cp.arange(selection_size)"
   ]
  },
  {
   "cell_type": "code",
   "execution_count": null,
   "id": "4e404489",
   "metadata": {},
   "outputs": [],
   "source": [
    "%%time\n",
    "y = x[first_few]"
   ]
  },
  {
   "cell_type": "markdown",
   "id": "3882a398",
   "metadata": {},
   "source": [
    "Parallel strided selection"
   ]
  },
  {
   "cell_type": "code",
   "execution_count": null,
   "id": "7368c3af",
   "metadata": {},
   "outputs": [],
   "source": [
    "import cupy as cp\n",
    "import numpy as np\n",
    "from cupyx import jit\n",
    "\n",
    "@jit.rawkernel()\n",
    "def select(i0, i1, i2, i3, i4, i5,\n",
    "           s0, s1, s2, s3, s4, s5,\n",
    "           selection_size, scale):\n",
    "    idx = jit.blockIdx.x * jit.blockDim.x + jit.threadIdx.x\n",
    "    if idx < selection_size:\n",
    "        i = idx * scale        \n",
    "        s0[idx] = i0[i]\n",
    "        s1[idx] = i1[i]\n",
    "        s2[idx] = i2[i]\n",
    "        s3[idx] = i3[i]\n",
    "        s4[idx] = i4[i]\n",
    "        s5[idx] = i5[i]"
   ]
  },
  {
   "cell_type": "code",
   "execution_count": null,
   "id": "fc5d7e72",
   "metadata": {},
   "outputs": [],
   "source": [
    "size = np.int32(50000000)\n",
    "x0 = cp.random.random(size, dtype=np.float32)\n",
    "x1 = cp.random.random(size, dtype=np.float32)\n",
    "x2 = cp.random.random(size, dtype=np.float32)\n",
    "x3 = cp.random.random(size, dtype=np.float32)\n",
    "x4 = cp.random.random(size, dtype=np.float32)\n",
    "x5 = cp.random.random(size, dtype=np.float32)\n",
    "\n",
    "selection_size = np.int32(1000)\n",
    "scale = np.int32(size//selection_size)\n",
    "y0 = cp.zeros(selection_size, dtype=np.float32)\n",
    "y1 = cp.zeros(selection_size, dtype=np.float32)\n",
    "y2 = cp.zeros(selection_size, dtype=np.float32)\n",
    "y3 = cp.zeros(selection_size, dtype=np.float32)\n",
    "y4 = cp.zeros(selection_size, dtype=np.float32)\n",
    "y5 = cp.zeros(selection_size, dtype=np.float32)\n",
    "\n",
    "\n",
    "select((32,),(32,),(x0, x1, x2, x3, x4, x5,\n",
    "                    y0, y1, y2, y3, y4, y5,\n",
    "                    selection_size, scale))"
   ]
  },
  {
   "cell_type": "code",
   "execution_count": null,
   "id": "bc1bf28a",
   "metadata": {},
   "outputs": [],
   "source": [
    "%%timeit\n",
    "# 375 us\n",
    "select((32,),(32,),(x0, x1, x2, x3, x4, x5,\n",
    "                    y0, y1, y2, y3, y4, y5,\n",
    "                    selection_size, scale))"
   ]
  },
  {
   "cell_type": "code",
   "execution_count": null,
   "id": "c5515c03",
   "metadata": {},
   "outputs": [],
   "source": [
    "%%time\n",
    "## 1-2 ms\n",
    "select((32,),(32,),(x0, x1, x2, x3, x4, x5,\n",
    "                    y0, y1, y2, y3, y4, y5,\n",
    "                    selection_size, scale))\n",
    "xp = cp.column_stack((y0,y1,y2))\n",
    "xd = cp.column_stack((y3,y4,y5))"
   ]
  },
  {
   "cell_type": "markdown",
   "id": "d7afabaf",
   "metadata": {},
   "source": [
    "---\n",
    "\n",
    "### parallel selection and stacking"
   ]
  },
  {
   "cell_type": "code",
   "execution_count": null,
   "id": "c1a63669",
   "metadata": {},
   "outputs": [],
   "source": [
    "import cupy as cp\n",
    "import numpy as np\n",
    "from cupyx import jit\n",
    "\n",
    "@jit.rawkernel()\n",
    "def select_and_stack(i0, i1, i2, i3, i4, i5,\n",
    "                     p, d, # Nx3\n",
    "                     selection_size, scale):\n",
    "    idx = jit.blockIdx.x * jit.blockDim.x + jit.threadIdx.x\n",
    "    if idx < selection_size:\n",
    "        s_i = idx * scale  \n",
    "        p[(idx, 0)] = i0[s_i]\n",
    "        p[(idx, 1)] = i1[s_i]\n",
    "        p[(idx, 2)] = i2[s_i]\n",
    "        d[(idx, 0)] = i3[s_i]\n",
    "        d[(idx, 1)] = i4[s_i]\n",
    "        d[(idx, 2)] = i5[s_i]"
   ]
  },
  {
   "cell_type": "code",
   "execution_count": null,
   "id": "3b89c4bb",
   "metadata": {},
   "outputs": [],
   "source": [
    "size = np.int32(50000000)\n",
    "x0 = cp.random.random(size, dtype=np.float32)\n",
    "x1 = cp.random.random(size, dtype=np.float32)\n",
    "x2 = cp.random.random(size, dtype=np.float32)\n",
    "x3 = cp.random.random(size, dtype=np.float32)\n",
    "x4 = cp.random.random(size, dtype=np.float32)\n",
    "x5 = cp.random.random(size, dtype=np.float32)\n",
    "\n",
    "selection_size = np.int32(1000)\n",
    "scale = np.int32(size//selection_size)\n",
    "p = cp.zeros((selection_size, 3), dtype=np.float32)\n",
    "d = cp.zeros((selection_size, 3), dtype=np.float32)\n",
    "\n",
    "select_and_stack((32,),(32,),(x0, x1, x2, x3, x4, x5,\n",
    "                              p, d,\n",
    "                              selection_size, scale))"
   ]
  },
  {
   "cell_type": "code",
   "execution_count": null,
   "id": "62587e22",
   "metadata": {},
   "outputs": [],
   "source": [
    "%%timeit\n",
    "select_and_stack((32,),(32,),(x0, x1, x2, x3, x4, x5,\n",
    "                              p, d,\n",
    "                              selection_size, scale))"
   ]
  },
  {
   "cell_type": "code",
   "execution_count": null,
   "id": "ff0f409a",
   "metadata": {},
   "outputs": [],
   "source": [
    "print(p)"
   ]
  },
  {
   "cell_type": "code",
   "execution_count": null,
   "id": "698e942a",
   "metadata": {},
   "outputs": [],
   "source": [
    "import k3d\n",
    "import numpy as np\n",
    "plot = k3d.plot()\n",
    "plot += k3d.vectors(p.get(), d.get())\n",
    "plot += k3d.vectors(p.get(), d.get())\n",
    "plot.display()"
   ]
  },
  {
   "cell_type": "code",
   "execution_count": null,
   "id": "4a4e261f",
   "metadata": {},
   "outputs": [],
   "source": [
    "import cupy as cp\n",
    "import numpy as np\n",
    "size = np.int32(100000000)\n",
    "x0 = cp.random.random(size, dtype=np.float32)\n"
   ]
  },
  {
   "cell_type": "code",
   "execution_count": null,
   "id": "d0506ee7",
   "metadata": {
    "scrolled": true
   },
   "outputs": [],
   "source": [
    "%%timeit\n",
    "x0.size"
   ]
  },
  {
   "cell_type": "code",
   "execution_count": null,
   "id": "6b41059d",
   "metadata": {
    "scrolled": true
   },
   "outputs": [],
   "source": [
    "%%timeit\n",
    "len(x0)"
   ]
  },
  {
   "cell_type": "code",
   "execution_count": null,
   "id": "846918d2",
   "metadata": {
    "scrolled": true
   },
   "outputs": [],
   "source": [
    "%%timeit\n",
    "x0.shape[0]"
   ]
  },
  {
   "cell_type": "markdown",
   "id": "4027492e",
   "metadata": {},
   "source": [
    "---\n",
    "\n",
    "### curand in an elementwise kernel with a preallocated inoutvar and no return"
   ]
  },
  {
   "cell_type": "code",
   "execution_count": null,
   "id": "01ab49dd",
   "metadata": {
    "scrolled": true
   },
   "outputs": [],
   "source": [
    "import cupy as cp\n",
    "import numpy as np\n",
    "\n",
    "make_rand = cp.ElementwiseKernel(\n",
    "    in_params = 'raw uint64 seed',\n",
    "    out_params = 'float32 z',\n",
    "    preamble = \"\"\"\n",
    "    #include <curand.h>\n",
    "    #include <curand_kernel.h>\n",
    "    \"\"\",\n",
    "    loop_prep = \"\"\"\n",
    "    int idx = threadIdx.x + blockIdx.x * blockDim.x;\n",
    "    curandState state;\n",
    "    curand_init(seed, idx, 0, &state);\n",
    "    \"\"\",\n",
    "    operation = \"\"\"\n",
    "    z = curand_uniform(&state);\n",
    "    \"\"\",\n",
    "    no_return = True)\n",
    "\n",
    "size = 16\n",
    "z = cp.empty(size, dtype=np.float32)\n",
    "seed = np.random.default_rng().integers(1, np.iinfo(np.uint64).max, dtype=np.uint64)\n",
    "make_rand(seed, z)\n",
    "print(z)"
   ]
  },
  {
   "cell_type": "code",
   "execution_count": null,
   "id": "7dfdb051",
   "metadata": {},
   "outputs": [],
   "source": [
    "size = 10000000\n",
    "z = cp.empty(size, dtype=np.float32)"
   ]
  },
  {
   "cell_type": "code",
   "execution_count": null,
   "id": "439a2fca",
   "metadata": {},
   "outputs": [],
   "source": [
    "%%time\n",
    "# 157 us\n",
    "make_rand(seed, z)"
   ]
  },
  {
   "cell_type": "code",
   "execution_count": null,
   "id": "da64aebb",
   "metadata": {},
   "outputs": [],
   "source": [
    "print(z)"
   ]
  },
  {
   "cell_type": "markdown",
   "id": "459b13bb",
   "metadata": {},
   "source": [
    "---"
   ]
  },
  {
   "cell_type": "code",
   "execution_count": null,
   "id": "9ec4f88e",
   "metadata": {
    "scrolled": true
   },
   "outputs": [],
   "source": [
    "from optics_cuda import *\n",
    "import numpy as np\n",
    "\n",
    "propagate = cp.ElementwiseKernel(\n",
    "    in_params = 'raw uint64 seed, raw float32 absorption, raw float32 height, raw float32 size',\n",
    "    out_params = 'float32 r_x, float32 r_y, float32 r_z, float32 ez_x, float32 ez_y, float32 ez_z, bool alive',\n",
    "    preamble = \"\"\"\n",
    "    #include <curand.h>\n",
    "    #include <curand_kernel.h>\"\"\",\n",
    "    loop_prep = \"\"\"\n",
    "    int idx = threadIdx.x + blockIdx.x * blockDim.x;\n",
    "    curandState state;\n",
    "    curand_init(seed, idx, 0, &state);\"\"\",\n",
    "    operation = \"\"\"\n",
    "    if (!alive) continue;\n",
    "    if (ez_z < 0) {\n",
    "        alive = false;\n",
    "        continue;\n",
    "    }\n",
    "    r_x = r_x + height * ez_x / ez_z;\n",
    "    r_y = r_y + height * ez_y / ez_z;\n",
    "    r_z = height;\n",
    "    \n",
    "    bool done_reflecting = false;\n",
    "    while (!done_reflecting) {\n",
    "        if (r_x < -size / 2) {\n",
    "            r_x = -size - r_x;\n",
    "            ez_x *= -1;\n",
    "            // er_x *= -1; // no more persistent perpendicular\n",
    "            if (curand_uniform(&state) < absorption) break;\n",
    "        } else if (r_x > size / 2) {\n",
    "            r_x = size - r_x;\n",
    "            ez_x *= -1;\n",
    "            // er_x *= -1;\n",
    "            if (curand_uniform(&state) < absorption) break;\n",
    "        } else if (r_y < -size / 2) {\n",
    "            r_y = -size - r_y;\n",
    "            ez_y *= -1;\n",
    "            // er_y *= -1;\n",
    "            if (curand_uniform(&state) < absorption) break;\n",
    "        } else if (r_y > size / 2) {\n",
    "            r_y = size - r_y;\n",
    "            ez_y *= -1;\n",
    "            // er_y *= -1;\n",
    "            if (curand_uniform(&state) < absorption) break;\n",
    "        }\n",
    "        if (r_x >= -size / 2 && r_x <= size / 2 && r_y >= -size / 2 && r_y <= size / 2)\n",
    "            done_reflecting = true;\n",
    "    }\n",
    "    if (!done_reflecting) {\n",
    "        alive = false;\n",
    "    }\n",
    "    \"\"\",\n",
    "    no_return = True)\n",
    "\n",
    "lightbox_height = np.float32(400)\n",
    "lightbox_size = np.float32(400)\n",
    "photon_count = np.int32(25000000)\n",
    "source_size = np.float32(10)\n",
    "photons = LambertianSource(source_size, source_size).make_photons(photon_count)\n",
    "\n",
    "source_sample = photons.sample()\n",
    "\n",
    "print(f\" R X: {photons.r_x}\")\n",
    "print(f\" R Y: {photons.r_y}\")\n",
    "print(f\" R Z: {photons.r_z}\")\n",
    "print(f\"EZ X: {photons.ez_x}\")\n",
    "print(f\"EZ Y: {photons.ez_y}\")\n",
    "print(f\"EZ Z: {photons.ez_z}\")\n",
    "print(f\"ALIVE: {photons.alive}\")\n",
    "\n",
    "seed = np.random.default_rng().integers(1, np.iinfo(np.uint64).max, dtype=np.uint64)\n",
    "absorption = np.float32(0.1)\n",
    "\n",
    "\n",
    "\n"
   ]
  },
  {
   "cell_type": "code",
   "execution_count": null,
   "id": "c3d8034e",
   "metadata": {},
   "outputs": [],
   "source": [
    "%%time\n",
    "propagate(seed, absorption, lightbox_height, lightbox_size,\n",
    "         photons.r_x, photons.r_y, photons.r_z,\n",
    "         photons.ez_x, photons.ez_y, photons.ez_z,\n",
    "         photons.alive)"
   ]
  },
  {
   "cell_type": "code",
   "execution_count": null,
   "id": "40efbce3",
   "metadata": {},
   "outputs": [],
   "source": [
    "%time\n",
    "# 3 us, how can that be?\n",
    "photons.prune()\n",
    "#photons.r_x = cp.compress(photons.alive, photons.r_x)\n",
    "#photons.r_y = cp.compress(photons.alive, photons.r_y)\n",
    "#photons.r_z = cp.compress(photons.alive, photons.r_z)\n",
    "#photons.ez_x = cp.compress(photons.alive, photons.ez_x)\n",
    "#photons.ez_y = cp.compress(photons.alive, photons.ez_y)\n",
    "#photons.ez_z = cp.compress(photons.alive, photons.ez_z)\n",
    "#photons.alive = cp.compress(photons.alive, photons.alive)"
   ]
  },
  {
   "cell_type": "code",
   "execution_count": null,
   "id": "55754334",
   "metadata": {},
   "outputs": [],
   "source": [
    "\n",
    "print(f\" R X: {photons.r_x}\")\n",
    "print(f\" R Y: {photons.r_y}\")\n",
    "print(f\" R Z: {photons.r_z}\")\n",
    "print(f\"EZ X: {photons.ez_x}\")\n",
    "print(f\"EZ Y: {photons.ez_y}\")\n",
    "print(f\"EZ Z: {photons.ez_z}\")\n",
    "print(f\"ALIVE: {photons.alive}\")\n",
    "print(f\"count: {len(photons.alive)}\")"
   ]
  },
  {
   "cell_type": "code",
   "execution_count": null,
   "id": "f573c75f",
   "metadata": {
    "scrolled": false
   },
   "outputs": [],
   "source": [
    "from viz_cuda import *\n",
    "source_box = [-source_size/2, source_size/2, -source_size/2, source_size/2, 0]\n",
    "lightbox_box = [-lightbox_size/2, lightbox_size/2, -lightbox_size/2, lightbox_size/2, lightbox_height]\n",
    "diff_sample = photons.sample()\n",
    "plot_3d([source_sample, diff_sample], ray_lengths=[100, 100],\n",
    "        boxes=[source_box, lightbox_box], labels=['LED','diffuser'], colors=[0xffff00, 0x00ffff])"
   ]
  },
  {
   "cell_type": "markdown",
   "id": "145e1670",
   "metadata": {},
   "source": [
    "---"
   ]
  },
  {
   "cell_type": "code",
   "execution_count": null,
   "id": "9d363f8f",
   "metadata": {},
   "outputs": [],
   "source": [
    "import cupy as cp\n",
    "import numpy as np\n",
    "\n",
    "size = 10000000\n",
    "x = cp.ones(size, dtype=np.float32)\n",
    "b = cp.random.default_rng().integers(2,size=size).astype(bool)\n",
    "print(x)\n",
    "print(len(x))\n",
    "y = x[b]\n",
    "print(y)\n",
    "print(len(y))"
   ]
  },
  {
   "cell_type": "code",
   "execution_count": null,
   "id": "36ce8793",
   "metadata": {},
   "outputs": [],
   "source": [
    "%%timeit\n",
    "y = x[b]"
   ]
  },
  {
   "cell_type": "code",
   "execution_count": null,
   "id": "91fae8f9",
   "metadata": {},
   "outputs": [],
   "source": [
    "x[b]=0"
   ]
  },
  {
   "cell_type": "code",
   "execution_count": null,
   "id": "fad13035",
   "metadata": {},
   "outputs": [],
   "source": [
    "print(x)"
   ]
  },
  {
   "cell_type": "code",
   "execution_count": null,
   "id": "48b90580",
   "metadata": {
    "scrolled": true
   },
   "outputs": [],
   "source": [
    "a = cp.argsort(x)\n",
    "print(a)"
   ]
  },
  {
   "cell_type": "code",
   "execution_count": null,
   "id": "e8d459c7",
   "metadata": {},
   "outputs": [],
   "source": [
    "%%timeit\n",
    "a = cp.argsort(x)"
   ]
  },
  {
   "cell_type": "code",
   "execution_count": null,
   "id": "7e26ebca",
   "metadata": {
    "scrolled": true
   },
   "outputs": [],
   "source": [
    "z = cp.compress(b, x)\n",
    "print(z)\n",
    "print(len(z))"
   ]
  },
  {
   "cell_type": "code",
   "execution_count": null,
   "id": "e7dbb386",
   "metadata": {},
   "outputs": [],
   "source": [
    "%%timeit\n",
    "z = cp.compress(b, x)"
   ]
  },
  {
   "cell_type": "markdown",
   "id": "ee4fc74a",
   "metadata": {},
   "source": [
    "---"
   ]
  },
  {
   "cell_type": "code",
   "execution_count": null,
   "id": "d0f9ee00",
   "metadata": {},
   "outputs": [],
   "source": [
    "import numpy as np\n",
    "import cupy as cp\n",
    "\n",
    "xn = np.ones(1000, dtype=np.float32)\n",
    "xc = np.ones(1000, dtype=np.float32)"
   ]
  },
  {
   "cell_type": "code",
   "execution_count": null,
   "id": "e19b6ca3",
   "metadata": {},
   "outputs": [],
   "source": [
    "%%timeit\n",
    "xn * 2"
   ]
  },
  {
   "cell_type": "code",
   "execution_count": null,
   "id": "dff4c383",
   "metadata": {},
   "outputs": [],
   "source": [
    "%%timeit\n",
    "xc * 2"
   ]
  },
  {
   "cell_type": "code",
   "execution_count": null,
   "id": "03f3564e",
   "metadata": {},
   "outputs": [],
   "source": [
    "#profiler = Profiler()\n",
    "#profiler.start()\n",
    "#\n",
    "#donothing(x, y)\n",
    "#\n",
    "#session = profiler.stop()\n",
    "#profile_renderer = ConsoleRenderer(unicode=True, color=True, show_all=True, time='percent_of_total')\n",
    "#print(profile_renderer.render(session))"
   ]
  },
  {
   "cell_type": "markdown",
   "id": "97e6d0de",
   "metadata": {},
   "source": [
    "---"
   ]
  },
  {
   "cell_type": "code",
   "execution_count": null,
   "id": "8d465b10",
   "metadata": {
    "scrolled": false
   },
   "outputs": [],
   "source": [
    "import cupy as cp\n",
    "import numpy as np\n",
    "from cupyx import jit\n",
    "import math\n",
    "from pyinstrument import Profiler\n",
    "from pyinstrument.renderers import ConsoleRenderer\n",
    "\n",
    "@cp.fuse()\n",
    "def donothing_fused(x, y):\n",
    "    return x+y\n",
    "#    if x:\n",
    "#        return x\n",
    "#    else:\n",
    "#        return y\n",
    "\n",
    "@cp.fuse()\n",
    "def trick_fused(x,y):\n",
    "    cp.add(x,y,out=y)\n",
    "#    if x:\n",
    "#        cp.add(x,False,out=y)\n",
    "    \n",
    "@jit.rawkernel()\n",
    "def rawnothing_jit(x,y):\n",
    "    tid = jit.blockIdx.x * jit.blockDim.x + jit.threadIdx.x\n",
    "    ntid = jit.gridDim.x * jit.blockDim.x\n",
    "    for i in range(tid, size, ntid):\n",
    "        y[i] = x[i] + y[i]\n",
    "#        if x[i]:\n",
    "#            y[i] = x[i]\n",
    "\n",
    "donothing_elementwise = cp.ElementwiseKernel(\n",
    "    in_params='bool x',\n",
    "    out_params = 'bool y',\n",
    "    operation = \"\"\"\n",
    "    y = x + y\n",
    "    //    if (x) y = x\n",
    "    \"\"\",\n",
    "    no_return = True)\n",
    "\n",
    "donothing_elementwise_raw = cp.ElementwiseKernel(\n",
    "    in_params='raw uint8 x',\n",
    "    out_params = 'raw uint8 y',\n",
    "    operation = \"\"\"\n",
    "    y[i] = x[i] + y[i]\n",
    "    //    if (x[i]) y[i] = x[i]\n",
    "    \"\"\",\n",
    "    no_return = True)\n",
    "\n",
    "really_raw = cp.RawKernel(r'''\n",
    "extern \"C\" __global__\n",
    "void really_raw(const bool* x1, bool* x2, unsigned int N) {\n",
    "    int tid = blockDim.x * blockIdx.x + threadIdx.x;\n",
    "    if (tid < N) {\n",
    "        x2[tid] = x1[tid] + x2[tid];\n",
    "        //        if (x1[tid]) x2[tid] = x1[tid];\n",
    "    }\n",
    "}\n",
    "''', 'really_raw')\n",
    "\n",
    "size = 30000000"
   ]
  },
  {
   "cell_type": "code",
   "execution_count": null,
   "id": "7d02ff3e",
   "metadata": {},
   "outputs": [],
   "source": [
    "x = cp.random.randint(2, size=size).astype(bool)\n",
    "y = cp.zeros(size, dtype=bool)\n",
    "print(cp.sum(x))\n",
    "print(cp.sum(y))\n",
    "\n",
    "profiler = Profiler()\n",
    "profiler.start()\n",
    "\n",
    "iter = 2000\n",
    "for i in range(iter):\n",
    "    trick_fused(x, y)\n",
    "    cp.cuda.Device().synchronize()\n",
    "\n",
    "session = profiler.stop()\n",
    "profile_renderer = ConsoleRenderer(unicode=True, color=True, show_all=True)\n",
    "print(profile_renderer.render(session))\n",
    "print(f\"duration microsec: {1e6*session.root_frame().time()/iter}\")\n",
    "\n",
    "print(cp.sum(x))\n",
    "print(cp.sum(y))"
   ]
  },
  {
   "cell_type": "code",
   "execution_count": null,
   "id": "97dc2e4e",
   "metadata": {
    "scrolled": true
   },
   "outputs": [],
   "source": [
    "x = cp.random.randint(2, size=size).astype(bool)\n",
    "y = cp.zeros(size, dtype=bool)\n",
    "y2 = cp.zeros(size, dtype=bool)\n",
    "print(cp.sum(x))\n",
    "print(cp.sum(y))\n",
    "print(cp.sum(y2))\n",
    "\n",
    "profiler = Profiler()\n",
    "profiler.start()\n",
    "\n",
    "iter = 2000\n",
    "for i in range(iter):\n",
    "    y2 = donothing_fused(x, y)\n",
    "    cp.cuda.Device().synchronize()\n",
    "cp.cuda.Device().synchronize()\n",
    "\n",
    "session = profiler.stop()\n",
    "profile_renderer = ConsoleRenderer(unicode=True, color=True, show_all=True)\n",
    "print(profile_renderer.render(session))\n",
    "print(f\"duration microsec: {1e6*session.root_frame().time()/iter}\")\n",
    "\n",
    "\n",
    "print(cp.sum(x))\n",
    "print(cp.sum(y))\n",
    "print(cp.sum(y2))\n",
    "print(len(x))\n",
    "print(len(y))\n",
    "print(len(y2))"
   ]
  },
  {
   "cell_type": "code",
   "execution_count": null,
   "id": "f76e7a4e",
   "metadata": {},
   "outputs": [],
   "source": [
    "x = cp.random.randint(2, size=size).astype(bool)\n",
    "y = cp.zeros(size, dtype=bool)\n",
    "print(cp.sum(y))\n",
    "\n",
    "profiler = Profiler()\n",
    "profiler.start()\n",
    "\n",
    "iter = 2000\n",
    "for i in range(iter):\n",
    "    rawnothing_jit((1024,),(1024,),(x,y))\n",
    "    cp.cuda.Device().synchronize()\n",
    "\n",
    "session = profiler.stop()\n",
    "profile_renderer = ConsoleRenderer(unicode=True, color=True, show_all=True)\n",
    "print(profile_renderer.render(session))\n",
    "print(f\"duration microsec: {1e6*session.root_frame().time()/iter}\")\n",
    "\n",
    "print(cp.sum(x))\n",
    "print(cp.sum(y))\n",
    "print(cp.sum(y2))"
   ]
  },
  {
   "cell_type": "code",
   "execution_count": null,
   "id": "623b8350",
   "metadata": {
    "scrolled": true
   },
   "outputs": [],
   "source": [
    "x = cp.random.randint(2, size=size).astype(bool)\n",
    "y = cp.zeros(size, dtype=bool)\n",
    "print(cp.sum(x))\n",
    "print(cp.sum(y))\n",
    "\n",
    "profiler = Profiler()\n",
    "profiler.start()\n",
    "\n",
    "iter = 2000\n",
    "for i in range(iter):\n",
    "    donothing_elementwise(x,y)\n",
    "cp.cuda.Device().synchronize()\n",
    "\n",
    "session = profiler.stop()\n",
    "profile_renderer = ConsoleRenderer(unicode=True, color=True, show_all=True)\n",
    "print(profile_renderer.render(session))\n",
    "print(f\"duration microsec: {1e6*session.root_frame().time()/iter}\")\n",
    "\n",
    "print(cp.sum(x))\n",
    "print(cp.sum(y))\n",
    "print(cp.sum(y2))"
   ]
  },
  {
   "cell_type": "code",
   "execution_count": null,
   "id": "2b2fafc5",
   "metadata": {
    "scrolled": true
   },
   "outputs": [],
   "source": [
    "x = cp.random.randint(2, size=size, dtype=np.uint8)\n",
    "y = cp.zeros(size, dtype=np.uint8)\n",
    "print(cp.sum(x))\n",
    "print(cp.sum(y))\n",
    "\n",
    "\n",
    "profiler = Profiler()\n",
    "profiler.start()\n",
    "\n",
    "iter = 2000\n",
    "for i in range(iter):\n",
    "    donothing_elementwise_raw(x,y,size=size)\n",
    "cp.cuda.Device().synchronize()\n",
    "\n",
    "session = profiler.stop()\n",
    "profile_renderer = ConsoleRenderer(unicode=True, color=True, show_all=True)\n",
    "print(profile_renderer.render(session))\n",
    "print(f\"duration microsec: {1e6*session.root_frame().time()/iter}\")\n",
    "\n",
    "print(cp.sum(x))\n",
    "print(cp.sum(y))"
   ]
  },
  {
   "cell_type": "code",
   "execution_count": null,
   "id": "479d927f",
   "metadata": {},
   "outputs": [],
   "source": [
    "x = cp.random.randint(2, size=size).astype(bool)\n",
    "print(x)\n",
    "print(cp.sum(x))\n",
    "y = cp.zeros(size, dtype=bool)\n",
    "print(y)\n",
    "print(cp.sum(y))\n",
    "\n",
    "block_size = 1024 # max\n",
    "grid_size = int(math.ceil(size/block_size))\n",
    "\n",
    "profiler = Profiler()\n",
    "profiler.start()\n",
    "\n",
    "iter = 1000\n",
    "for i in range(iter):\n",
    "    really_raw((grid_size,),(block_size,),(x,y, np.uint32(size)))\n",
    "cp.cuda.Device().synchronize()\n",
    "\n",
    "session = profiler.stop()\n",
    "profile_renderer = ConsoleRenderer(unicode=True, color=True, show_all=True)\n",
    "print(profile_renderer.render(session))\n",
    "print(f\"duration microsec: {1e6*session.root_frame().time()/iter}\")\n",
    "\n",
    "print(cp.sum(x))\n",
    "print(cp.sum(y))"
   ]
  },
  {
   "cell_type": "code",
   "execution_count": null,
   "id": "6123e9d3",
   "metadata": {},
   "outputs": [],
   "source": [
    "x = cp.random.randint(2, size=size).astype(bool)\n",
    "print(x)\n",
    "print(cp.sum(x))\n",
    "y = cp.zeros(size, dtype=bool)\n",
    "print(y)\n",
    "print(cp.sum(y))\n",
    "\n",
    "profiler = Profiler()\n",
    "profiler.start()\n",
    "\n",
    "iter = 2000\n",
    "for i in range(iter):\n",
    "    y = cp.where(x, x, y)\n",
    "cp.cuda.Device().synchronize()\n",
    "\n",
    "session = profiler.stop()\n",
    "profile_renderer = ConsoleRenderer(unicode=True, color=True, show_all=True)\n",
    "print(profile_renderer.render(session))\n",
    "print(f\"duration microsec: {1e6*session.root_frame().time()/iter}\")\n",
    "\n",
    "print(cp.sum(x))\n",
    "print(cp.sum(y))\n",
    "print(len(x))\n",
    "print(len(y))"
   ]
  },
  {
   "cell_type": "code",
   "execution_count": null,
   "id": "a948eeea",
   "metadata": {},
   "outputs": [],
   "source": [
    "x = cp.random.randint(2, size=size).astype(bool)\n",
    "print(x)\n",
    "print(cp.sum(x))\n",
    "y = cp.zeros(size, dtype=bool)\n",
    "print(y)\n",
    "print(cp.sum(y))\n",
    "\n",
    "profiler = Profiler()\n",
    "profiler.start()\n",
    "\n",
    "iter = 2000\n",
    "for i in range(iter):\n",
    "    cp.place(y, x, True)\n",
    "cp.cuda.Device().synchronize()\n",
    "\n",
    "session = profiler.stop()\n",
    "profile_renderer = ConsoleRenderer(unicode=True, color=True, show_all=True)\n",
    "print(profile_renderer.render(session))\n",
    "print(f\"duration microsec: {1e6*session.root_frame().time()/iter}\")\n",
    "\n",
    "print(cp.sum(x))\n",
    "print(cp.sum(y))\n",
    "print(len(x))\n",
    "print(len(y))"
   ]
  },
  {
   "cell_type": "code",
   "execution_count": null,
   "id": "2f59ef2c",
   "metadata": {},
   "outputs": [],
   "source": [
    "x = cp.random.randint(2, size=size).astype(bool)\n",
    "print(x)\n",
    "print(cp.sum(x))\n",
    "y = cp.zeros(size, dtype=bool)\n",
    "print(y)\n",
    "print(cp.sum(y))\n",
    "\n",
    "profiler = Profiler()\n",
    "profiler.start()\n",
    "\n",
    "iter = 2000\n",
    "for i in range(iter):\n",
    "    cp.copyto(y, x)\n",
    "cp.cuda.Device().synchronize()\n",
    "\n",
    "session = profiler.stop()\n",
    "profile_renderer = ConsoleRenderer(unicode=True, color=True, show_all=True)\n",
    "print(profile_renderer.render(session))\n",
    "print(f\"duration microsec: {1e6*session.root_frame().time()/iter}\")\n",
    "\n",
    "print(cp.sum(x))\n",
    "print(cp.sum(y))\n",
    "print(len(x))\n",
    "print(len(y))"
   ]
  },
  {
   "cell_type": "code",
   "execution_count": null,
   "id": "58ce27de",
   "metadata": {},
   "outputs": [],
   "source": [
    "x = cp.random.randint(2, size=size).astype(bool)\n",
    "\n",
    "profiler = Profiler()\n",
    "profiler.start()\n",
    "\n",
    "iter = 2000\n",
    "for i in range(iter):\n",
    "    cp.count_nonzero(x)\n",
    "cp.cuda.Device().synchronize()\n",
    "\n",
    "session = profiler.stop()\n",
    "profile_renderer = ConsoleRenderer(unicode=True, color=True, show_all=True)\n",
    "print(profile_renderer.render(session))\n",
    "print(f\"duration microsec: {1e6*session.root_frame().time()/iter}\")"
   ]
  },
  {
   "cell_type": "code",
   "execution_count": null,
   "id": "d2c3e84a",
   "metadata": {},
   "outputs": [],
   "source": [
    "x = cp.random.randint(2, size=size).astype(bool)\n",
    "\n",
    "profiler = Profiler()\n",
    "profiler.start()\n",
    "\n",
    "iter = 2000\n",
    "for i in range(iter):\n",
    "    cp.sum(x)\n",
    "cp.cuda.Device().synchronize()\n",
    "\n",
    "session = profiler.stop()\n",
    "profile_renderer = ConsoleRenderer(unicode=True, color=True, show_all=True)\n",
    "print(profile_renderer.render(session))\n",
    "print(f\"duration microsec: {1e6*session.root_frame().time()/iter}\")"
   ]
  },
  {
   "cell_type": "code",
   "execution_count": null,
   "id": "0697aabc",
   "metadata": {},
   "outputs": [],
   "source": [
    "size = 30000000\n",
    "\n",
    "profiler = Profiler()\n",
    "profiler.start()\n",
    "\n",
    "iter = 2000\n",
    "for i in range(iter):\n",
    "    x = cp.random.random(size, dtype=float32)\n",
    "cp.cuda.Device().synchronize()\n",
    "\n",
    "session = profiler.stop()\n",
    "profile_renderer = ConsoleRenderer(unicode=True, color=True, show_all=True)\n",
    "print(profile_renderer.render(session))\n",
    "print(f\"duration microsec: {1e6*session.root_frame().time()/iter}\")"
   ]
  },
  {
   "cell_type": "markdown",
   "id": "bd9e4c63",
   "metadata": {},
   "source": [
    "---"
   ]
  },
  {
   "cell_type": "code",
   "execution_count": null,
   "id": "2b5f0aa2",
   "metadata": {
    "scrolled": false
   },
   "outputs": [],
   "source": [
    "# compute simple reflections without conditionals\n",
    "import cupy as cp\n",
    "import matplotlib.pyplot as plt\n",
    "\n",
    "x = cp.linspace(-5,5,101) # position of ray at top surface relative to center\n",
    "\n",
    "reflection_count = cp.abs(cp.round(x))\n",
    "plt.figure(figsize=[10,5])\n",
    "plt.plot(x.get(), reflection_count.get())\n",
    "plt.title(\"reflection count\")\n",
    "\n",
    "absorption = 0.1\n",
    "photon_survival = cp.power((1-absorption), reflection_count)\n",
    "plt.figure(figsize=[10,5])\n",
    "plt.plot(x.get(), photon_survival.get())\n",
    "plt.title(\"photon survival\")\n",
    "\n",
    "# where does the ray appear? (https://en.wikipedia.org/wiki/Triangle_wave)\n",
    "new_position = cp.abs(cp.mod(x - 0.5, 2) - 1) - 0.5\n",
    "plt.figure(figsize=[10,5])\n",
    "plt.plot( x.get(), new_position.get())\n",
    "plt.title(\"new position\")\n",
    "\n",
    "# with what direction? https://en.wikipedia.org/wiki/Square_wave\n",
    "#new_direction = 2 *( 2 * cp.floor((x + 0.5) / period) - cp.floor(2 * (x + 0.5) / period)) + 1\n",
    "new_direction = 1 - 2 * cp.mod(reflection_count,2)\n",
    "plt.figure(figsize=[10,5])\n",
    "plt.plot(x.get(), new_direction.get())\n",
    "plt.title(\"new direction\")"
   ]
  },
  {
   "cell_type": "code",
   "execution_count": null,
   "id": "14e8e0a3",
   "metadata": {},
   "outputs": [],
   "source": [
    "import cupy as cp\n",
    "import math\n",
    "import matplotlib.pyplot as plt\n",
    "\n",
    "# an example\n",
    "\n",
    "r_x = 0\n",
    "r_y = 0\n",
    "r_z = 0\n",
    "# 45 degrees should reflect once and emerge at the center with ez_x reversed\n",
    "ez_x = 2.2\n",
    "ez_z = 1\n",
    "ez_y = 0\n",
    "n = math.sqrt(ez_x **2 + ez_y ** 2 + ez_z ** 2)\n",
    "ez_x = ez_x/n\n",
    "ez_y = ez_y/n\n",
    "ez_z = ez_z/n\n",
    "\n",
    "print(f\"r_x {r_x}\")\n",
    "print(f\"r_y {r_y}\")\n",
    "print(f\"r_z {r_z}\")\n",
    "print(f\"ez_x {ez_x}\")\n",
    "print(f\"ez_y {ez_y}\")\n",
    "print(f\"ez_z {ez_z}\")\n",
    "\n",
    "\n",
    "absorption = 0.1\n",
    "height = 0.04 # cm\n",
    "width = 0.04 # cm\n",
    "\n",
    "# assume all the photons come from the center because it's close to being correct and simplifies the math.\n",
    "\n",
    "r_x_tmp = r_x + height * ez_x/ez_z\n",
    "r_y_tmp = r_y + height * ez_y/ez_z\n",
    "print(f\"r_x_tmp {r_x_tmp}\")\n",
    "print(f\"r_y_tmp {r_y_tmp}\")\n",
    "\n",
    "r_x_box_widths = r_x_tmp/width\n",
    "print(f\"r_x_box_widths {r_x_box_widths}\")\n",
    "r_y_box_widths = r_y_tmp/width\n",
    "print(f\"r_y_box_widths {r_y_box_widths}\")\n",
    "\n",
    "\n",
    "\n",
    "\n",
    "reflection_count_x = cp.abs(cp.round(r_x_box_widths))\n",
    "print(f\"reflection_count_x {reflection_count_x}\")\n",
    "\n",
    "new_position_x = 2 * cp.abs(cp.mod(r_x_box_widths - 0.5, 2) - 1) - 1\n",
    "print(f\"new_position_x {new_position_x}\")\n",
    "new_direction_x = ez_x * (1 - 2 * cp.mod(reflection_count_x, 2))\n",
    "print(f\"new_direction_x {new_direction_x}\")\n",
    "\n",
    "reflection_count_y = cp.abs(cp.round(r_y_box_widths))\n",
    "print(f\"reflection_count_y {reflection_count_y}\")\n",
    "new_position_y = 2 * cp.abs(cp.mod(r_y_box_widths - 0.5, 2) - 1) - 1\n",
    "print(f\"new_position_y {new_position_y}\")\n",
    "new_direction_y = ez_y * (1 - 2 * cp.mod(reflection_count_y, 2))\n",
    "print(f\"new_direction_y {new_direction_y}\")\n",
    "\n",
    "total_reflection_count = reflection_count_x + reflection_count_y\n",
    "print(f\"total_reflection_count {total_reflection_count}\")\n",
    "photon_survival = cp.power((1-absorption), total_reflection_count)\n",
    "print(f\"photon_survival {photon_survival}\")\n",
    "alive = cp.logical_and(cp.less(cp.random.random(1), photon_survival), cp.greater(ez_z, 0))\n",
    "print(f\"alive {alive}\")\n"
   ]
  },
  {
   "cell_type": "code",
   "execution_count": null,
   "id": "9de82e2b",
   "metadata": {},
   "outputs": [],
   "source": []
  }
 ],
 "metadata": {
  "kernelspec": {
   "display_name": "Python 3",
   "language": "python",
   "name": "python3"
  },
  "language_info": {
   "codemirror_mode": {
    "name": "ipython",
    "version": 3
   },
   "file_extension": ".py",
   "mimetype": "text/x-python",
   "name": "python",
   "nbconvert_exporter": "python",
   "pygments_lexer": "ipython3",
   "version": "3.8.10"
  }
 },
 "nbformat": 4,
 "nbformat_minor": 5
}
