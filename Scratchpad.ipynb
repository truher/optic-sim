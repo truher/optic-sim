{
 "cells": [
  {
   "cell_type": "code",
   "execution_count": 9,
   "id": "6eb72b67",
   "metadata": {
    "scrolled": true
   },
   "outputs": [
    {
     "name": "stdout",
     "output_type": "stream",
     "text": [
      "[0.73879254 0.36430386 0.5560938  0.13465711 0.49230078 0.8651738\n",
      " 0.01775549 0.39530468 0.26143515 0.01097945]\n",
      "[0.96701926 0.31582886 0.45942357 0.02675973 0.44531643 0.38146228\n",
      " 0.26420838 0.38977566 0.22158593 0.36414465]\n",
      "[0.96701926 0.31582886 0.45942357 0.02675973 0.44531643 0.38146228\n",
      " 0.26420838 0.38977566 0.22158593 0.36414465]\n",
      "[0.73879254 0.36430386 0.5560938  0.13465711 0.49230078 0.8651738\n",
      " 0.01775549 0.39530468 0.26143515 0.01097945]\n"
     ]
    }
   ],
   "source": [
    "# you can call a function \"on device\"\n",
    "import numpy as np\n",
    "import cupy as cp\n",
    "from cupyx import jit\n",
    "\n",
    "@jit.rawkernel(device=True)\n",
    "def do_a_thing(x, y):\n",
    "    return (y, x)\n",
    "    \n",
    "@jit.rawkernel()\n",
    "def do_more_things(x, y, size):\n",
    "    tid = jit.blockIdx.x * jit.blockDim.x + jit.threadIdx.x\n",
    "    ntid = jit.gridDim.x * jit.blockDim.x\n",
    "    for i in range(tid, size, ntid):\n",
    "        (x[i], y[i]) = do_a_thing(x[i], y[i])\n",
    "\n",
    "size = 10\n",
    "x = cp.random.random(size, dtype=np.float32)\n",
    "y = cp.random.random(size, dtype=np.float32)\n",
    "\n",
    "print(x)\n",
    "print(y)\n",
    "\n",
    "do_more_things((128,),(1024,),(x, y, size))\n",
    "\n",
    "print(x)\n",
    "print(y)\n"
   ]
  },
  {
   "cell_type": "code",
   "execution_count": 26,
   "id": "586a4786",
   "metadata": {},
   "outputs": [
    {
     "name": "stdout",
     "output_type": "stream",
     "text": [
      "[0.17959814 0.42873758 0.77541053 0.8213136  0.8284943 ]\n",
      "[0.8979907 2.143688  3.8770528 4.1065683 4.1424713]\n",
      "[0. 0. 0. 0. 0.]\n"
     ]
    }
   ],
   "source": [
    "# python float scalar type doesn't work, use numpy type\n",
    "import numpy as np\n",
    "import cupy as cp\n",
    "from cupyx import jit\n",
    "\n",
    "@jit.rawkernel()\n",
    "def scalar_multiply(a, m, size):\n",
    "    tid = jit.blockIdx.x * jit.blockDim.x + jit.threadIdx.x\n",
    "    ntid = jit.gridDim.x * jit.blockDim.x\n",
    "    for i in range(tid, size, ntid):\n",
    "        a[i] = a[i] * m\n",
    "\n",
    "size = 5\n",
    "a = cp.random.random(size, dtype=np.float32)\n",
    "\n",
    "print(a)\n",
    "scalar_multiply((128,),(1024,),(a, np.float32(5.0), size))\n",
    "print(a)\n",
    "scalar_multiply((128,),(1024,),(a, 5.0, size))\n",
    "print(a)"
   ]
  },
  {
   "cell_type": "code",
   "execution_count": 117,
   "id": "c3bbb469",
   "metadata": {},
   "outputs": [
    {
     "name": "stdout",
     "output_type": "stream",
     "text": [
      "CPU times: user 153 µs, sys: 87 µs, total: 240 µs\n",
      "Wall time: 176 µs\n"
     ]
    }
   ],
   "source": [
    "%%time\n",
    "x = cp.random.random(10000000, dtype=np.float32) * 2"
   ]
  },
  {
   "cell_type": "code",
   "execution_count": 102,
   "id": "f97a73cc",
   "metadata": {},
   "outputs": [
    {
     "name": "stdout",
     "output_type": "stream",
     "text": [
      "CPU times: user 236 µs, sys: 0 ns, total: 236 µs\n",
      "Wall time: 181 µs\n"
     ]
    }
   ],
   "source": [
    "%%time\n",
    "y = cp.random.uniform(0, 2, 10000000, dtype=np.float32)"
   ]
  }
 ],
 "metadata": {
  "kernelspec": {
   "display_name": "Python 3",
   "language": "python",
   "name": "python3"
  },
  "language_info": {
   "codemirror_mode": {
    "name": "ipython",
    "version": 3
   },
   "file_extension": ".py",
   "mimetype": "text/x-python",
   "name": "python",
   "nbconvert_exporter": "python",
   "pygments_lexer": "ipython3",
   "version": "3.8.10"
  }
 },
 "nbformat": 4,
 "nbformat_minor": 5
}
