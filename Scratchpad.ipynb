{
 "cells": [
  {
   "cell_type": "code",
   "execution_count": 9,
   "id": "69418bc6",
   "metadata": {},
   "outputs": [
    {
     "name": "stdout",
     "output_type": "stream",
     "text": [
      "[0.73879254 0.36430386 0.5560938  0.13465711 0.49230078 0.8651738\n",
      " 0.01775549 0.39530468 0.26143515 0.01097945]\n",
      "[0.96701926 0.31582886 0.45942357 0.02675973 0.44531643 0.38146228\n",
      " 0.26420838 0.38977566 0.22158593 0.36414465]\n",
      "[0.96701926 0.31582886 0.45942357 0.02675973 0.44531643 0.38146228\n",
      " 0.26420838 0.38977566 0.22158593 0.36414465]\n",
      "[0.73879254 0.36430386 0.5560938  0.13465711 0.49230078 0.8651738\n",
      " 0.01775549 0.39530468 0.26143515 0.01097945]\n"
     ]
    }
   ],
   "source": [
    "import numpy as np\n",
    "import cupy as cp\n",
    "from cupyx import jit\n",
    "\n",
    "@jit.rawkernel(device=True)\n",
    "def do_a_thing(x, y):\n",
    "    return (y, x)\n",
    "    \n",
    "@jit.rawkernel()\n",
    "def do_more_things(x, y, size):\n",
    "    tid = jit.blockIdx.x * jit.blockDim.x + jit.threadIdx.x\n",
    "    ntid = jit.gridDim.x * jit.blockDim.x\n",
    "    for i in range(tid, size, ntid):\n",
    "        (x[i], y[i]) = do_a_thing(x[i], y[i])\n",
    "\n",
    "size = 10\n",
    "x = cp.random.random(size, dtype=np.float32)\n",
    "y = cp.random.random(size, dtype=np.float32)\n",
    "\n",
    "print(x)\n",
    "print(y)\n",
    "\n",
    "do_more_things((128,),(1024,),(x, y, size))\n",
    "\n",
    "print(x)\n",
    "print(y)\n"
   ]
  }
 ],
 "metadata": {
  "kernelspec": {
   "display_name": "Python 3",
   "language": "python",
   "name": "python3"
  },
  "language_info": {
   "codemirror_mode": {
    "name": "ipython",
    "version": 3
   },
   "file_extension": ".py",
   "mimetype": "text/x-python",
   "name": "python",
   "nbconvert_exporter": "python",
   "pygments_lexer": "ipython3",
   "version": "3.8.10"
  }
 },
 "nbformat": 4,
 "nbformat_minor": 5
}
